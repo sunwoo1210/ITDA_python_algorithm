{
 "cells": [
  {
   "cell_type": "markdown",
   "id": "fdc891d4",
   "metadata": {},
   "source": [
    "### level 3. for문\n",
    "#### 1. 구구단\n",
    "N을 입력받은 뒤, 구구단 N단을 출력하는 프로그램을 작성하시오. 출력 형식에 맞춰서 출력하면 된다."
   ]
  },
  {
   "cell_type": "code",
   "execution_count": 1,
   "id": "9b30e63d",
   "metadata": {},
   "outputs": [
    {
     "name": "stdout",
     "output_type": "stream",
     "text": [
      "5\n",
      "5  *  1  =  5\n",
      "5  *  2  =  10\n",
      "5  *  3  =  15\n",
      "5  *  4  =  20\n",
      "5  *  5  =  25\n",
      "5  *  6  =  30\n",
      "5  *  7  =  35\n",
      "5  *  8  =  40\n",
      "5  *  9  =  45\n"
     ]
    }
   ],
   "source": [
    "n = int(input())\n",
    "\n",
    "for i in range(1, 10):\n",
    "    print(n, \" * \", i, \" = \", n * i)"
   ]
  },
  {
   "cell_type": "markdown",
   "id": "f3b4bb8c",
   "metadata": {},
   "source": [
    "#### 2. A+B - 3\n",
    "두 정수 A와 B를 입력받은 다음, A+B를 출력하는 프로그램을 작성하시오."
   ]
  },
  {
   "cell_type": "code",
   "execution_count": 4,
   "id": "11ee9820",
   "metadata": {},
   "outputs": [
    {
     "name": "stdout",
     "output_type": "stream",
     "text": [
      "5\n",
      "1 1\n",
      "2\n",
      "2 3\n",
      "5\n",
      "3 4\n",
      "7\n",
      "4 5\n",
      "9\n",
      "6 3\n",
      "9\n"
     ]
    }
   ],
   "source": [
    "n = int(input())\n",
    "\n",
    "for i in range(n):\n",
    "    a,b = map(int, input().split())\n",
    "    print(a+b)\n",
    "    i += 1"
   ]
  },
  {
   "cell_type": "markdown",
   "id": "42a9ddec",
   "metadata": {},
   "source": [
    "#### 3. 합\n",
    "n이 주어졌을 때, 1부터 n까지 합을 구하는 프로그램을 작성하시오."
   ]
  },
  {
   "cell_type": "code",
   "execution_count": 5,
   "id": "616c6d42",
   "metadata": {},
   "outputs": [
    {
     "name": "stdout",
     "output_type": "stream",
     "text": [
      "3\n",
      "6\n"
     ]
    }
   ],
   "source": [
    "n = int(input())\n",
    "a = 0\n",
    "\n",
    "for i in range(0, n + 1):\n",
    "    a += i\n",
    "    i +=1\n",
    "print(a)"
   ]
  },
  {
   "cell_type": "markdown",
   "id": "c3b2e667",
   "metadata": {},
   "source": [
    "#### 4. 빠른 A+B\n",
    "본격적으로 for문 문제를 풀기 전에 주의해야 할 점이 있다. 입출력 방식이 느리면 여러 줄을 입력받거나 출력할 때 시간초과가 날 수 있다는 점이다. <br><br>\n",
    "C++을 사용하고 있고 cin/cout을 사용하고자 한다면, cin.tie(NULL)과 sync_with_stdio(false)를 둘 다 적용해 주고, endl 대신 개행문자(\\n)를 쓰자. 단, 이렇게 하면 더 이상 scanf/printf/puts/getchar/putchar 등 C의 입출력 방식을 사용하면 안 된다.<br><br>\n",
    "Java를 사용하고 있다면, Scanner와 System.out.println 대신 BufferedReader와 BufferedWriter를 사용할 수 있다. BufferedWriter.flush는 맨 마지막에 한 번만 하면 된다.<br><br>\n",
    "Python을 사용하고 있다면, input 대신 sys.stdin.readline을 사용할 수 있다. 단, 이때는 맨 끝의 개행문자까지 같이 입력받기 때문에 문자열을 저장하고 싶을 경우 .rstrip()을 추가로 해 주는 것이 좋다.<br><br>\n",
    "또한 입력과 출력 스트림은 별개이므로, 테스트케이스를 전부 입력받아서 저장한 뒤 전부 출력할 필요는 없다. 테스트케이스를 하나 받은 뒤 하나 출력해도 된다.<br><br>\n",
    "자세한 설명 및 다른 언어의 경우는 이 글에 설명되어 있다.\n",
    "이 블로그 글에서 BOJ의 기타 여러 가지 팁을 볼 수 있다."
   ]
  },
  {
   "cell_type": "code",
   "execution_count": null,
   "id": "879a6fab",
   "metadata": {},
   "outputs": [],
   "source": []
  },
  {
   "cell_type": "markdown",
   "id": "e629789c",
   "metadata": {},
   "source": [
    "#### 5. N 찍기\n",
    "자연수 N이 주어졌을 때, 1부터 N까지 한 줄에 하나씩 출력하는 프로그램을 작성하시오."
   ]
  },
  {
   "cell_type": "code",
   "execution_count": 6,
   "id": "cabe5d62",
   "metadata": {},
   "outputs": [
    {
     "name": "stdout",
     "output_type": "stream",
     "text": [
      "5\n",
      "1\n",
      "2\n",
      "3\n",
      "4\n",
      "5\n"
     ]
    }
   ],
   "source": [
    "n = int(input())\n",
    "for i in range(1, n + 1):\n",
    "    print(i)\n",
    "    i += 1"
   ]
  },
  {
   "cell_type": "markdown",
   "id": "f75779e9",
   "metadata": {},
   "source": [
    "#### 6. 기찍 N\n",
    "자연수 N이 주어졌을 때, N부터 1까지 한 줄에 하나씩 출력하는 프로그램을 작성하시오."
   ]
  },
  {
   "cell_type": "code",
   "execution_count": 7,
   "id": "a882e5f1",
   "metadata": {},
   "outputs": [
    {
     "name": "stdout",
     "output_type": "stream",
     "text": [
      "5\n",
      "5\n",
      "4\n",
      "3\n",
      "2\n",
      "1\n"
     ]
    }
   ],
   "source": [
    "n = int(input())\n",
    "for i in range(0, n):\n",
    "    print(n - i)\n",
    "    i += 1"
   ]
  },
  {
   "cell_type": "markdown",
   "id": "c5a1711e",
   "metadata": {},
   "source": [
    "#### 7. A+B - 7\n",
    "두 정수 A와 B를 입력받은 다음, A+B를 출력하는 프로그램을 작성하시오."
   ]
  },
  {
   "cell_type": "code",
   "execution_count": 8,
   "id": "f33e3486",
   "metadata": {},
   "outputs": [
    {
     "name": "stdout",
     "output_type": "stream",
     "text": [
      "3\n",
      "1 1\n",
      "Case #1:  2\n",
      "3 5\n",
      "Case #2:  8\n",
      "5 7\n",
      "Case #3:  12\n"
     ]
    }
   ],
   "source": [
    "n = int(input())\n",
    "\n",
    "for i in range(1, n+ 1):\n",
    "    a,b = map(int, input().split(' '))\n",
    "    print(\"Case #{0}: \".format(i), a + b)"
   ]
  },
  {
   "cell_type": "markdown",
   "id": "f9a428c9",
   "metadata": {},
   "source": [
    "#### 8. A+B - 8\n",
    "두 정수 A와 B를 입력받은 다음, A+B를 출력하는 프로그램을 작성하시오."
   ]
  },
  {
   "cell_type": "code",
   "execution_count": 10,
   "id": "69856a32",
   "metadata": {},
   "outputs": [
    {
     "name": "stdout",
     "output_type": "stream",
     "text": [
      "2\n",
      "1 4\n",
      "Case #1: 1 + 4 = 5\n",
      "2 5\n",
      "Case #2: 2 + 5 = 7\n"
     ]
    }
   ],
   "source": [
    "n = int(input())\n",
    "\n",
    "for i in range(1, n+ 1):\n",
    "    a,b = map(int, input().split(' '))\n",
    "    print(\"Case #{0}: {1} + {2} = {3}\".format(i, a, b, a+b))"
   ]
  },
  {
   "cell_type": "markdown",
   "id": "543e202e",
   "metadata": {},
   "source": [
    "#### 9. 별 찍기 - 1\n",
    "첫째 줄에는 별 1개, 둘째 줄에는 별 2개, N번째 줄에는 별 N개를 찍는 문제"
   ]
  },
  {
   "cell_type": "code",
   "execution_count": 11,
   "id": "c88151dc",
   "metadata": {},
   "outputs": [
    {
     "name": "stdout",
     "output_type": "stream",
     "text": [
      "7\n",
      "*\n",
      "**\n",
      "***\n",
      "****\n",
      "*****\n",
      "******\n",
      "*******\n"
     ]
    }
   ],
   "source": [
    "n = int(input())\n",
    "\n",
    "for i in range(1, n + 1):\n",
    "    print(\"*\" * i)"
   ]
  },
  {
   "cell_type": "markdown",
   "id": "449f7e0c",
   "metadata": {},
   "source": [
    "#### 10. 별 찍기 - 2\n",
    "첫째 줄에는 별 1개, 둘째 줄에는 별 2개, N번째 줄에는 별 N개를 찍는 문제 하지만, 오른쪽을 기준으로 정렬한 별(예제 참고)을 출력하시오."
   ]
  },
  {
   "cell_type": "code",
   "execution_count": 12,
   "id": "27530d17",
   "metadata": {},
   "outputs": [
    {
     "name": "stdout",
     "output_type": "stream",
     "text": [
      "6\n",
      "     *\n",
      "    **\n",
      "   ***\n",
      "  ****\n",
      " *****\n",
      "******\n"
     ]
    }
   ],
   "source": [
    "n = int(input())\n",
    "\n",
    "for i in range(1, n + 1):\n",
    "    print(\" \" * (n - i) + \"*\" * i)"
   ]
  },
  {
   "cell_type": "markdown",
   "id": "9fcd6125",
   "metadata": {},
   "source": [
    "#### 11.  X보다 작은 수\n",
    "정수 N개로 이루어진 수열 A와 정수 X가 주어진다. 이때, A에서 X보다 작은 수를 모두 출력하는 프로그램을 작성하시오."
   ]
  },
  {
   "cell_type": "code",
   "execution_count": 13,
   "id": "de2a35f0",
   "metadata": {},
   "outputs": [
    {
     "name": "stdout",
     "output_type": "stream",
     "text": [
      "10 5\n",
      "1 10 4 9 2 3 8 5 7 6\n",
      "1 4 2 3 "
     ]
    }
   ],
   "source": [
    "n, x = map(int, input().split(' '))\n",
    "num = list(map(int, input().split(' ')))\n",
    "\n",
    "for i in range (n):\n",
    "    if num[i] < x:\n",
    "        print(num[i], end=\" \")"
   ]
  },
  {
   "cell_type": "markdown",
   "id": "6dd3bca1",
   "metadata": {},
   "source": [
    "### level 4. while문\n",
    "#### 1. A+B - 5\n",
    "두 정수 A와 B를 입력받은 다음, A+B를 출력하는 프로그램을 작성하시오."
   ]
  },
  {
   "cell_type": "code",
   "execution_count": 14,
   "id": "33e78732",
   "metadata": {},
   "outputs": [
    {
     "name": "stdout",
     "output_type": "stream",
     "text": [
      "2 3\n",
      "5\n",
      "3 5\n",
      "8\n",
      "5 5\n",
      "10\n",
      "0 0\n"
     ]
    }
   ],
   "source": [
    "while (True):\n",
    "    a, b = map(int, input().split(' '))\n",
    "    if a != 0 and b != 0:\n",
    "        print(a + b)\n",
    "    \n",
    "    if a == 0 and b == 0:\n",
    "        break"
   ]
  },
  {
   "cell_type": "markdown",
   "id": "14034219",
   "metadata": {},
   "source": [
    "#### 2. A+B - 4\n",
    "두 정수 A와 B를 입력받은 다음, A+B를 출력하는 프로그램을 작성하시오."
   ]
  },
  {
   "cell_type": "code",
   "execution_count": 15,
   "id": "9eb6f576",
   "metadata": {},
   "outputs": [
    {
     "name": "stdout",
     "output_type": "stream",
     "text": [
      "1 2\n",
      "3\n",
      "2 4\n",
      "6\n",
      "0\n"
     ]
    }
   ],
   "source": [
    "while True:\n",
    "    try: \n",
    "        a, b = map(int, input().split(' '))\n",
    "        print(a + b)\n",
    "    except:\n",
    "        break "
   ]
  },
  {
   "cell_type": "markdown",
   "id": "ef3c76f6",
   "metadata": {},
   "source": [
    "#### 3. 더하기 사이클\n",
    "0보다 크거나 같고, 99보다 작거나 같은 정수가 주어질 때 다음과 같은 연산을 할 수 있다. 먼저 주어진 수가 10보다 작다면 앞에 0을 붙여 두 자리 수로 만들고, 각 자리의 숫자를 더한다. 그 다음, 주어진 수의 가장 오른쪽 자리 수와 앞에서 구한 합의 가장 오른쪽 자리 수를 이어 붙이면 새로운 수를 만들 수 있다. 다음 예를 보자. <br><br>\n",
    "26부터 시작한다. 2+6 = 8이다. 새로운 수는 68이다. 6+8 = 14이다. 새로운 수는 84이다. 8+4 = 12이다. 새로운 수는 42이다. 4+2 = 6이다. 새로운 수는 26이다.<br><br>\n",
    "위의 예는 4번만에 원래 수로 돌아올 수 있다. 따라서 26의 사이클의 길이는 4이다.<br>\n",
    "N이 주어졌을 때, N의 사이클의 길이를 구하는 프로그램을 작성하시오."
   ]
  },
  {
   "cell_type": "code",
   "execution_count": 16,
   "id": "8b473d81",
   "metadata": {},
   "outputs": [
    {
     "name": "stdout",
     "output_type": "stream",
     "text": [
      "26\n",
      "4\n"
     ]
    }
   ],
   "source": [
    "n = int(input())\n",
    "temp = n\n",
    "count = 0\n",
    "\n",
    "while True :\n",
    "    left = temp // 10 \n",
    "    right = temp % 10 \n",
    "    add = (left + right) % 10 \n",
    "    temp = (right * 10) + add\n",
    "    \n",
    "    count += 1\n",
    "    if temp == n:\n",
    "        print(count)\n",
    "        break"
   ]
  },
  {
   "cell_type": "markdown",
   "id": "00967a3f",
   "metadata": {},
   "source": [
    "### level 5. 1차원 배열\n",
    "#### 1. 최소, 최대\n",
    "N개의 정수가 주어진다. 이때, 최솟값과 최댓값을 구하는 프로그램을 작성하시오."
   ]
  },
  {
   "cell_type": "code",
   "execution_count": 17,
   "id": "3bde66a2",
   "metadata": {},
   "outputs": [
    {
     "name": "stdout",
     "output_type": "stream",
     "text": [
      "5\n",
      "20 10 35 30 7\n",
      "7 35\n"
     ]
    }
   ],
   "source": [
    "n = int(input())\n",
    "a = list(map(int, input().split()))\n",
    "\n",
    "print(min(a), max(a))"
   ]
  },
  {
   "cell_type": "markdown",
   "id": "4cdc7869",
   "metadata": {},
   "source": [
    "#### 2. 최댓값\n",
    "9개의 서로 다른 자연수가 주어질 때, 이들 중 최댓값을 찾고 그 최댓값이 몇 번째 수인지를 구하는 프로그램을 작성하시오. <br><br>\n",
    "예를 들어, 서로 다른 9개의 자연수<br>\n",
    "3, 29, 38, 12, 57, 74, 40, 85, 61<br>\n",
    "이 주어지면, 이들 중 최댓값은 85이고, 이 값은 8번째 수이다."
   ]
  },
  {
   "cell_type": "code",
   "execution_count": 18,
   "id": "8910a9b1",
   "metadata": {},
   "outputs": [
    {
     "name": "stdout",
     "output_type": "stream",
     "text": [
      "3\n",
      "29\n",
      "38\n",
      "12\n",
      "57\n",
      "74\n",
      "40\n",
      "85\n",
      "61\n",
      "85\n",
      "8\n"
     ]
    }
   ],
   "source": [
    "A = []\n",
    "\n",
    "for i in range(9):\n",
    "    a = int(input())\n",
    "    A.append(a)\n",
    "print(max(A))\n",
    "print(A.index(max(A)) + 1)"
   ]
  },
  {
   "cell_type": "markdown",
   "id": "345514ac",
   "metadata": {},
   "source": [
    "#### 3. 숫자의 개수\n",
    "세 개의 자연수 A, B, C가 주어질 때 A × B × C를 계산한 결과에 0부터 9까지 각각의 숫자가 몇 번씩 쓰였는지를 구하는 프로그램을 작성하시오.<br><br>\n",
    "예를 들어 A = 150, B = 266, C = 427 이라면 A × B × C = 150 × 266 × 427 = 17037300 이 되고, 계산한 결과 17037300 에는 0이 3번, 1이 1번, 3이 2번, 7이 2번 쓰였다."
   ]
  },
  {
   "cell_type": "code",
   "execution_count": 19,
   "id": "c64baffd",
   "metadata": {},
   "outputs": [
    {
     "name": "stdout",
     "output_type": "stream",
     "text": [
      "155\n",
      "266\n",
      "427\n",
      "2\n",
      "2\n",
      "1\n",
      "0\n",
      "0\n",
      "1\n",
      "1\n",
      "1\n",
      "0\n",
      "0\n"
     ]
    }
   ],
   "source": [
    "a = int(input())\n",
    "b = int(input())\n",
    "c = int(input())\n",
    "\n",
    "d = a * b* c\n",
    "e = list(map(int, str(d)))\n",
    "\n",
    "for i in range(10):\n",
    "    f = 0\n",
    "    for j in e:\n",
    "        if (j == i):\n",
    "            f += 1\n",
    "            \n",
    "    print(f)"
   ]
  },
  {
   "cell_type": "markdown",
   "id": "d7824f89",
   "metadata": {},
   "source": [
    "#### 4. 나머지\n",
    "두 자연수 A와 B가 있을 때, A%B는 A를 B로 나눈 나머지 이다. 예를 들어, 7, 14, 27, 38을 3으로 나눈 나머지는 1, 2, 0, 2이다. <br><br>\n",
    "수 10개를 입력받은 뒤, 이를 42로 나눈 나머지를 구한다. 그 다음 서로 다른 값이 몇 개 있는지 출력하는 프로그램을 작성하시오."
   ]
  },
  {
   "cell_type": "code",
   "execution_count": 20,
   "id": "c6f8919c",
   "metadata": {},
   "outputs": [
    {
     "name": "stdout",
     "output_type": "stream",
     "text": [
      "1\n",
      "2\n",
      "3\n",
      "4\n",
      "5\n",
      "6\n",
      "7\n",
      "8\n",
      "9\n",
      "10\n",
      "10\n"
     ]
    }
   ],
   "source": [
    "nums = set()\n",
    "for i in range(10):\n",
    "    nums.add(int(input()) % 42)\n",
    "print(len(nums))"
   ]
  },
  {
   "cell_type": "markdown",
   "id": "887bb96e",
   "metadata": {},
   "source": [
    "#### 5. 평균\n",
    "세준이는 기말고사를 망쳤다. 세준이는 점수를 조작해서 집에 가져가기로 했다. 일단 세준이는 자기 점수 중에 최댓값을 골랐다. 이 값을 M이라고 한다. 그리고 나서 모든 점수를 점수/M * 100으로 고쳤다. <br><br>\n",
    "예를 들어, 세준이의 최고점이 70이고, 수학점수가 50이었으면 수학점수는 50/70*100이 되어 71.43점이 된다.\n",
    "세준이의 성적을 위의 방법대로 새로 계산했을 때, 새로운 평균을 구하는 프로그램을 작성하시오."
   ]
  },
  {
   "cell_type": "code",
   "execution_count": 21,
   "id": "9f7c51d3",
   "metadata": {},
   "outputs": [
    {
     "name": "stdout",
     "output_type": "stream",
     "text": [
      "3\n",
      "10 20 30 \n",
      "66.66666666666667\n"
     ]
    }
   ],
   "source": [
    "n = int(input(\"\"))\n",
    "score_w = input(\"\").split()\n",
    "score_n = [int(i) for i in score_w]\n",
    "total = 0\n",
    "\n",
    "for i in range(n):\n",
    "    total += score_n[i] / max(score_n) * 100\n",
    "    \n",
    "print(total / n)"
   ]
  },
  {
   "cell_type": "markdown",
   "id": "1ed41569",
   "metadata": {},
   "source": [
    "#### 6. OX퀴즈\n",
    "\"OOXXOXXOOO\"와 같은 OX퀴즈의 결과가 있다. O는 문제를 맞은 것이고, X는 문제를 틀린 것이다. 문제를 맞은 경우 그 문제의 점수는 그 문제까지 연속된 O의 개수가 된다. 예를 들어, 10번 문제의 점수는 3이 된다.<br><br>\n",
    "\"OOXXOXXOOO\"의 점수는 1+2+0+0+1+0+0+1+2+3 = 10점이다.<br>\n",
    "OX퀴즈의 결과가 주어졌을 때, 점수를 구하는 프로그램을 작성하시오."
   ]
  },
  {
   "cell_type": "code",
   "execution_count": 23,
   "id": "1dc92a77",
   "metadata": {},
   "outputs": [
    {
     "name": "stdout",
     "output_type": "stream",
     "text": [
      "5\n",
      "OOXXOXXOOO\n",
      "10\n",
      "OOXXOOXXOO\n",
      "9\n",
      "OXOXOXOXOXOXOX\n",
      "7\n",
      "OOOOOOOOOO\n",
      "55\n",
      "OOOOXOOOOXOOOOX\n",
      "30\n"
     ]
    }
   ],
   "source": [
    "for i in range(int(input())):\n",
    "    a = input()\n",
    "    score = 0\n",
    "    sumscore = 0\n",
    "    \n",
    "    for j in a:\n",
    "        if j == \"O\":\n",
    "            score += 1\n",
    "            sumscore += score\n",
    "        else:\n",
    "            score = 0\n",
    "    print(sumscore)"
   ]
  },
  {
   "cell_type": "markdown",
   "id": "b62af92b",
   "metadata": {},
   "source": [
    "#### 7. 평균은 넘겠지\n",
    "대학생 새내기들의 90%는 자신이 반에서 평균은 넘는다고 생각한다. 당신은 그들에게 슬픈 진실을 알려줘야 한다."
   ]
  },
  {
   "cell_type": "code",
   "execution_count": 28,
   "id": "f07f2b1e",
   "metadata": {},
   "outputs": [
    {
     "name": "stdout",
     "output_type": "stream",
     "text": [
      "5\n",
      "5 50 50 70 80 100\n",
      "40.000%\n",
      "7 100 95 90 80 70 60 50\n",
      "57.143%\n",
      "3 70 90 80\n",
      "33.333%\n",
      "3 70 90 81\n",
      "66.667%\n",
      "9 100 99 98 97 96 95 94 93 91\n",
      "55.556%\n"
     ]
    }
   ],
   "source": [
    "n = int(input())\n",
    "\n",
    "for i in range(n):\n",
    "    input_score = list(map(int, input().split(' ')))\n",
    "\n",
    "    avg = sum(input_score[1:])/input_score[0]\n",
    "    cnt = 0\n",
    "\n",
    "    for score in input_score[1:]:\n",
    "        if score > avg:\n",
    "            cnt += 1\n",
    "    rate = cnt / input_score[0] * 100\n",
    "    print(f'{rate:.3f}%')"
   ]
  }
 ],
 "metadata": {
  "kernelspec": {
   "display_name": "Python 3",
   "language": "python",
   "name": "python3"
  },
  "language_info": {
   "codemirror_mode": {
    "name": "ipython",
    "version": 3
   },
   "file_extension": ".py",
   "mimetype": "text/x-python",
   "name": "python",
   "nbconvert_exporter": "python",
   "pygments_lexer": "ipython3",
   "version": "3.8.8"
  }
 },
 "nbformat": 4,
 "nbformat_minor": 5
}
