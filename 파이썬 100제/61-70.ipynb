{
 "cells": [
  {
   "cell_type": "markdown",
   "id": "c61c96c2",
   "metadata": {},
   "source": [
    "#### 문제61. 문자열 압축하기\n",
    "문자열을 입력받고 연속되는 문자열을 압축해서 표현하고싶습니다."
   ]
  },
  {
   "cell_type": "code",
   "execution_count": 1,
   "id": "6d3b7f19",
   "metadata": {},
   "outputs": [
    {
     "name": "stdout",
     "output_type": "stream",
     "text": [
      "문자열을 입력하tldh: 12345678\n",
      "1121314151617181\n"
     ]
    }
   ],
   "source": [
    "s = input(\"문자열을 입력하tldh: \")\n",
    "a = sorted(list(set(s)))\n",
    "result = \"\"\n",
    "\n",
    "for i in range(len(a)):\n",
    "  result = result + a[i] + str(s.count(a[i]))\n",
    "\n",
    "print(result)"
   ]
  },
  {
   "cell_type": "markdown",
   "id": "e5353697",
   "metadata": {},
   "source": [
    "#### 문제62. 20190923출력하기\n",
    "20190923을 출력합니다. 아래 기준만 만족하면 됩니다.\n",
    "\n",
    "코드 내에 숫자가 없어야 합니다.\n",
    "예) print(20190923)이라고 하시면 안됩니다.\n",
    "파일 이름이나 경로를 사용해서는 안됩니다.\n",
    "시간, 날짜 함수를 사용해서는 안됩니다.\n",
    "에러 번호 출력을 이용해서는 안됩니다.\n",
    "input을 이용해서는 안됩니다."
   ]
  },
  {
   "cell_type": "code",
   "execution_count": 2,
   "id": "d2006dc3",
   "metadata": {},
   "outputs": [
    {
     "name": "stdout",
     "output_type": "stream",
     "text": [
      "20190923\n"
     ]
    }
   ],
   "source": [
    "string='aacddddddddd'\n",
    "a=string.count('a') #2\n",
    "b=string.count('b') #0\n",
    "c=string.count('c') #1\n",
    "d=string.count('d') #9\n",
    "print(int(str(a)+str(b)+str(c)+str(d)+str(b)+str(d)+str(a)+str(a+1)))"
   ]
  },
  {
   "cell_type": "markdown",
   "id": "dc00986f",
   "metadata": {},
   "source": [
    "#### 문제63. 친해지고 싶어\n",
    "한국대학교의 김한국교수님은 학생들과 친해지기 위해서 딸에게 줄임말을 배우기로 했습니다. 딸은 '복잡한 세상 편하게 살자' 라는 문장을 '복세편살'로 줄여 말합니다.\n",
    "\n",
    "교수님이 줄임말을 배우기 위해 위와 같이 어떤 입력이 주어지면 앞 글자만 줄여 출력하도록 해주세요."
   ]
  },
  {
   "cell_type": "code",
   "execution_count": 4,
   "id": "04763db8",
   "metadata": {},
   "outputs": [
    {
     "name": "stdout",
     "output_type": "stream",
     "text": [
      "문자열을 입력하시오: 복잡한 세상 편하게 살자\n",
      "복세편살"
     ]
    }
   ],
   "source": [
    "s = list(input(\"문자열을 입력하시오: \"))\n",
    "\n",
    "for i in range(len(s)):\n",
    "  if i == 0:\n",
    "    print(s[i], end=\"\")\n",
    "  elif s[i] == ' ':\n",
    "    print(s[i+1], end=\"\")"
   ]
  },
  {
   "cell_type": "markdown",
   "id": "72e55c57",
   "metadata": {},
   "source": [
    "#### 문제64. 이상한 엘레베이터\n",
    "정량 N에 정확히 맞춰야만 움직이는 화물용 엘레베이터가 있습니다. 화물은 7kg, 3kg 두 가지이며 팔이 아픈 은후는 가장 적게 화물을 옮기고 싶습니다.\n",
    "\n",
    "예를 들어 정량이 24kg이라면 3kg 8개를 옮기는 것 보다는 7kg 3개, 3kg 1개 즉 4개로 더 적게 옮길 수 있습니다.\n",
    "\n",
    "입력 정량 N이 입력됩니다.\n",
    "\n",
    "출력 가장 적게 옮길 수 있는 횟수를 출력합니다. 만약 어떻게 해도 정량이 N이 되지 않는다면 -1을 출력합니다."
   ]
  },
  {
   "cell_type": "code",
   "execution_count": 5,
   "id": "1bd240a3",
   "metadata": {},
   "outputs": [
    {
     "name": "stdout",
     "output_type": "stream",
     "text": [
      "정량을 입력하세요: 24\n",
      "4.0\n"
     ]
    }
   ],
   "source": [
    "n = int(input(\"정량을 입력하세요: \"))\n",
    "result = 0\n",
    "\n",
    "result = result + (n//7)\n",
    "n = n - ((n//7)*7)\n",
    "result = result + (n/3)\n",
    "n = n - ((n/3)*3)\n",
    "\n",
    "if n == 0:\n",
    "  print(result)\n",
    "else:\n",
    "  print(-1)"
   ]
  },
  {
   "cell_type": "markdown",
   "id": "18f097c4",
   "metadata": {},
   "source": [
    "#### 문제65. 변형된 리스트\n",
    "a = [1,2,3,4]\n",
    "b = [a,b,c,d]\n",
    "이런 리스트가 있을 때 [[1,a],[b,2],[3,c],[d,4]] 이런식으로 a,b리스트가 번갈아가면서 출력되게 해주세요."
   ]
  },
  {
   "cell_type": "code",
   "execution_count": 6,
   "id": "1a4900e8",
   "metadata": {},
   "outputs": [
    {
     "name": "stdout",
     "output_type": "stream",
     "text": [
      "1 2 3 4\n",
      "a b c d\n",
      "[['1', 'a'], ['b', '2'], ['3', 'c'], ['d', '4']]\n"
     ]
    }
   ],
   "source": [
    "a = input().split(' ')\n",
    "b = input().split(' ')\n",
    "result = []\n",
    "\n",
    "for i in range (0, 4):\n",
    "  if i % 2 == 0:\n",
    "    result.append([a[i], b[i]])\n",
    "  else:\n",
    "    result.append([b[i], a[i]])\n",
    "    \n",
    "print(result)"
   ]
  },
  {
   "cell_type": "markdown",
   "id": "15029bea",
   "metadata": {},
   "source": [
    "#### 문제66.  블럭탑쌓기\n",
    "탑을 쌓기 위해 각 크기별로 준비된 블럭들을 정해진 순서에 맞게 쌓아햐 합니다. 순서에 맞게 쌓지 않으면 무너질 수 있습니다. 예를 들면 정해진 순서가 BAC 라면 A 다음 C가 쌓아져야 합니다. 선행으로 쌓아야 하는 블럭이 만족된 경우라면 탑이 무너지지 않습니다.\n",
    "\n",
    "B를 쌓지 않아도 A와 C를 쌓을 수 있습니다.\n",
    "B 다음 블럭이 C가 될 수 있습니다.\n",
    "쌓아져 있는 블럭 탑이 순서에 맞게 쌓아져 있는지 확인하세요.\n",
    "\n",
    "블럭은 알파벳 대문자로 표기합니다.\n",
    "규칙에 없는 블럭이 사용될 수 있습니다.\n",
    "중복된 블럭은 존재하지 않습니다."
   ]
  },
  {
   "cell_type": "code",
   "execution_count": 10,
   "id": "22f941e7",
   "metadata": {},
   "outputs": [
    {
     "name": "stdout",
     "output_type": "stream",
     "text": [
      "['가능', '불가능', '가능', '가능', '불가능']\n"
     ]
    }
   ],
   "source": [
    "def solution(전체블록, 규칙):\n",
    "    answer = []\n",
    "    for 부분블록 in 전체블록:\n",
    "        answer.append(블록순서체크(부분블록, 규칙))\n",
    "    return answer\n",
    "\n",
    "def 블록순서체크(부분블록, 규칙):\n",
    "    임시변수 = 규칙.index(규칙[0])\n",
    "    for 문자 in 부분블록:\n",
    "        if 문자 in 규칙:\n",
    "            if 임시변수 > 규칙.index(문자):\n",
    "                return '불가능'\n",
    "            임시변수 = 규칙.index(문자)\n",
    "    return '가능'\n",
    "\n",
    "전체블록 = ['ABCDEF', 'BCAD', 'ADEFQRX', 'BEDFG', 'AEBFDGCH']\n",
    "규칙 = 'ABCD'\n",
    "\n",
    "print(solution(전체블록, 규칙))"
   ]
  },
  {
   "cell_type": "markdown",
   "id": "df2306c0",
   "metadata": {},
   "source": [
    "#### 문제67. 민규의 악수\n",
    "광장에서 모인 사람들과 악수를 하는 행사가 열렸다. 참가자인 민규는 몇명의 사람들과 악수를 한 후 중간에 일이 생겨 집으로 갔다. 이 행사에서 진행된 악수는 총 n번이라고 했을때.\n",
    "\n",
    "민규는 몇번의 악수를 하고 집으로 돌아갔을까? 이때 민규를 포함한 행사 참가자는 몇명일까?\n",
    "\n",
    "악수는 모두 1대 1로 진행이 된다.\n",
    "민규를 제외한 모든 참가자는 자신을 제외한 참가자와 모두 한번씩 악수를 한다.\n",
    "같은 상대와 중복된 악수는 카운트 하지 않는다.\n",
    "민규를 제외한 참가자는 행사를 모두 마쳤다.\n",
    "input : n (행사에서 진행된 악수 횟수) output : [ 민규의 악수횟수 , 행사참가자]\n",
    "\n",
    "예) 59회의 악수가 행사에서 진행되었다. 이때 민규는 4번의 악수를 하였고 민규를 포함한 참가자는 12명이다."
   ]
  },
  {
   "cell_type": "code",
   "execution_count": 12,
   "id": "638d8ceb",
   "metadata": {},
   "outputs": [
    {
     "name": "stdout",
     "output_type": "stream",
     "text": [
      "행사에서 진행된 악수의 횟수를 입력하세요: 59\n",
      "4 12\n"
     ]
    }
   ],
   "source": [
    "n = int(input(\"행사에서 진행된 악수의 횟수를 입력하세요: \"))\n",
    "count = 0\n",
    "i = 1\n",
    "\n",
    "while count+i < n:\n",
    "  count = count + i\n",
    "  i = i + 1\n",
    "\n",
    "print(n-count, i+1)"
   ]
  },
  {
   "cell_type": "markdown",
   "id": "416c1f89",
   "metadata": {},
   "source": [
    "#### 문제68. 버스 시간표\n",
    "학교가 끝난 지원이는 집에 가려고 합니다. 학교 앞에 있는 버스 시간표는 너무 복잡해서 버스 도착시간이 몇 분 남았는지 알려주는 프로그램을 만들고 싶습니다. 버스시간표와 현재 시간이 주어졌을 때 버스 도착 시간이 얼마나 남았는지 알려주는 프로그램을 만들어주세요.\n",
    "\n",
    "버스 시간표와 현재시간이 입력으루 주어집니다.\n",
    "출력 포맷은 \"00시00분\"입니다. 만약 1시간 3분이 남았다면 \"01시간03분\"으로 출력해야 합니다.\n",
    "버스 시간표에 현재 시간보다 이전인 버스가 있다면 \"지나갔습니다.\"라고 출력합니다."
   ]
  },
  {
   "cell_type": "code",
   "execution_count": 13,
   "id": "6c137b87",
   "metadata": {},
   "outputs": [
    {
     "data": {
      "text/plain": [
       "['지나갔습니다', '00시간 40분', '01시간 33분']"
      ]
     },
     "execution_count": 13,
     "metadata": {},
     "output_type": "execute_result"
    }
   ],
   "source": [
    "def sol(tb, rt):\n",
    "    answer = []\n",
    "    rt = rt.split(':')\n",
    "    for i in range(len(tb)):\n",
    "        time = tb[i].split(':')\n",
    "        time_to_min = ((int(time[0])*60 + int(time[1])) - (int(rt[0])*60+int(rt[1])))\n",
    "        if time_to_min < 0:\n",
    "            answer.append(\"지나갔습니다\")\n",
    "        else:\n",
    "            a = (time_to_min) // 60\n",
    "            b = (time_to_min) % 60\n",
    "            answer.append(str(a).zfill(2)+'시간 '+str(b).zfill(2)+'분')\n",
    "    return answer\n",
    "\n",
    "sol([\"12:30\", \"13:20\", \"14:13\"], \"12:40\")"
   ]
  },
  {
   "cell_type": "markdown",
   "id": "05a4d89f",
   "metadata": {},
   "source": [
    "#### 문제69. 골드바흐의 추측\n",
    "골드바흐의 추측(Goldbach's conjecture)은 오래전부터 알려진 정수론의 미해결 문제로, 2보다 큰 모든 짝수는 두 개의 소수(Prime number)의 합으로 표시할 수 있다는 것이다. 이때 하나의 소수를 두 번 사용하는 것은 허용한다. - 위키백과\n",
    "\n",
    "위 설명에서 2보다 큰 모든 짝수를 두 소수의 합으로 나타낸 것을 골드바흐 파티션이라고 합니다.\n",
    "\n",
    "예) 100 == 47 + 53 56 == 19 + 37\n",
    "\n",
    "2보다 큰 짝수 n이 주어졌을 때, 골드바흐 파티션을 출력하는 코드를 작성하세요.\n",
    "\n",
    "해당 문제의 출력 형식은 자유롭습니다. 가능하시다면 골드바흐 파티션 모두를 출력하거나, 그 차가 작은 것을 출력하거나 그 차가 큰 것 모두 출력해보세요."
   ]
  },
  {
   "cell_type": "code",
   "execution_count": 15,
   "id": "28e6867e",
   "metadata": {},
   "outputs": [
    {
     "name": "stdout",
     "output_type": "stream",
     "text": [
      "100\n",
      "47 53\n"
     ]
    }
   ],
   "source": [
    "def cal():\n",
    "    n=10000*2\n",
    "    primes=[]    \n",
    "    a = [False,False] + [True]*(n-1)\n",
    "\n",
    "    for i in range(2,n+1):\n",
    "      if a[i]:\n",
    "        primes.append(i)\n",
    "        for j in range(2*i, n+1, i):\n",
    "            a[j] = False\n",
    "            \n",
    "    return primes\n",
    "\n",
    "a = cal()\n",
    "\n",
    "\n",
    "n = int(input())\n",
    "l = []\n",
    "k = []\t\n",
    "\n",
    "for i in range(2, n//2+1):    \n",
    "    if i in a and n-i in a:\n",
    "        l.append(i)\n",
    "        l.append(n-i)\n",
    "\n",
    "for i in range(0,len(l)-1,2):\n",
    "    k.append(l[i+1]-l[i])\n",
    "    \n",
    "index = k.index(min(k))*2\n",
    "print(l[index], l[index+1])"
   ]
  },
  {
   "cell_type": "markdown",
   "id": "d5d0ad9a",
   "metadata": {},
   "source": [
    "#### 문제70. 행렬 곱하기\n",
    "행렬 2개가 주어졌을 때 곱할 수 있는 행렬인지 확인하고 곱할 수 있다면 그 결과를, 곱할 수 없다면 -1을 출력하는 프로그램을 만들어주세요.\n",
    "\n",
    "라이브러리는 사용을 금지합니다."
   ]
  },
  {
   "cell_type": "code",
   "execution_count": 16,
   "id": "564e7a0e",
   "metadata": {},
   "outputs": [],
   "source": [
    "def sol(a, b):\n",
    "    c = []\n",
    "    if len(a) == len(b[0]):\n",
    "        for i in range(len(a)):\n",
    "            c.append([0]*len(b[0]))\n",
    "        for i in range(len(c)):\n",
    "            for j in range(len(c[i])):\n",
    "                for k in range(len(a[i])):\n",
    "                    c[i][j] += a[i][k] * b[k][j]\n",
    "        return c\n",
    "    else:\n",
    "        return -1"
   ]
  }
 ],
 "metadata": {
  "kernelspec": {
   "display_name": "Python 3",
   "language": "python",
   "name": "python3"
  },
  "language_info": {
   "codemirror_mode": {
    "name": "ipython",
    "version": 3
   },
   "file_extension": ".py",
   "mimetype": "text/x-python",
   "name": "python",
   "nbconvert_exporter": "python",
   "pygments_lexer": "ipython3",
   "version": "3.8.8"
  }
 },
 "nbformat": 4,
 "nbformat_minor": 5
}
