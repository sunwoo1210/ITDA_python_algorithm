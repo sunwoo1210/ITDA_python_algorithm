{
 "cells": [
  {
   "cell_type": "markdown",
   "id": "37940f19",
   "metadata": {},
   "source": [
    "#### 문제 41. 소수 판별 <br>\n",
    "숫자가 주어지면 소수인지 아닌지 판별하는 프로그램을 작성해주세요. <br>\n",
    "소수이면 YES로, 소수가 아니면 NO로 출력해주세요.\n",
    "- 소수: 1과 자기 자신만으로 나누어 떨어지는 1보다 큰 양의 정수\n",
    "- 음의 소수는 고려하지 않습니다."
   ]
  },
  {
   "cell_type": "code",
   "execution_count": 3,
   "id": "2f18781b",
   "metadata": {},
   "outputs": [
    {
     "name": "stdout",
     "output_type": "stream",
     "text": [
      "Yes\n"
     ]
    }
   ],
   "source": [
    "def prime(n):\n",
    "    if n <= 1:\n",
    "        return \"No\"\n",
    "    if n == 3:\n",
    "        return \"Yes\"\n",
    "    \n",
    "    i = 2\n",
    "    소수 = True\n",
    "    while (i ** 2) < n:\n",
    "        if n % i == 0:\n",
    "            소수 = False\n",
    "            break\n",
    "        i += 1\n",
    "        if 소수:\n",
    "            return \"Yes\"\n",
    "        else:\n",
    "            return \"No\"\n",
    "print(prime(17))"
   ]
  },
  {
   "cell_type": "markdown",
   "id": "5a056bd5",
   "metadata": {},
   "source": [
    "#### 문제 42. 요일 구하기 (datetime 모듈 사용) <br>\n",
    "2020년 1월 1일은 수요일입니다. 2020년 a월 b일은 무슨 요일일까요? <br>\n",
    "두 수 a, b를 입력 받아 2020년 a월 b일이 무슨 요일인지 리턴하는 함수, solution을 완성하세요. 요일의 이름은 일요일부터 토요일까지 각각 SUN, MON, TUE, WED, THU, FRI, SAT 입니다. <br>\n",
    "예를 들어, a = 5, b = 24라면 5월 24일은 일요일이므로 문자열 \"SUN\"을 반환하세요. <br>\n",
    "제한 조건 <br>\n",
    "- 2020년은 윤년입니다.\n",
    "- 2020년 a월 b일은 실제로 있는 날입니다. (13월 26일이나 2월 45일 같은 날짜는 주어지지 않습니다.)\n",
    "- datetime 모듈을 사용하세요."
   ]
  },
  {
   "cell_type": "code",
   "execution_count": 10,
   "id": "3d7bfea5",
   "metadata": {},
   "outputs": [
    {
     "name": "stdout",
     "output_type": "stream",
     "text": [
      "5\n",
      "24\n"
     ]
    },
    {
     "ename": "AttributeError",
     "evalue": "module 'datetime' has no attribute 'data'",
     "output_type": "error",
     "traceback": [
      "\u001b[1;31m---------------------------------------------------------------------------\u001b[0m",
      "\u001b[1;31mAttributeError\u001b[0m                            Traceback (most recent call last)",
      "\u001b[1;32m<ipython-input-10-f1c26a74be34>\u001b[0m in \u001b[0;36m<module>\u001b[1;34m\u001b[0m\n\u001b[0;32m      6\u001b[0m     \u001b[0mday\u001b[0m \u001b[1;33m=\u001b[0m \u001b[1;33m[\u001b[0m\u001b[1;34m\"SUN\"\u001b[0m\u001b[1;33m,\u001b[0m \u001b[1;34m\"MON\"\u001b[0m\u001b[1;33m,\u001b[0m \u001b[1;34m\"TUE\"\u001b[0m\u001b[1;33m,\u001b[0m \u001b[1;34m\"WED\"\u001b[0m\u001b[1;33m,\u001b[0m \u001b[1;34m\"THU\"\u001b[0m\u001b[1;33m,\u001b[0m \u001b[1;34m\"FRI\"\u001b[0m\u001b[1;33m,\u001b[0m \u001b[1;34m\"SAT\"\u001b[0m\u001b[1;33m]\u001b[0m\u001b[1;33m\u001b[0m\u001b[1;33m\u001b[0m\u001b[0m\n\u001b[0;32m      7\u001b[0m     \u001b[1;32mreturn\u001b[0m \u001b[0mday\u001b[0m\u001b[1;33m[\u001b[0m\u001b[0mdatetime\u001b[0m\u001b[1;33m.\u001b[0m\u001b[0mdata\u001b[0m\u001b[1;33m(\u001b[0m\u001b[1;36m2020\u001b[0m\u001b[1;33m,\u001b[0m \u001b[0ma\u001b[0m\u001b[1;33m,\u001b[0m \u001b[0mb\u001b[0m\u001b[1;33m)\u001b[0m\u001b[1;33m.\u001b[0m\u001b[0mweekday\u001b[0m\u001b[1;33m(\u001b[0m\u001b[1;33m)\u001b[0m\u001b[1;33m]\u001b[0m\u001b[1;33m\u001b[0m\u001b[1;33m\u001b[0m\u001b[0m\n\u001b[1;32m----> 8\u001b[1;33m \u001b[0mprint\u001b[0m\u001b[1;33m(\u001b[0m\u001b[0msol\u001b[0m\u001b[1;33m(\u001b[0m\u001b[0ma\u001b[0m\u001b[1;33m,\u001b[0m\u001b[0mb\u001b[0m\u001b[1;33m)\u001b[0m\u001b[1;33m)\u001b[0m\u001b[1;33m\u001b[0m\u001b[1;33m\u001b[0m\u001b[0m\n\u001b[0m",
      "\u001b[1;32m<ipython-input-10-f1c26a74be34>\u001b[0m in \u001b[0;36msol\u001b[1;34m(a, b)\u001b[0m\n\u001b[0;32m      5\u001b[0m \u001b[1;32mdef\u001b[0m \u001b[0msol\u001b[0m\u001b[1;33m(\u001b[0m\u001b[0ma\u001b[0m\u001b[1;33m,\u001b[0m \u001b[0mb\u001b[0m\u001b[1;33m)\u001b[0m\u001b[1;33m:\u001b[0m\u001b[1;33m\u001b[0m\u001b[1;33m\u001b[0m\u001b[0m\n\u001b[0;32m      6\u001b[0m     \u001b[0mday\u001b[0m \u001b[1;33m=\u001b[0m \u001b[1;33m[\u001b[0m\u001b[1;34m\"SUN\"\u001b[0m\u001b[1;33m,\u001b[0m \u001b[1;34m\"MON\"\u001b[0m\u001b[1;33m,\u001b[0m \u001b[1;34m\"TUE\"\u001b[0m\u001b[1;33m,\u001b[0m \u001b[1;34m\"WED\"\u001b[0m\u001b[1;33m,\u001b[0m \u001b[1;34m\"THU\"\u001b[0m\u001b[1;33m,\u001b[0m \u001b[1;34m\"FRI\"\u001b[0m\u001b[1;33m,\u001b[0m \u001b[1;34m\"SAT\"\u001b[0m\u001b[1;33m]\u001b[0m\u001b[1;33m\u001b[0m\u001b[1;33m\u001b[0m\u001b[0m\n\u001b[1;32m----> 7\u001b[1;33m     \u001b[1;32mreturn\u001b[0m \u001b[0mday\u001b[0m\u001b[1;33m[\u001b[0m\u001b[0mdatetime\u001b[0m\u001b[1;33m.\u001b[0m\u001b[0mdata\u001b[0m\u001b[1;33m(\u001b[0m\u001b[1;36m2020\u001b[0m\u001b[1;33m,\u001b[0m \u001b[0ma\u001b[0m\u001b[1;33m,\u001b[0m \u001b[0mb\u001b[0m\u001b[1;33m)\u001b[0m\u001b[1;33m.\u001b[0m\u001b[0mweekday\u001b[0m\u001b[1;33m(\u001b[0m\u001b[1;33m)\u001b[0m\u001b[1;33m]\u001b[0m\u001b[1;33m\u001b[0m\u001b[1;33m\u001b[0m\u001b[0m\n\u001b[0m\u001b[0;32m      8\u001b[0m \u001b[0mprint\u001b[0m\u001b[1;33m(\u001b[0m\u001b[0msol\u001b[0m\u001b[1;33m(\u001b[0m\u001b[0ma\u001b[0m\u001b[1;33m,\u001b[0m\u001b[0mb\u001b[0m\u001b[1;33m)\u001b[0m\u001b[1;33m)\u001b[0m\u001b[1;33m\u001b[0m\u001b[1;33m\u001b[0m\u001b[0m\n",
      "\u001b[1;31mAttributeError\u001b[0m: module 'datetime' has no attribute 'data'"
     ]
    }
   ],
   "source": [
    "import datetime\n",
    "a = int(input())\n",
    "b = int(input())\n",
    "\n",
    "def sol(a, b):\n",
    "    day = [\"SUN\", \"MON\", \"TUE\", \"WED\", \"THU\", \"FRI\", \"SAT\"]\n",
    "    return day[datetime.data(2020, a, b).weekday()]\n",
    "print(sol(a,b))"
   ]
  },
  {
   "cell_type": "markdown",
   "id": "2dc5bc09",
   "metadata": {},
   "source": [
    "#### 문제 43. 10진수를 2진수로 <br>\n",
    "우리가 흔히 사용하는 숫자 1, 8, 19, 28893 등등... 은 10진수 체계입니다. <br>\n",
    "이를 컴퓨터가 알아 들을 수 있는 2진수로 바꾸려고 합니다. 어떻게 해야 할까요? <br>\n",
    "예를 들어 13은 2^3 + 2^2 + 2^0 = 13 이기 때문에 1101로 표현합니다. <br>\n",
    "사용자에게 숫자를 입력 받고 이를 2진수를 바꾸고 그 값을 출력해주세요. (bin 함수를 사용하지 않고 풀어주세요.)"
   ]
  },
  {
   "cell_type": "code",
   "execution_count": 5,
   "id": "f6fa1226",
   "metadata": {},
   "outputs": [
    {
     "name": "stdout",
     "output_type": "stream",
     "text": [
      "13\n",
      "1 1 0 1\n"
     ]
    }
   ],
   "source": [
    "a = int(input())\n",
    "b = []\n",
    "while a:\n",
    "    b.append(str(a % 2))\n",
    "    a = int(a / 2)\n",
    "b.reverse()\n",
    "print(' '.join(b))"
   ]
  },
  {
   "cell_type": "markdown",
   "id": "5408ebdf",
   "metadata": {},
   "source": [
    "#### 문제 44. 각 자리수의 합 <br>\n",
    "사용자가 입력한 양의 정수 각 자리수의 합을 구하는 프로그램을 만들어 주세요. <br>\n",
    "예를 들어 <br>\n",
    "18234 = 1 + 8 + 2 + 3 + 4 이고 정답은 18 입니다. <br>\n",
    "3849 = 3 + 8 + 4 + 9 이고 정답은 24입니다."
   ]
  },
  {
   "cell_type": "code",
   "execution_count": 6,
   "id": "0dd419c7",
   "metadata": {},
   "outputs": [
    {
     "name": "stdout",
     "output_type": "stream",
     "text": [
      "18234\n",
      "18\n"
     ]
    }
   ],
   "source": [
    "result = 0\n",
    "for i in input():\n",
    "    result += int(i)\n",
    "print(result)"
   ]
  },
  {
   "cell_type": "code",
   "execution_count": 7,
   "id": "34e2e29d",
   "metadata": {},
   "outputs": [
    {
     "name": "stdout",
     "output_type": "stream",
     "text": [
      "3849\n",
      "24\n"
     ]
    }
   ],
   "source": [
    "result = 0\n",
    "for i in input():\n",
    "    result += int(i)\n",
    "print(result)"
   ]
  },
  {
   "cell_type": "markdown",
   "id": "a5ba0345",
   "metadata": {},
   "source": [
    "#### 문제 45. time함수 사용하기 <br>\n",
    "python의 모듈 중 하나인 time 모듈은 1970년 1월 1일 0시 0분 0초 이후로부터 지금까지 흐른 시간을 초단위로 반환합니다. <br>\n",
    "이를 이용하여 현재 연도 (2021)를 출력해보세요."
   ]
  },
  {
   "cell_type": "code",
   "execution_count": 8,
   "id": "03048bd0",
   "metadata": {},
   "outputs": [
    {
     "name": "stdout",
     "output_type": "stream",
     "text": [
      "2021\n"
     ]
    }
   ],
   "source": [
    "import time\n",
    "t = time.time()\n",
    "t = int(t//(3600 * 24 * 365)) + 1970\n",
    "\n",
    "print(t)"
   ]
  },
  {
   "cell_type": "markdown",
   "id": "34719d70",
   "metadata": {},
   "source": [
    "#### 문제 46. str 자료형의 응용 <br>\n",
    "1부터 100까지의(100을 포함) 모든 숫자를 일렬로 놓고 모든 자릿수의 총 합을 구하세요. <br>\n",
    "예를 들어 10부터 15까지의 모든 숫자를 일렬로 놓으면 101112131415이고 각 자리의 숫자를 더하면 25입니다."
   ]
  },
  {
   "cell_type": "code",
   "execution_count": 22,
   "id": "9e65b272",
   "metadata": {},
   "outputs": [
    {
     "ename": "ValueError",
     "evalue": "invalid literal for int() with base 10: ' '",
     "output_type": "error",
     "traceback": [
      "\u001b[1;31m---------------------------------------------------------------------------\u001b[0m",
      "\u001b[1;31mValueError\u001b[0m                                Traceback (most recent call last)",
      "\u001b[1;32m<ipython-input-22-a50be6d40d92>\u001b[0m in \u001b[0;36m<module>\u001b[1;34m\u001b[0m\n\u001b[0;32m      6\u001b[0m     \u001b[0ms\u001b[0m \u001b[1;33m+=\u001b[0m \u001b[0mstr\u001b[0m\u001b[1;33m(\u001b[0m\u001b[0mi\u001b[0m\u001b[1;33m)\u001b[0m\u001b[1;33m\u001b[0m\u001b[1;33m\u001b[0m\u001b[0m\n\u001b[0;32m      7\u001b[0m \u001b[1;32mfor\u001b[0m \u001b[0mi\u001b[0m \u001b[1;32min\u001b[0m \u001b[0ms\u001b[0m\u001b[1;33m:\u001b[0m\u001b[1;33m\u001b[0m\u001b[1;33m\u001b[0m\u001b[0m\n\u001b[1;32m----> 8\u001b[1;33m     \u001b[0mresult\u001b[0m \u001b[1;33m+=\u001b[0m \u001b[0mint\u001b[0m\u001b[1;33m(\u001b[0m\u001b[0mi\u001b[0m\u001b[1;33m)\u001b[0m\u001b[1;33m\u001b[0m\u001b[1;33m\u001b[0m\u001b[0m\n\u001b[0m\u001b[0;32m      9\u001b[0m \u001b[1;33m\u001b[0m\u001b[0m\n\u001b[0;32m     10\u001b[0m \u001b[0mprint\u001b[0m\u001b[1;33m(\u001b[0m\u001b[0mresult\u001b[0m\u001b[1;33m)\u001b[0m\u001b[1;33m\u001b[0m\u001b[1;33m\u001b[0m\u001b[0m\n",
      "\u001b[1;31mValueError\u001b[0m: invalid literal for int() with base 10: ' '"
     ]
    }
   ],
   "source": [
    "s = \" \"\n",
    "\n",
    "result = 0\n",
    "\n",
    "for i in range(101):\n",
    "    s += str(i)\n",
    "for i in s:\n",
    "    result += int(i)\n",
    "\n",
    "print(result)"
   ]
  },
  {
   "cell_type": "markdown",
   "id": "4ac1cf72",
   "metadata": {},
   "source": [
    "#### 문제 47. set 자료형의 응용 <br>\n",
    "바울랩에서는 3월 29일 제주대학교에서 '제주 빅데이터 사회 혁신 해커톤' 행사를 주최하게 되었습니다. 이에 구글 설문지를 배포하였으나 제주대학생들이 중복해서 n개씩 설문제를 제출하였습니다. 중복된 데이터들을 삭제하여 실제 접수 명단이 몇 명인지 알고 싶습니다. <br>\n",
    "아래 주어진 데이터들로부터 중복을 제거하여 실제 접수 인원을 출력해 주세요. "
   ]
  },
  {
   "cell_type": "code",
   "execution_count": 1,
   "id": "e056f035",
   "metadata": {},
   "outputs": [
    {
     "ename": "NameError",
     "evalue": "name 'Python' is not defined",
     "output_type": "error",
     "traceback": [
      "\u001b[1;31m---------------------------------------------------------------------------\u001b[0m",
      "\u001b[1;31mNameError\u001b[0m                                 Traceback (most recent call last)",
      "\u001b[1;32m<ipython-input-1-3792422118c3>\u001b[0m in \u001b[0;36m<module>\u001b[1;34m\u001b[0m\n\u001b[0;32m      8\u001b[0m          \u001b[1;33m(\u001b[0m\u001b[1;34m'이호준'\u001b[0m\u001b[1;33m,\u001b[0m \u001b[1;34m'01050442903'\u001b[0m\u001b[1;33m)\u001b[0m\u001b[1;33m,\u001b[0m\u001b[1;33m\u001b[0m\u001b[1;33m\u001b[0m\u001b[0m\n\u001b[0;32m      9\u001b[0m          ]\n\u001b[1;32m---> 10\u001b[1;33m \u001b[0mPython\u001b[0m\u001b[1;33m\u001b[0m\u001b[1;33m\u001b[0m\u001b[0m\n\u001b[0m",
      "\u001b[1;31mNameError\u001b[0m: name 'Python' is not defined"
     ]
    }
   ],
   "source": [
    "people = [\n",
    "         ('이호준', '01050442903'),\n",
    "         ('이호상', '01051442904'),\n",
    "         ('이준호', '01050342904'),\n",
    "         ('이호준', '01050442903'),\n",
    "         ('이준', '01050412904'),\n",
    "         ('이호', '01050443904'),\n",
    "         ('이호준', '01050442903'),\n",
    "         ]"
   ]
  },
  {
   "cell_type": "code",
   "execution_count": 15,
   "id": "ae46530d",
   "metadata": {},
   "outputs": [
    {
     "name": "stdout",
     "output_type": "stream",
     "text": [
      "5\n"
     ]
    }
   ],
   "source": [
    "people = [\n",
    "         ('이호준', '01050442903'),\n",
    "         ('이호상', '01051442904'),\n",
    "         ('이준호', '01050342904'),\n",
    "         ('이호준', '01050442903'),\n",
    "         ('이준', '01050412904'),\n",
    "         ('이호', '01050443904'),\n",
    "         ('이호준', '01050442903'),\n",
    "         ]\n",
    "\n",
    "print(len(set(people)))"
   ]
  },
  {
   "cell_type": "markdown",
   "id": "9fb87ee4",
   "metadata": {},
   "source": [
    "#### 문제 48. 대소문자 바꿔서 출력하기 <br>\n",
    "문자열이 주어지면 대문자와 소문자를 바꿔서 출력하는 프로그램을 작성하세요. <br><br>\n",
    "\n",
    "입력: AAABBBcccddd <br>\n",
    "출력: aaabbbCCCDDD"
   ]
  },
  {
   "cell_type": "code",
   "execution_count": 21,
   "id": "5ce18da7",
   "metadata": {},
   "outputs": [
    {
     "name": "stdout",
     "output_type": "stream",
     "text": [
      "AAABBBcccddd\n",
      "a a a b b b C C C D D D "
     ]
    }
   ],
   "source": [
    "a = input()\n",
    "b = []\n",
    "for i in a:\n",
    "    if i.islower():\n",
    "        b.append(i.upper())\n",
    "    else:\n",
    "        b.append(i.lower())\n",
    "for i in b:\n",
    "    print(i, end = \" \")"
   ]
  },
  {
   "cell_type": "markdown",
   "id": "8f718ff3",
   "metadata": {},
   "source": [
    "#### 문제 49. 최댓값 구하기 <br>\n",
    "순서가 없는 10개의 숫자가 공백으로 구분 되어 주어진다. 주어진 숫자들 중 최댓값을 반환하라. <br><br>\n",
    "\n",
    "입력: 10 9 8 7 6 5 4 3 2 1 <br>\n",
    "출력: 10"
   ]
  },
  {
   "cell_type": "code",
   "execution_count": 20,
   "id": "713fd3b1",
   "metadata": {},
   "outputs": [
    {
     "name": "stdout",
     "output_type": "stream",
     "text": [
      "10 9 8 7 6 5 4 3 2 1\n",
      "10\n"
     ]
    }
   ],
   "source": [
    "a = list(map(int, input().split()))\n",
    "print(sorted(a)[-1])"
   ]
  },
  {
   "cell_type": "markdown",
   "id": "6c601444",
   "metadata": {},
   "source": [
    "#### 문제 50. 버블 정렬 구현하기 <br>\n",
    "버블정렬은 두 인접한 원소를 검사하여 정렬하는 방법을 말합니다. 시간 복잡도는 느리지만 코드가 단순하기 때문에 자주 사용됩니다. 아래 코드의 빈 칸을 채워 버블 정렬을 완성해 봅시다. "
   ]
  },
  {
   "cell_type": "code",
   "execution_count": 2,
   "id": "528134eb",
   "metadata": {
    "scrolled": true
   },
   "outputs": [
    {
     "ename": "SyntaxError",
     "evalue": "invalid syntax (<ipython-input-2-9960779e5c87>, line 3)",
     "output_type": "error",
     "traceback": [
      "\u001b[1;36m  File \u001b[1;32m\"<ipython-input-2-9960779e5c87>\"\u001b[1;36m, line \u001b[1;32m3\u001b[0m\n\u001b[1;33m    for j in range(빈칸을 채워주세요):\u001b[0m\n\u001b[1;37m                       ^\u001b[0m\n\u001b[1;31mSyntaxError\u001b[0m\u001b[1;31m:\u001b[0m invalid syntax\n"
     ]
    }
   ],
   "source": [
    "def bubble(n, data):\n",
    "    for i in range(n-1):\n",
    "        for j in range(빈칸을 채워주세요):\n",
    "            if data[j] > data[j+1]:\n",
    "                빈칸을 채워주세요\n",
    "    for i in range(n):\n",
    "        print(data[i], end = \" \")\n",
    "\n",
    "n = int(input())\n",
    "data = list(map(int, input().split()))\n",
    "\n",
    "bubble(n, data)"
   ]
  },
  {
   "cell_type": "code",
   "execution_count": 19,
   "id": "64f94b33",
   "metadata": {},
   "outputs": [
    {
     "name": "stdout",
     "output_type": "stream",
     "text": [
      "5\n",
      "4 3 1 2 5\n",
      "1 2 3 4 5 "
     ]
    }
   ],
   "source": [
    "def bubble(n, data):\n",
    "    for i in range(n-1):\n",
    "        for j in range(n-i-1):\n",
    "            if data[j] > data[j+1]:\n",
    "                data[j], data[j+1] = data[j+1], data[j]\n",
    "    for i in range(n):\n",
    "        print(data[i], end = \" \")\n",
    "\n",
    "n = int(input())\n",
    "data = list(map(int, input().split()))\n",
    "\n",
    "bubble(n, data)"
   ]
  }
 ],
 "metadata": {
  "kernelspec": {
   "display_name": "Python 3",
   "language": "python",
   "name": "python3"
  },
  "language_info": {
   "codemirror_mode": {
    "name": "ipython",
    "version": 3
   },
   "file_extension": ".py",
   "mimetype": "text/x-python",
   "name": "python",
   "nbconvert_exporter": "python",
   "pygments_lexer": "ipython3",
   "version": "3.8.8"
  }
 },
 "nbformat": 4,
 "nbformat_minor": 5
}
