{
 "cells": [
  {
   "cell_type": "markdown",
   "id": "312de425",
   "metadata": {},
   "source": [
    "#### 문제51. merge sort를 만들어보자\n",
    "병합정렬(merge sort)은 대표적인 정렬 알고리즘 중 하나로 다음과 같이 동작합니다.\n",
    "\n",
    "리스트의 길이가 0 또는 1이면 이미 정렬된 것으로 본다. 그렇지 않은 경우에는\n",
    "정렬되지 않은 리스트를 절반으로 잘라 비슷한 크기의 두 부분 리스트로 나눈다.\n",
    "각 부분 리스트를 재귀적으로 합병 정렬을 이용해 정렬한다.\n",
    "두 부분 리스트를 다시 하나의 정렬된 리스트로 합병한다.\n",
    "(출처 : 위키피디아)\n",
    "\n",
    "다음 코드의 빈칸을 채워 병합정렬을 완성해 봅시다.\n",
    "\n",
    "#병합 정렬\n",
    "def 병합정렬(입력리스트):\n",
    "    입력리스트길이 = len(입력리스트)\n",
    "    if 입력리스트길이 <= 1:\n",
    "        return 입력리스트\n",
    "    중간값 = 입력리스트길이 // 2\n",
    "    그룹_하나 = 병합정렬(입력리스트[:중간값])\n",
    "    그룹_둘 = 병합정렬(입력리스트[중간값:])\n",
    "    결과값 = []\n"
   ]
  },
  {
   "cell_type": "code",
   "execution_count": null,
   "id": "297f9c89",
   "metadata": {},
   "outputs": [],
   "source": [
    "#병합 정렬\n",
    "def 병합정렬(입력리스트):\n",
    "    입력리스트길이 = len(입력리스트)\n",
    "    if 입력리스트길이 <= 1:\n",
    "        return 입력리스트\n",
    "    중간값 = 입력리스트길이 // 2\n",
    "    그룹_하나 = 병합정렬(입력리스트[:중간값])\n",
    "    그룹_둘 = 병합정렬(입력리스트[중간값:])\n",
    "    결과값 = []\n",
    "\n",
    "    while (#빈칸을 채워주세요) and (#빈칸을 채워주세요) :\n",
    "        if (#빈칸을 채워주세요):\n",
    "            결과값.append(그룹_하나.pop(0))\n",
    "        else:\n",
    "            결과값.append(그룹_둘.pop(0))\n",
    "\n",
    "    while 그룹_하나:\n",
    "        결과값.append(그룹_하나.pop(0))\n",
    "    while 그룹_둘:\n",
    "        결과값.append(그룹_둘.pop(0))\n",
    "    return 결과값\n",
    "\n",
    "주어진리스트 = [180, 145, 165, 45, 170, 175, 173, 171]\n",
    "#빈칸을 채워주세요\n",
    "\n",
    "print(병합정렬(주어진리스트))"
   ]
  },
  {
   "cell_type": "code",
   "execution_count": 2,
   "id": "4120600c",
   "metadata": {},
   "outputs": [
    {
     "name": "stdout",
     "output_type": "stream",
     "text": [
      "[45, 145, 165, 170, 171, 173, 175, 180]\n"
     ]
    }
   ],
   "source": [
    "# 병합 정렬\n",
    "def 병합정렬(입력리스트):\n",
    "    입력리스트길이 = len(입력리스트)\n",
    "    if 입력리스트길이 <= 1:\n",
    "        return 입력리스트\n",
    "    중간값 = 입력리스트길이 // 2\n",
    "    그룹_하나 = 병합정렬(입력리스트[:중간값])\n",
    "    그룹_둘 = 병합정렬(입력리스트[중간값:])\n",
    "    결과값 = []\n",
    "\n",
    "    while 그룹_하나 and 그룹_둘 : \n",
    "        if 그룹_하나[0] < 그룹_둘[0]:\n",
    "            결과값.append(그룹_하나.pop(0))\n",
    "        else:\n",
    "            결과값.append(그룹_둘.pop(0))\n",
    "\n",
    "    while 그룹_하나:\n",
    "        결과값.append(그룹_하나.pop(0))\n",
    "    while 그룹_둘:\n",
    "        결과값.append(그룹_둘.pop(0))\n",
    "    return 결과값\n",
    "\n",
    "주어진리스트 = [180, 145, 165, 45, 170, 175, 173, 171]\n",
    "# 빈칸을 채워주세요\n",
    "\n",
    "print(병합정렬(주어진리스트))"
   ]
  },
  {
   "cell_type": "markdown",
   "id": "afada381",
   "metadata": {},
   "source": [
    "#### 문제52. quick sort\n",
    "다음 빈 칸을 채워 퀵 정렬을 완성해주세요."
   ]
  },
  {
   "cell_type": "markdown",
   "id": "47f124cc",
   "metadata": {},
   "source": [
    "def 퀵정렬(입력리스트):\n",
    "    입력리스트의길이 = len(입력리스트)\n",
    "    if 입력리스트의길이 <= 1:\n",
    "        return 입력리스트\n",
    "    기준값 = 입력리스트.pop(입력리스트의길이//2)\n",
    "    그룹_하나 = []\n",
    "    그룹_둘 = []\n",
    "\n",
    "    for i in range(입력리스트의길이-1):\n",
    "        if #내용을 채워주세요:\n",
    "            그룹_하나.append(입력리스트[i])\n",
    "        else:\n",
    "            그룹_둘.append(입력리스트[i])\n",
    "    return #내용을 채워주세요\n",
    "\n",
    "주어진리스트 = input().split(' ')\n",
    "#내용을 채워주세요.\n",
    "\n",
    "print(퀵정렬(주어진리스트))"
   ]
  },
  {
   "cell_type": "code",
   "execution_count": 3,
   "id": "b2580fb8",
   "metadata": {},
   "outputs": [
    {
     "name": "stdout",
     "output_type": "stream",
     "text": [
      "180 145 165 45 170 175 173 171\n",
      "[45, 145, 165, 170, 171, 173, 175, 180]\n"
     ]
    }
   ],
   "source": [
    "def 퀵정렬(입력리스트):\n",
    "    입력리스트의길이 = len(입력리스트)\n",
    "    if 입력리스트의길이 <= 1:\n",
    "        return 입력리스트\n",
    "    기준값 = 입력리스트.pop(입력리스트의길이//2)\n",
    "    그룹_하나 = []\n",
    "    그룹_둘 = []\n",
    "\n",
    "    for i in range(입력리스트의길이-1):\n",
    "        if 입력리스트[i] < 기준값:\n",
    "            그룹_하나.append(입력리스트[i])\n",
    "        else:\n",
    "            그룹_둘.append(입력리스트[i])\n",
    "    return 퀵정렬(그룹_하나) + [기준값] + 퀵정렬(그룹_둘)\n",
    "\n",
    "주어진리스트 = input().split(' ')\n",
    "주어진리스트 = [int(i) for i in 주어진리스트]\n",
    "\n",
    "print(퀵정렬(주어진리스트))"
   ]
  },
  {
   "cell_type": "markdown",
   "id": "a035372f",
   "metadata": {},
   "source": [
    "#### 문제53. 괄호 문자열\n",
    "괄호 문자열이란 괄호 기호인 '{', '}', '[', ']', '(', ')' 와 같은 것을 말한다. 그 중 괄호의 모양이 바르게 구성 된 문자열을 바른 문자열, 그렇지 않은 문자열을 바르지 않은 문자열이라 부르도록 하자.\n",
    "\n",
    "(())와 같은 문자열은 바른 문자열이지만 ()()) 와 같은 문자열은 바르지 않은 문자열이다.(해당 문제에서는 소괄호만 판별하지만, 실력이 되시는 분들은 중괄호와 대괄호까지 판별해보세요.)\n",
    "\n",
    "입력으로 주어진 괄호 문자열이 바른 문자열인지 바르지 않은 문자열인지 \"YES\"와 \"NO\"로 구분된 문자열을 출력해보자."
   ]
  },
  {
   "cell_type": "code",
   "execution_count": 4,
   "id": "a031d693",
   "metadata": {},
   "outputs": [
    {
     "name": "stdout",
     "output_type": "stream",
     "text": [
      "문자열을 입력하시오: ())\n",
      "NO\n"
     ]
    }
   ],
   "source": [
    "s = input(\"문자열을 입력하시오: \")\n",
    "a = []\n",
    "\n",
    "for i in range(0, len(s)):\n",
    "  if s[i] == '(':\n",
    "    a.append('(')\n",
    "  elif s[i] == ')':\n",
    "    if len(a) == 0:\n",
    "      a.append(')')\n",
    "    else:\n",
    "      a.pop()\n",
    "\n",
    "if len(a) == 0:\n",
    "  print(\"YES\")\n",
    "else:\n",
    "  print(\"NO\")"
   ]
  },
  {
   "cell_type": "markdown",
   "id": "ab265507",
   "metadata": {},
   "source": [
    "#### 문제54 : 연속되는 수\n",
    "은주는 놀이공원 아르바이트를 하고 있습니다. 은주가 일하는 놀이공원에서는 현재 놀이공원 곳곳에 숨겨진 숫자 스탬프를 모아 오면 선물을 주는 이벤트를 하고 있습니다. 숫자 스탬프는 매일 그 수와 스탬프에 적힌 숫자가 바뀌지만 그 숫자는 항상 연속됩니다. 그런데 요즘 다른 날에 찍은 스탬프를 가지고 와 선물을 달라고 하는 손님이 늘었습니다.\n",
    "\n",
    "스탬프에 적힌 숫자가 공백으로 구분되어 주어지면 이 숫자가 연속수인지 아닌지 \"YES\"와 \"NO\"로 판별하는 프로그램을 작성하세요."
   ]
  },
  {
   "cell_type": "code",
   "execution_count": 5,
   "id": "00331208",
   "metadata": {},
   "outputs": [
    {
     "name": "stdout",
     "output_type": "stream",
     "text": [
      "숫자를 공백으로 구분하여 입력하세요: 1 3 2 4 5\n",
      "YES\n"
     ]
    }
   ],
   "source": [
    "n = sorted(list(map(int, input(\"숫자를 공백으로 구분하여 입력하세요: \").split())))\n",
    "stamp = True\n",
    "\n",
    "for i in range(0, len(n)-1):\n",
    "  if n[i]+1 != n[i+1]:\n",
    "    stamp = False\n",
    "\n",
    "if stamp:\n",
    "  print(\"YES\")\n",
    "else:\n",
    "  print(\"NO\")"
   ]
  },
  {
   "cell_type": "markdown",
   "id": "c4149ba4",
   "metadata": {},
   "source": [
    "#### 문제 55. 하노이의 탑\n",
    "하노이의 탑은 프랑스 수학자 에두아르드가 처음으로 발표한 게임입니다. 하노이의 탑은 A, B, C 3개의 기둥과 기둥에 꽂을 수 있는 N개의 원판으로 이루어져 있습니다. 이 게임에서 다음의 규칙을 만족해야 합니다.\n",
    "\n",
    "처음에 모든 원판은 A기둥에 꽂혀 있다.\n",
    "모든 원판의 지름은 다르다.\n",
    "이 원반은 세 개의 기둥 중 하나에 반드시 꽂혀야 한다.\n",
    "작은 원반 위에 큰 원반을 놓을 수 없다.\n",
    "한 번에 하나의 원판(가장 위에 있는 원판) 만을 옮길 수 있다.\n",
    "이 규칙을 만족하며 A기둥에 있는 원반 N개를 모두 C 원반으로 옮기고 싶습니다. 모든 원반을 옮기기 위해 실행되어야 할 최소 원반 이동 횟수를 계산하는 프로그램을 완성해주세요."
   ]
  },
  {
   "cell_type": "code",
   "execution_count": null,
   "id": "31b49e7a",
   "metadata": {},
   "outputs": [],
   "source": [
    "원판의이동경로 = []\n",
    "def 하노이(원반의수, 시작기둥, 목표기둥, 보조기둥):\n",
    "    #원판이 한개일 때에는 옮기면 됩니다.\n",
    "    if 원반의수 == 1:\n",
    "        원판의이동경로.append([시작기둥, 목표기둥]) \n",
    "        return None\n",
    "    #원반의 n-1개를 경유기둥으로 옮기고\n",
    "    하노이(#내용을 채워주세요.)\n",
    "    #가장 큰 원반은 목표기둥으로\n",
    "    원판의이동경로.append(#내용을 채워주세요.) \n",
    "    #경유기둥과 시작기둥을 바꿉니다!\n",
    "    하노이(#내용을 채워주세요.)\n",
    "\n",
    "user_input = int(input())\n",
    "하노이(user_input,'A','C','B')\n",
    "\n",
    "print(len(원판의이동경로))"
   ]
  },
  {
   "cell_type": "code",
   "execution_count": 6,
   "id": "79c03dc3",
   "metadata": {},
   "outputs": [
    {
     "name": "stdout",
     "output_type": "stream",
     "text": [
      "6\n",
      "63\n"
     ]
    }
   ],
   "source": [
    "원판의이동경로 = []\n",
    "def 하노이(원반의수, 시작기둥, 목표기둥, 보조기둥):\n",
    "    #원판이 한개일 때에는 옮기면 됩니다.\n",
    "    if 원반의수 == 1:\n",
    "        원판의이동경로.append([시작기둥, 목표기둥]) \n",
    "        return None\n",
    "        \n",
    "    #원반의 n-1개를 경유기둥으로 옮기고\n",
    "    하노이(원반의수-1, 시작기둥, 보조기둥, 목표기둥)\n",
    "    #가장 큰 원반은 목표기둥으로\n",
    "    원판의이동경로.append([시작기둥, 목표기둥]) \n",
    "    #경유기둥과 시작기둥을 바꿉니다!\n",
    "    하노이(원반의수-1, 보조기둥, 목표기둥, 시작기둥)\n",
    "\n",
    "user_input = int(input())\n",
    "하노이(user_input,'A','C','B')\n",
    "\n",
    "print(len(원판의이동경로))"
   ]
  },
  {
   "cell_type": "markdown",
   "id": "479b214a",
   "metadata": {},
   "source": [
    "#### 문제56. 리스트의 함수 응용\n",
    "다음의 딕셔너리가 주어졌을 때 한국의 면적과 가장 비슷한 국가와 그 차이를 출력하세요.\n",
    "\n",
    "- 데이터\n",
    "nationWidth = {\n",
    "     'korea': 220877,\n",
    "     'Rusia': 17098242,\n",
    "     'China': 9596961,\n",
    "     'France': 543965,\n",
    "     'Japan': 377915,\n",
    "     'England' : 242900 }\n",
    "\n",
    "- 출력\n",
    "England 22023"
   ]
  },
  {
   "cell_type": "code",
   "execution_count": 7,
   "id": "da5de087",
   "metadata": {},
   "outputs": [
    {
     "name": "stdout",
     "output_type": "stream",
     "text": [
      "England 22023\n"
     ]
    }
   ],
   "source": [
    "nationWidth = {\n",
    "     'korea': 220877,\n",
    "     'Rusia': 17098242,\n",
    "     'China': 9596961,\n",
    "     'France': 543965,\n",
    "     'Japan': 377915,\n",
    "     'England' : 242900 }\n",
    "\n",
    "a = nationWidth['korea']\n",
    "nationWidth.pop('korea')\n",
    "\n",
    "b = list(nationWidth.items())\n",
    "gap = max(nationWidth.values())\n",
    "item = 0\n",
    "\n",
    "for i in b:\n",
    "    if gap > abs(i[1] - a):\n",
    "        gap = abs(i[1] - a)\n",
    "        item = i\n",
    "print(item[0], item[1]-220877)"
   ]
  },
  {
   "cell_type": "markdown",
   "id": "08cb22a5",
   "metadata": {},
   "source": [
    "#### 문제57. 내장함수 응용하기\n",
    "0부터 1000까지 1의 개수를 세는 프로그램을 만들려고 합니다. 예를 들어 0부터 20까지 1의 개수를 세어본다면 1, 10 11, 12, 13, 14, 15, 16, 17, 18, 19 에 각각 1이 들어가므로 12개의 1이 있게 됩니다. 11은 1이 2번 들어간 셈이죠.\n",
    "\n",
    "그렇다면 0부터 1000까지 수에서 1은 몇번이나 들어갔을까요? 출력해주세요!"
   ]
  },
  {
   "cell_type": "code",
   "execution_count": 8,
   "id": "f8c418cc",
   "metadata": {},
   "outputs": [
    {
     "name": "stdout",
     "output_type": "stream",
     "text": [
      "301\n"
     ]
    }
   ],
   "source": [
    "s = \"\"\n",
    "\n",
    "for i in range(0, 1001):\n",
    "  s = s + str(i)\n",
    "\n",
    "s = list(map(int, s))\n",
    "\n",
    "print(s.count(1))"
   ]
  },
  {
   "cell_type": "markdown",
   "id": "8fff329d",
   "metadata": {},
   "source": [
    "#### 문제58. 콤마 찍기\n",
    "원범이는 편의점 아르바이트가 끝난 후 정산을 하고자 합니다. 정산을 빨리하고 집에가고 싶은 원범이는 프로그램을 만들려고 합니다.\n",
    "\n",
    "숫자를 입력 받고 천단위로 콤마(,)를 찍어주세요.\n",
    "\n",
    "예를들어, 123456789를 입력받았으면 123,456,789 를 출력해야합니다."
   ]
  },
  {
   "cell_type": "code",
   "execution_count": 9,
   "id": "e5097f67",
   "metadata": {},
   "outputs": [
    {
     "name": "stdout",
     "output_type": "stream",
     "text": [
      "숫자를 입력하시오: 123456789\n",
      "123,456,789"
     ]
    }
   ],
   "source": [
    "n = list(input(\"숫자를 입력하시오: \"))\n",
    "\n",
    "for i in range(len(n)-3, 0, -3):\n",
    "  n.insert(i, ',')\n",
    "\n",
    "for i in range(len(n)):\n",
    "  print(n[i], end=\"\")"
   ]
  },
  {
   "cell_type": "markdown",
   "id": "0028ccc2",
   "metadata": {},
   "source": [
    "#### 문제59. 빈칸채우기\n",
    "총 문자열의 길이는 50으로 제한하고 사용자가 문자열을 입력하면 그 문자열을 가운데 정렬을 해주고, 나머지 빈 부분에는 '='을 채워넣어주세요"
   ]
  },
  {
   "cell_type": "code",
   "execution_count": 10,
   "id": "4f452bf7",
   "metadata": {},
   "outputs": [
    {
     "name": "stdout",
     "output_type": "stream",
     "text": [
      "문자열을 입력하시오: sunwoo\n",
      "======================sunwoo============================"
     ]
    }
   ],
   "source": [
    "s = input(\"문자열을 입력하시오: \")\n",
    "divide = (50 - len(s)) // 2\n",
    "\n",
    "for i in range(0, 51):\n",
    "  if i == divide:\n",
    "    print(s, end=\"\")\n",
    "    i = i + len(s)\n",
    "  else:\n",
    "    print(\"=\", end=\"\")"
   ]
  },
  {
   "cell_type": "markdown",
   "id": "510dd5fb",
   "metadata": {},
   "source": [
    "#### 문제60 : enumerate\n",
    "새학기가 되어 이름을 가나다 순서대로 배정하고 번호를 매기려고 합니다. 코드에 입력된 이름을 아래와 같이 출력해주세요.\n",
    "\n",
    "- 데이터\n",
    "student = ['강은지','김유정','박현서','최성훈','홍유진','박지호','권윤일','김채리','한지호','김진이','김민호','강채연']\n",
    "\n",
    "- 출력\n",
    "번호: 1, 이름: 강은지\n",
    "번호: 2, 이름: 강채연\n",
    "번호: 3, 이름: 권윤일\n",
    "번호: 4, 이름: 김민호\n",
    "번호: 5, 이름: 김유정\n",
    "번호: 6, 이름: 김진이\n",
    "번호: 7, 이름: 김채리\n",
    "번호: 8, 이름: 박지호\n",
    "번호: 9, 이름: 박현서\n",
    "번호: 10, 이름: 최성훈\n",
    "번호: 11, 이름: 한지호\n",
    "번호: 12, 이름: 홍유진"
   ]
  },
  {
   "cell_type": "code",
   "execution_count": 11,
   "id": "9fc859a2",
   "metadata": {},
   "outputs": [
    {
     "name": "stdout",
     "output_type": "stream",
     "text": [
      "번호: 1, 이름: 강은지\n",
      "번호: 2, 이름: 강채연\n",
      "번호: 3, 이름: 권윤일\n",
      "번호: 4, 이름: 김민호\n",
      "번호: 5, 이름: 김유정\n",
      "번호: 6, 이름: 김진이\n",
      "번호: 7, 이름: 김채리\n",
      "번호: 8, 이름: 박지호\n",
      "번호: 9, 이름: 박현서\n",
      "번호: 10, 이름: 최성훈\n",
      "번호: 11, 이름: 한지호\n",
      "번호: 12, 이름: 홍유진\n"
     ]
    }
   ],
   "source": [
    "student = ['강은지','김유정','박현서','최성훈','홍유진','박지호','권윤일','김채리','한지호','김진이','김민호','강채연']\n",
    "student = sorted(student)\n",
    "\n",
    "for num, name in enumerate(student):\n",
    "  print(\"번호: {}, 이름: {}\".format(num+1, name))"
   ]
  }
 ],
 "metadata": {
  "kernelspec": {
   "display_name": "Python 3",
   "language": "python",
   "name": "python3"
  },
  "language_info": {
   "codemirror_mode": {
    "name": "ipython",
    "version": 3
   },
   "file_extension": ".py",
   "mimetype": "text/x-python",
   "name": "python",
   "nbconvert_exporter": "python",
   "pygments_lexer": "ipython3",
   "version": "3.8.8"
  }
 },
 "nbformat": 4,
 "nbformat_minor": 5
}
