{
 "cells": [
  {
   "cell_type": "markdown",
   "id": "54fdf95e",
   "metadata": {},
   "source": [
    "level 8. 기본 수학 1\n",
    "1. 손익분기점\n",
    "월드전자는 노트북을 제조하고 판매하는 회사이다. 노트북 판매 대수에 상관없이 매년 임대료, 재산세, 보험료, 급여 등 A만원의 고정 비용이 들며, 한 대의 노트북을 생산하는 데에는 재료비와 인건비 등 총 B만원의 가변 비용이 든다고 한다.\n",
    "\n",
    "예를 들어 A=1,000, B=70이라고 하자. 이 경우 노트북을 한 대 생산하는 데는 총 1,070만원이 들며, 열 대 생산하는 데는 총 1,700만원이 든다.\n",
    "\n",
    "노트북 가격이 C만원으로 책정되었다고 한다. 일반적으로 생산 대수를 늘려 가다 보면 어느 순간 총 수입(판매비용)이 총 비용(=고정비용+가변비용)보다 많아지게 된다. 최초로 총 수입이 총 비용보다 많아져 이익이 발생하는 지점을 손익분기점(BREAK-EVEN POINT)이라고 한다.\n",
    "\n",
    "A, B, C가 주어졌을 때, 손익분기점을 구하는 프로그램을 작성하시오."
   ]
  },
  {
   "cell_type": "code",
   "execution_count": 1,
   "id": "d05902bc",
   "metadata": {},
   "outputs": [
    {
     "name": "stdout",
     "output_type": "stream",
     "text": [
      "1000 70 170\n",
      "11\n"
     ]
    }
   ],
   "source": [
    "a, b, c = map(int,input().split())\n",
    "if c <= b:\n",
    "    print(-1)\n",
    "else :\n",
    "    n = a/(c-b) + 1\n",
    "    print(int(n))"
   ]
  },
  {
   "cell_type": "markdown",
   "id": "00f28fdc",
   "metadata": {},
   "source": [
    "2. 벌집\n",
    "위의 그림과 같이 육각형으로 이루어진 벌집이 있다. 그림에서 보는 바와 같이 중앙의 방 1부터 시작해서 이웃하는 방에 돌아가면서 1씩 증가하는 번호를 주소로 매길 수 있다. 숫자 N이 주어졌을 때, 벌집의 중앙 1에서 N번 방까지 최소 개수의 방을 지나서 갈 때 몇 개의 방을 지나가는지(시작과 끝을 포함하여)를 계산하는 프로그램을 작성하시오. 예를 들면, 13까지는 3개, 58까지는 5개를 지난다."
   ]
  },
  {
   "cell_type": "code",
   "execution_count": 2,
   "id": "7d96f6a1",
   "metadata": {},
   "outputs": [
    {
     "name": "stdout",
     "output_type": "stream",
     "text": [
      "13\n",
      "3\n"
     ]
    }
   ],
   "source": [
    "n = int(input())\n",
    "re = 1\n",
    "p = 1\n",
    "while True:\n",
    "    if re >= n:\n",
    "        print(p)\n",
    "        break\n",
    "    re += 6*p\n",
    "    p +=1"
   ]
  },
  {
   "cell_type": "markdown",
   "id": "b9eeffc7",
   "metadata": {},
   "source": [
    "3. 무한히 큰 배열에 다음과 같이 분수들이 적혀있다.\n",
    "\n",
    "1/1 1/2 1/3 1/4 1/5 … 2/1 2/2 2/3 2/4 … … 3/1 3/2 3/3 … … … 4/1 4/2 … … … … 5/1 … … … … … … … … … … … 이와 같이 나열된 분수들을 1/1 → 1/2 → 2/1 → 3/1 → 2/2 → … 과 같은 지그재그 순서로 차례대로 1번, 2번, 3번, 4번, 5번, … 분수라고 하자.\n",
    "\n",
    "X가 주어졌을 때, X번째 분수를 구하는 프로그램을 작성하시오."
   ]
  },
  {
   "cell_type": "code",
   "execution_count": 3,
   "id": "c56672a9",
   "metadata": {},
   "outputs": [
    {
     "name": "stdout",
     "output_type": "stream",
     "text": [
      "5\n",
      "2/2\n"
     ]
    }
   ],
   "source": [
    "n = int(input())\n",
    "l = 0\n",
    "m_n = 0\n",
    "while n > m_n:\n",
    "    l +=1\n",
    "    m_n +=l\n",
    "    \n",
    "gap = m_n - n\n",
    "if l % 2 == 0:  \n",
    "    top = l - gap  \n",
    "    under = gap + 1  \n",
    "else :  \n",
    "    top = gap + 1 \n",
    "    under = l - gap  \n",
    "print(f\"{top}/{under}\")"
   ]
  },
  {
   "cell_type": "markdown",
   "id": "8cda7454",
   "metadata": {},
   "source": [
    "4. 달팽이는 올라가고 싶다\n",
    "땅 위에 달팽이가 있다. 이 달팽이는 높이가 V미터인 나무 막대를 올라갈 것이다.\n",
    "\n",
    "달팽이는 낮에 A미터 올라갈 수 있다. 하지만, 밤에 잠을 자는 동안 B미터 미끄러진다. 또, 정상에 올라간 후에는 미끄러지지 않는다.\n",
    "\n",
    "달팽이가 나무 막대를 모두 올라가려면, 며칠이 걸리는지 구하는 프로그램을 작성하시오."
   ]
  },
  {
   "cell_type": "code",
   "execution_count": 6,
   "id": "9f85d429",
   "metadata": {},
   "outputs": [
    {
     "name": "stdout",
     "output_type": "stream",
     "text": [
      "2 1 5\n",
      "4\n"
     ]
    }
   ],
   "source": [
    "a, b, v = map(int, input().split())\n",
    "day = a - b \n",
    "if v < a:\n",
    "    print(1)\n",
    "else:\n",
    "    if v - a < day:\n",
    "        result = 1\n",
    "    else:\n",
    "        result = (v - a) // day\n",
    "print(result + 1)"
   ]
  },
  {
   "cell_type": "markdown",
   "id": "a187a687",
   "metadata": {},
   "source": [
    "5. ACM 호텔\n",
    "ACM 호텔 매니저 지우는 손님이 도착하는 대로 빈 방을 배정하고 있다. 고객 설문조사에 따르면 손님들은 호텔 정문으로부터 걸어서 가장 짧은 거리에 있는 방을 선호한다고 한다. 여러분은 지우를 도와 줄 프로그램을 작성하고자 한다. 즉 설문조사 결과 대로 호텔 정문으로부터 걷는 거리가 가장 짧도록 방을 배정하는 프로그램을 작성하고자 한다.\n",
    "\n",
    "문제를 단순화하기 위해서 호텔은 직사각형 모양이라고 가정하자. 각 층에 W 개의 방이 있는 H 층 건물이라고 가정하자 (1 ≤ H, W ≤ 99). 그리고 엘리베이터는 가장 왼쪽에 있다고 가정하자(그림 1 참고). 이런 형태의 호텔을 H × W 형태 호텔이라고 부른다. 호텔 정문은 일층 엘리베이터 바로 앞에 있는데, 정문에서 엘리베이터까지의 거리는 무시한다. 또 모든 인접한 두 방 사이의 거리는 같은 거리(거리 1)라고 가정하고 호텔의 정면 쪽에만 방이 있다고 가정한다.\n",
    "\n",
    "\n",
    "\n",
    "그림 1. H = 6 이고 W = 12 인 H × W 호텔을 간략하게 나타낸 그림\n",
    "\n",
    "방 번호는 YXX 나 YYXX 형태인데 여기서 Y 나 YY 는 층 수를 나타내고 XX 는 엘리베이터에서부터 세었을 때의 번호를 나타낸다. 즉, 그림 1 에서 빗금으로 표시한 방은 305 호가 된다.\n",
    "\n",
    "손님은 엘리베이터를 타고 이동하는 거리는 신경 쓰지 않는다. 다만 걷는 거리가 같을 때에는 아래층의 방을 더 선호한다. 예를 들면 102 호 방보다는 301 호 방을 더 선호하는데, 102 호는 거리 2 만큼 걸어야 하지만 301 호는 거리 1 만큼만 걸으면 되기 때문이다. 같은 이유로 102 호보다 2101 호를 더 선호한다.\n",
    "\n",
    "여러분이 작성할 프로그램은 초기에 모든 방이 비어있다고 가정하에 이 정책에 따라 N 번째로 도착한 손님에게 배정될 방 번호를 계산하는 프로그램이다. 첫 번째 손님은 101 호, 두 번째 손님은 201 호 등과 같이 배정한다. 그림 1 의 경우를 예로 들면, H = 6이므로 10 번째 손님은 402 호에 배정해야 한다."
   ]
  },
  {
   "cell_type": "code",
   "execution_count": 2,
   "id": "34ab36cd",
   "metadata": {},
   "outputs": [
    {
     "name": "stdout",
     "output_type": "stream",
     "text": [
      "2\n",
      "6 12 10\n",
      "402\n",
      "30 50 62\n",
      "203\n"
     ]
    }
   ],
   "source": [
    "t = int(input())\n",
    "for i in range(t):\n",
    "    h, w, n = map(int, input().split())\n",
    "    f = 0\n",
    "    ho = 0\n",
    "    if n % h == 0:\n",
    "        f = h * 100\n",
    "        ho = n // h\n",
    "    else:\n",
    "        f = (n % h) * 100\n",
    "        ho = 1 + n // h\n",
    "    print(f + ho)"
   ]
  },
  {
   "cell_type": "markdown",
   "id": "c6a3b5fa",
   "metadata": {},
   "source": [
    "6. 부녀회장이 될테야\n",
    "평소 반상회에 참석하는 것을 좋아하는 주희는 이번 기회에 부녀회장이 되고 싶어 각 층의 사람들을 불러 모아 반상회를 주최하려고 한다.\n",
    "\n",
    "이 아파트에 거주를 하려면 조건이 있는데, “a층의 b호에 살려면 자신의 아래(a-1)층의 1호부터 b호까지 사람들의 수의 합만큼 사람들을 데려와 살아야 한다” 는 계약 조항을 꼭 지키고 들어와야 한다.\n",
    "\n",
    "아파트에 비어있는 집은 없고 모든 거주민들이 이 계약 조건을 지키고 왔다고 가정했을 때, 주어지는 양의 정수 k와 n에 대해 k층에 n호에는 몇 명이 살고 있는지 출력하라. 단, 아파트에는 0층부터 있고 각층에는 1호부터 있으며, 0층의 i호에는 i명이 산다."
   ]
  },
  {
   "cell_type": "code",
   "execution_count": 3,
   "id": "27a05e8b",
   "metadata": {},
   "outputs": [
    {
     "name": "stdout",
     "output_type": "stream",
     "text": [
      "2\n",
      "1\n",
      "3\n",
      "6\n",
      "4\n",
      "2\n",
      "6\n"
     ]
    }
   ],
   "source": [
    "t = int(input())\n",
    "\n",
    "for _ in range(t):  \n",
    "    floor = int(input())  # 층\n",
    "    num = int(input())  # 호\n",
    "    f0 = [x for x in range(1, num+1)]  # 0층 리스트\n",
    "    for k in range(floor):  # 층 수 만큼 반복\n",
    "        for i in range(1, num):  # 1 ~ n-1까지 (인덱스로 사용)\n",
    "            f0[i] += f0[i-1]  # 층별 각 호실의 사람 수를 변경\n",
    "    print(f0[-1])  # 가장 마지막 수 출력"
   ]
  },
  {
   "cell_type": "markdown",
   "id": "3050d984",
   "metadata": {},
   "source": [
    "7. 설탕 배달\n",
    "상근이는 요즘 설탕공장에서 설탕을 배달하고 있다. 상근이는 지금 사탕가게에 설탕을 정확하게 N킬로그램을 배달해야 한다. 설탕공장에서 만드는 설탕은 봉지에 담겨져 있다. 봉지는 3킬로그램 봉지와 5킬로그램 봉지가 있다.\n",
    "\n",
    "상근이는 귀찮기 때문에, 최대한 적은 봉지를 들고 가려고 한다. 예를 들어, 18킬로그램 설탕을 배달해야 할 때, 3킬로그램 봉지 6개를 가져가도 되지만, 5킬로그램 3개와 3킬로그램 1개를 배달하면, 더 적은 개수의 봉지를 배달할 수 있다.\n",
    "\n",
    "상근이가 설탕을 정확하게 N킬로그램 배달해야 할 때, 봉지 몇 개를 가져가면 되는지 그 수를 구하는 프로그램을 작성하시오."
   ]
  },
  {
   "cell_type": "code",
   "execution_count": 4,
   "id": "adc0a561",
   "metadata": {},
   "outputs": [
    {
     "name": "stdout",
     "output_type": "stream",
     "text": [
      "21\n",
      "5\n"
     ]
    }
   ],
   "source": [
    "sugar = int(input())\n",
    "bag = 0\n",
    "while sugar >= 0 :\n",
    "    if sugar % 5 == 0 :\n",
    "        bag += (sugar // 5)\n",
    "        print(bag)\n",
    "        break\n",
    "    sugar -= 3  \n",
    "    bag += 1\n",
    "else :\n",
    "    print(-1)"
   ]
  },
  {
   "cell_type": "markdown",
   "id": "ee52ee70",
   "metadata": {},
   "source": [
    "8. 큰 수 A+B\n",
    "두 정수 A와 B를 입력받은 다음, A+B를 출력하는 프로그램을 작성하시오."
   ]
  },
  {
   "cell_type": "code",
   "execution_count": 6,
   "id": "21fcda93",
   "metadata": {},
   "outputs": [
    {
     "name": "stdout",
     "output_type": "stream",
     "text": [
      "321231 48394\n",
      "369625\n"
     ]
    }
   ],
   "source": [
    "A, B = map(int, input().split())\n",
    "print(A+B)"
   ]
  },
  {
   "cell_type": "markdown",
   "id": "f2c3cb63",
   "metadata": {},
   "source": [
    "9. Fly me to the Alpha Centauri\n",
    "우현이는 어린 시절, 지구 외의 다른 행성에서도 인류들이 살아갈 수 있는 미래가 오리라 믿었다. 그리고 그가 지구라는 세상에 발을 내려 놓은 지 23년이 지난 지금, 세계 최연소 ASNA 우주 비행사가 되어 새로운 세계에 발을 내려 놓는 영광의 순간을 기다리고 있다.\n",
    "\n",
    "그가 탑승하게 될 우주선은 Alpha Centauri라는 새로운 인류의 보금자리를 개척하기 위한 대규모 생활 유지 시스템을 탑재하고 있기 때문에, 그 크기와 질량이 엄청난 이유로 최신기술력을 총 동원하여 개발한 공간이동 장치를 탑재하였다. 하지만 이 공간이동 장치는 이동 거리를 급격하게 늘릴 경우 기계에 심각한 결함이 발생하는 단점이 있어서, 이전 작동시기에 k광년을 이동하였을 때는 k-1 , k 혹은 k+1 광년만을 다시 이동할 수 있다. 예를 들어, 이 장치를 처음 작동시킬 경우 -1 , 0 , 1 광년을 이론상 이동할 수 있으나 사실상 음수 혹은 0 거리만큼의 이동은 의미가 없으므로 1 광년을 이동할 수 있으며, 그 다음에는 0 , 1 , 2 광년을 이동할 수 있는 것이다. ( 여기서 다시 2광년을 이동한다면 다음 시기엔 1, 2, 3 광년을 이동할 수 있다. )\n",
    "\n",
    "\n",
    "\n",
    "김우현은 공간이동 장치 작동시의 에너지 소모가 크다는 점을 잘 알고 있기 때문에 x지점에서 y지점을 향해 최소한의 작동 횟수로 이동하려 한다. 하지만 y지점에 도착해서도 공간 이동장치의 안전성을 위하여 y지점에 도착하기 바로 직전의 이동거리는 반드시 1광년으로 하려 한다.\n",
    "\n",
    "김우현을 위해 x지점부터 정확히 y지점으로 이동하는데 필요한 공간 이동 장치 작동 횟수의 최솟값을 구하는 프로그램을 작성하라."
   ]
  },
  {
   "cell_type": "code",
   "execution_count": 8,
   "id": "8d2af852",
   "metadata": {},
   "outputs": [
    {
     "name": "stdout",
     "output_type": "stream",
     "text": [
      "3\n",
      "5 3\n",
      "0\n",
      "1 3\n",
      "2\n",
      "4 8\n",
      "3\n"
     ]
    }
   ],
   "source": [
    "t = int(input())\n",
    "\n",
    "for _ in range(t):\n",
    "    x, y = map(int,input().split())\n",
    "    distance = y - x\n",
    "    count = 0  # 이동 횟수\n",
    "    move = 1  # count별 이동 가능한 거리\n",
    "    move_plus = 0  # 이동한 거리의 합\n",
    "    while move_plus < distance :\n",
    "        count += 1\n",
    "        move_plus += move  # count 수에 해당하는 move를 더함\n",
    "        if count % 2 == 0 :  # count가 2의 배수일 때, \n",
    "            move += 1  \n",
    "    print(count)"
   ]
  },
  {
   "cell_type": "markdown",
   "id": "f3764031",
   "metadata": {},
   "source": [
    "level 9. 기본수학 2\n",
    "1. 소수 찾기 <br>\n",
    "주어진 수 N개 중에서 소수가 몇 개인지 찾아서 출력하는 프로그램을 작성하시오."
   ]
  },
  {
   "cell_type": "code",
   "execution_count": 9,
   "id": "1623567c",
   "metadata": {},
   "outputs": [
    {
     "name": "stdout",
     "output_type": "stream",
     "text": [
      "61\n",
      "3\n",
      "1\n"
     ]
    }
   ],
   "source": [
    "n = int(input())\n",
    "numbers = map(int, input().split())\n",
    "sosu = 0\n",
    "for num in numbers:\n",
    "    error = 0\n",
    "    if num > 1 :\n",
    "        for i in range(2, num):  # 2부터 n-1까지\n",
    "            if num % i == 0:\n",
    "                error += 1  # 2부터 n-1까지 나눈 몫이 0이면 error가 증가\n",
    "        if error == 0:\n",
    "            sosu += 1  # error가 없으면 소수.\n",
    "print(sosu)"
   ]
  },
  {
   "cell_type": "markdown",
   "id": "7cc129c6",
   "metadata": {},
   "source": [
    "2. 소수 <br>\n",
    "자연수 M과 N이 주어질 때 M이상 N이하의 자연수 중 소수인 것을 모두 골라 이들 소수의 합과 최솟값을 찾는 프로그램을 작성하시오.\n",
    "예를 들어 M=60, N=100인 경우 60이상 100이하의 자연수 중 소수는 61, 67, 71, 73, 79, 83, 89, 97 총 8개가 있으므로, 이들 소수의 합은 620이고, 최솟값은 61이 된다."
   ]
  },
  {
   "cell_type": "code",
   "execution_count": 10,
   "id": "a0404796",
   "metadata": {},
   "outputs": [
    {
     "name": "stdout",
     "output_type": "stream",
     "text": [
      "40\n",
      "28\n",
      "-1\n"
     ]
    }
   ],
   "source": [
    "start_num = int(input())\n",
    "last_num = int(input())\n",
    "\n",
    "sosu_list = []\n",
    "for num in range(start_num, last_num+1):\n",
    "    error = 0\n",
    "    if num > 1 :\n",
    "        for i in range(2, num):  # 2부터 num-1까지\n",
    "            if num % i == 0:\n",
    "                error += 1\n",
    "                break  # 2부터 num-1까지 나눈 몫이 0이면 error가 증가하고 for문을 끝냄\n",
    "        if error == 0:\n",
    "            sosu_list.append(num)  # error가 없으면 소수리스트에 추가\n",
    "            \n",
    "if len(sosu_list) > 0 :\n",
    "    print(sum(sosu_list))\n",
    "    print(min(sosu_list))\n",
    "else:\n",
    "    print(-1)"
   ]
  },
  {
   "cell_type": "markdown",
   "id": "4c53df1e",
   "metadata": {},
   "source": [
    "3. 소인수분해 <br>\n",
    "정수 N이 주어졌을 때, 소인수분해하는 프로그램을 작성하시오."
   ]
  },
  {
   "cell_type": "code",
   "execution_count": 11,
   "id": "f9160fd4",
   "metadata": {},
   "outputs": [
    {
     "name": "stdout",
     "output_type": "stream",
     "text": [
      "80\n",
      "2\n",
      "2\n",
      "2\n",
      "2\n",
      "5\n"
     ]
    }
   ],
   "source": [
    "n = int(input())\n",
    "\n",
    "if n == 1:\n",
    "    print('')\n",
    "\n",
    "# 2부터 하나씩 나눠보기\n",
    "for i in range(2, n+1):\n",
    "    if n % i == 0:\n",
    "    \t#해당 숫자로 나눌 수 없을 때까지 나누기\n",
    "        while n % i == 0:\n",
    "            print(i)\n",
    "            n = n / i"
   ]
  },
  {
   "cell_type": "markdown",
   "id": "19d8cffc",
   "metadata": {},
   "source": [
    "4. 소수 구하기 <br>\n",
    "M이상 N이하의 소수를 모두 출력하는 프로그램을 작성하시오."
   ]
  },
  {
   "cell_type": "code",
   "execution_count": 13,
   "id": "d0249d25",
   "metadata": {},
   "outputs": [
    {
     "name": "stdout",
     "output_type": "stream",
     "text": [
      "5 10\n",
      "5\n",
      "7\n"
     ]
    }
   ],
   "source": [
    "def isPrime(num):\n",
    "    if num==1:\n",
    "        return False\n",
    "    else:\n",
    "        for i in range(2, int(num**0.5)+1):\n",
    "            if num%i == 0:\n",
    "                return False\n",
    "        return True\n",
    "\n",
    "M, N = map(int, input().split())\n",
    "\n",
    "for i in range(M, N+1):\n",
    "    if isPrime(i):\n",
    "        print(i)"
   ]
  },
  {
   "cell_type": "markdown",
   "id": "643c1102",
   "metadata": {},
   "source": [
    "5. 베르트랑 공준 <br>\n",
    "베르트랑 공준은 임의의 자연수 n에 대하여, n보다 크고, 2n보다 작거나 같은 소수는 적어도 하나 존재한다는 내용을 담고 있다.\n",
    "\n",
    "이 명제는 조제프 베르트랑이 1845년에 추측했고, 파프누티 체비쇼프가 1850년에 증명했다.\n",
    "\n",
    "예를 들어, 10보다 크고, 20보다 작거나 같은 소수는 4개가 있다. (11, 13, 17, 19) 또, 14보다 크고, 28보다 작거나 같은 소수는 3개가 있다. (17,19, 23)\n",
    "\n",
    "자연수 n이 주어졌을 때, n보다 크고, 2n보다 작거나 같은 소수의 개수를 구하는 프로그램을 작성하시오."
   ]
  },
  {
   "cell_type": "code",
   "execution_count": null,
   "id": "f3590423",
   "metadata": {},
   "outputs": [
    {
     "name": "stdout",
     "output_type": "stream",
     "text": [
      "18\n",
      "4\n",
      "28\n",
      "7\n"
     ]
    }
   ],
   "source": [
    "N = 123456 * 2 + 1\n",
    "sieve = [True] * N\n",
    "for i in range(2, int(N**0.5)+1):\n",
    "    if sieve[i]:\n",
    "        for j in range(2*i, N, i):\n",
    "            sieve[j] = False\n",
    "\n",
    "def prime_cnt(val):\n",
    "    cnt = 0\n",
    "    for i in range(val + 1, val * 2 + 1):\n",
    "        if sieve[i]:\n",
    "            cnt += 1\n",
    "    print(cnt)\n",
    "\n",
    "while True:\n",
    "    val = int(input())\n",
    "    if val == 0:\n",
    "        break\n",
    "    prime_cnt(val)"
   ]
  },
  {
   "cell_type": "markdown",
   "id": "b16b6cd8",
   "metadata": {},
   "source": [
    "6. 골드바흐의 추측 <br>\n",
    "1보다 큰 자연수 중에서  1과 자기 자신을 제외한 약수가 없는 자연수를 소수라고 한다. 예를 들어, 5는 1과 5를 제외한 약수가 없기 때문에 소수이다. 하지만, 6은 6 = 2 × 3 이기 때문에 소수가 아니다.\n",
    "\n",
    "골드바흐의 추측은 유명한 정수론의 미해결 문제로, 2보다 큰 모든 짝수는 두 소수의 합으로 나타낼 수 있다는 것이다. 이러한 수를 골드바흐 수라고 한다. 또, 짝수를 두 소수의 합으로 나타내는 표현을 그 수의 골드바흐 파티션이라고 한다. 예를 들면, 4 = 2 + 2, 6 = 3 + 3, 8 = 3 + 5, 10 = 5 + 5, 12 = 5 + 7, 14 = 3 + 11, 14 = 7 + 7이다. 10000보다 작거나 같은 모든 짝수 n에 대한 골드바흐 파티션은 존재한다.\n",
    "\n",
    "2보다 큰 짝수 n이 주어졌을 때, n의 골드바흐 파티션을 출력하는 프로그램을 작성하시오. 만약 가능한 n의 골드바흐 파티션이 여러 가지인 경우에는 두 소수의 차이가 가장 작은 것을 출력한다."
   ]
  },
  {
   "cell_type": "code",
   "execution_count": 5,
   "id": "a5ce5c7b",
   "metadata": {},
   "outputs": [
    {
     "name": "stdout",
     "output_type": "stream",
     "text": [
      "3\n",
      "8\n",
      "3 5\n",
      "10\n",
      "5 5\n",
      "16\n",
      "5 11\n"
     ]
    }
   ],
   "source": [
    "sosu = [0 for i in range(10001)]\n",
    "sosu[1] = 1\n",
    "for i in range(2, 98):\n",
    "    for j in range(i * 2, 10001, i):\n",
    "        sosu[j] = 1\n",
    "t = int(input())\n",
    "for i in range(t):\n",
    "    a = int(input())\n",
    "    b = a // 2\n",
    "    for j in range(b, 1, -1):\n",
    "        if sosu[a - j] == 0 and sosu[j] == 0:\n",
    "            print(j, a - j)\n",
    "            break"
   ]
  },
  {
   "cell_type": "markdown",
   "id": "6a94d782",
   "metadata": {},
   "source": [
    "7. 직사각형에서 탈출 <br>\n",
    "한수는 지금 (x, y)에 있다. 직사각형은 각 변이 좌표축에 평행하고, 왼쪽 아래 꼭짓점은 (0, 0), 오른쪽 위 꼭짓점은 (w, h)에 있다. 직사각형의 경계선까지 가는 거리의 최솟값을 구하는 프로그램을 작성하시오."
   ]
  },
  {
   "cell_type": "code",
   "execution_count": 3,
   "id": "5fed8cdc",
   "metadata": {},
   "outputs": [
    {
     "name": "stdout",
     "output_type": "stream",
     "text": [
      "6 2 10 3\n",
      "1\n"
     ]
    }
   ],
   "source": [
    "x, y, w, h = map(int, input().split())\n",
    "print(min(x, y, w-x, h-y))"
   ]
  },
  {
   "cell_type": "markdown",
   "id": "1471def7",
   "metadata": {},
   "source": [
    "8. 네 번째 점 <br>\n",
    "세 점이 주어졌을 때, 축에 평행한 직사각형을 만들기 위해서 필요한 네 번째 점을 찾는 프로그램을 작성하시오."
   ]
  },
  {
   "cell_type": "code",
   "execution_count": 4,
   "id": "b3d51af6",
   "metadata": {},
   "outputs": [
    {
     "name": "stdout",
     "output_type": "stream",
     "text": [
      "5 5\n",
      "5 7\n",
      "8 10\n",
      "8 10\n"
     ]
    }
   ],
   "source": [
    "x_nums = []\n",
    "y_nums = []\n",
    "for _ in range(3):\n",
    "    x, y = map(int, input().split())\n",
    "    x_nums.append(x)\n",
    "    y_nums.append(y)\n",
    "\n",
    "for i in range(3):\n",
    "    if x_nums.count(x_nums[i]) == 1:\n",
    "        x4 = x_nums[i]\n",
    "    if y_nums.count(y_nums[i]) == 1:\n",
    "        y4 = y_nums[i]\n",
    "print(x4, y4)"
   ]
  },
  {
   "cell_type": "markdown",
   "id": "b25e67f1",
   "metadata": {},
   "source": [
    "9. 직각삼각형 <br>\n",
    "과거 이집트인들은 각 변들의 길이가 3, 4, 5인 삼각형이 직각 삼각형인것을 알아냈다. 주어진 세변의 길이로 삼각형이 직각인지 아닌지 구분하시오."
   ]
  },
  {
   "cell_type": "code",
   "execution_count": 6,
   "id": "1b42605e",
   "metadata": {},
   "outputs": [
    {
     "name": "stdout",
     "output_type": "stream",
     "text": [
      "6 8 10\n",
      "right\n",
      "5 12 13\n",
      "right\n",
      "8 29 10\n",
      "wrong\n",
      "48 37 29\n",
      "wrong\n",
      "0 0 0\n"
     ]
    }
   ],
   "source": [
    "while True:\n",
    "    n = list(map(int, input().split()))\n",
    "    max_num = max(n)\n",
    "    if sum(n) == 0:\n",
    "        break\n",
    "    n.remove(max_num)\n",
    "    if n[0]**2 + n[1]**2 == max_num**2:\n",
    "        print(\"right\")\n",
    "    else:\n",
    "        print(\"wrong\")"
   ]
  },
  {
   "cell_type": "markdown",
   "id": "a947611b",
   "metadata": {},
   "source": [
    "10. 택시 기하학 <br>\n",
    "19세기 독일 수학자 헤르만 민코프스키는 비유클리드 기하학 중 택시 기하학을 고안했다.\n",
    "\n",
    "택시 기하학에서 두 점 T1(x1,y1), T2(x2,y2) 사이의 거리는 다음과 같이 구할 수 있다.\n",
    "\n",
    "D(T1,T2) = |x1-x2| + |y1-y2|\n",
    "\n",
    "두 점 사이의 거리를 제외한 나머지 정의는 유클리드 기하학에서의 정의와 같다.\n",
    "\n",
    "따라서 택시 기하학에서 원의 정의는 유클리드 기하학에서 원의 정의와 같다.\n",
    "\n",
    "원: 평면 상의 어떤 점에서 거리가 일정한 점들의 집합\n",
    "\n",
    "반지름 R이 주어졌을 때, 유클리드 기하학에서 원의 넓이와, 택시 기하학에서 원의 넓이를 구하는 프로그램을 작성하시오."
   ]
  },
  {
   "cell_type": "code",
   "execution_count": 7,
   "id": "a28d0471",
   "metadata": {},
   "outputs": [
    {
     "name": "stdout",
     "output_type": "stream",
     "text": [
      "21\n",
      "1385.44236\n",
      "882.000000\n"
     ]
    }
   ],
   "source": [
    "n = int(input())\n",
    "print(f'{round(n**2*3.14159265358979323,6)}')\n",
    "print('%.6f'% (2*n**2))"
   ]
  },
  {
   "cell_type": "markdown",
   "id": "c9aeebf0",
   "metadata": {},
   "source": [
    "11. 터렛 <br>\n",
    "조규현과 백승환은 터렛에 근무하는 직원이다. 하지만 워낙 존재감이 없어서 인구수는 차지하지 않는다. 다음은 조규현과 백승환의 사진이다.\n",
    "\n",
    "\n",
    "\n",
    "이석원은 조규현과 백승환에게 상대편 마린(류재명)의 위치를 계산하라는 명령을 내렸다. 조규현과 백승환은 각각 자신의 터렛 위치에서 현재 적까지의 거리를 계산했다.\n",
    "\n",
    "조규현의 좌표 (x1, y1)와 백승환의 좌표 (x2, y2)가 주어지고, 조규현이 계산한 류재명과의 거리 r1과 백승환이 계산한 류재명과의 거리 r2가 주어졌을 때, 류재명이 있을 수 있는 좌표의 수를 출력하는 프로그램을 작성하시오."
   ]
  },
  {
   "cell_type": "code",
   "execution_count": 8,
   "id": "feab0d28",
   "metadata": {},
   "outputs": [
    {
     "name": "stdout",
     "output_type": "stream",
     "text": [
      "3\n",
      "1 1 1 1 1 5\n",
      "0\n",
      "0 0 13 40 0 37\n",
      "2\n",
      "0 0 3 0 7 4\n",
      "1\n"
     ]
    }
   ],
   "source": [
    "import math\n",
    "\n",
    "n = int(input())\n",
    "\n",
    "for _ in range(n):\n",
    "    x1, y1, r1, x2, y2, r2 = map(int, input().split())\n",
    "    distance = math.sqrt((x1-x2)**2 + (y1-y2)**2)  # 두 원의 거리 (원의방정식활용)\n",
    "    if distance == 0 and r1 == r2 :  # 두 원이 동심원이고 반지름이 같을 때\n",
    "        print(-1)\n",
    "    elif abs(r1-r2) == distance or r1 + r2 == distance:  # 내접, 외접일 때\n",
    "        print(1)\n",
    "    elif abs(r1-r2) < distance < (r1+r2) :  # 두 원이 서로다른 두 점에서 만날 때\n",
    "        print(2)\n",
    "    else:\n",
    "        print(0)  # 그 외에"
   ]
  },
  {
   "cell_type": "markdown",
   "id": "cdafd9f2",
   "metadata": {},
   "source": [
    "level 10. 재귀"
   ]
  },
  {
   "cell_type": "markdown",
   "id": "e7757539",
   "metadata": {},
   "source": [
    "1. 팩토리얼 <br>\n",
    "0보다 크거나 같은 정수 N이 주어진다. 이때, N!을 출력하는 프로그램을 작성하시오."
   ]
  },
  {
   "cell_type": "code",
   "execution_count": 9,
   "id": "e3711e46",
   "metadata": {},
   "outputs": [
    {
     "name": "stdout",
     "output_type": "stream",
     "text": [
      "5\n",
      "20922789888000\n"
     ]
    }
   ],
   "source": [
    "n = int(input())\n",
    "result = 1\n",
    "for i in range(1, a+1, 1):\n",
    "    result *= i\n",
    "print(result)"
   ]
  },
  {
   "cell_type": "markdown",
   "id": "d94dad79",
   "metadata": {},
   "source": [
    "2. 피보나치 수 5 <br>\n",
    "피보나치 수는 0과 1로 시작한다. 0번째 피보나치 수는 0이고, 1번째 피보나치 수는 1이다. 그 다음 2번째 부터는 바로 앞 두 피보나치 수의 합이 된다.\n",
    "\n",
    "이를 식으로 써보면 Fn = Fn-1 + Fn-2 (n ≥ 2)가 된다.\n",
    "\n",
    "n=17일때 까지 피보나치 수를 써보면 다음과 같다.\n",
    "\n",
    "0, 1, 1, 2, 3, 5, 8, 13, 21, 34, 55, 89, 144, 233, 377, 610, 987, 1597\n",
    "\n",
    "n이 주어졌을 때, n번째 피보나치 수를 구하는 프로그램을 작성하시오."
   ]
  },
  {
   "cell_type": "code",
   "execution_count": 10,
   "id": "755304b4",
   "metadata": {},
   "outputs": [
    {
     "name": "stdout",
     "output_type": "stream",
     "text": [
      "10\n",
      "55\n"
     ]
    }
   ],
   "source": [
    "n = int(input())\n",
    "def fibo(n):\n",
    "    if n == 0:\n",
    "        return 0\n",
    "    elif n == 1 or n == 2:\n",
    "        return 1\n",
    "    return fibo(n-2) + fibo(n-1)\n",
    "\n",
    "print(fibo(n))"
   ]
  },
  {
   "cell_type": "markdown",
   "id": "b0886fec",
   "metadata": {},
   "source": [
    "3. 별 찍기 - 10 <br>\n",
    "재귀적인 패턴으로 별을 찍어 보자. N이 3의 거듭제곱(3, 9, 27, ...)이라고 할 때, 크기 N의 패턴은 N×N 정사각형 모양이다.\n",
    "\n",
    "크기 3의 패턴은 가운데에 공백이 있고, 가운데를 제외한 모든 칸에 별이 하나씩 있는 패턴이다.\n",
    "\n",
    "***\n",
    "* *\n",
    "***\n",
    "N이 3보다 클 경우, 크기 N의 패턴은 공백으로 채워진 가운데의 (N/3)×(N/3) 정사각형을 크기 N/3의 패턴으로 둘러싼 형태이다. 예를 들어 크기 27의 패턴은 예제 출력 1과 같다."
   ]
  },
  {
   "cell_type": "code",
   "execution_count": 12,
   "id": "6f32f58b",
   "metadata": {},
   "outputs": [
    {
     "name": "stdout",
     "output_type": "stream",
     "text": [
      "27\n",
      "***************************\n",
      "* ** ** ** ** ** ** ** ** *\n",
      "***************************\n",
      "***   ******   ******   ***\n",
      "* *   * ** *   * ** *   * *\n",
      "***   ******   ******   ***\n",
      "***************************\n",
      "* ** ** ** ** ** ** ** ** *\n",
      "***************************\n",
      "*********         *********\n",
      "* ** ** *         * ** ** *\n",
      "*********         *********\n",
      "***   ***         ***   ***\n",
      "* *   * *         * *   * *\n",
      "***   ***         ***   ***\n",
      "*********         *********\n",
      "* ** ** *         * ** ** *\n",
      "*********         *********\n",
      "***************************\n",
      "* ** ** ** ** ** ** ** ** *\n",
      "***************************\n",
      "***   ******   ******   ***\n",
      "* *   * ** *   * ** *   * *\n",
      "***   ******   ******   ***\n",
      "***************************\n",
      "* ** ** ** ** ** ** ** ** *\n",
      "***************************\n"
     ]
    }
   ],
   "source": [
    "# 별 찍는 재귀 함수\n",
    "def draw_star(n) :\n",
    "    global Map\n",
    "    \n",
    "    if n == 3 :\n",
    "        Map[0][:3] = Map[2][:3] = [1]*3\n",
    "        Map[1][:3] = [1, 0, 1]\n",
    "        return\n",
    "\n",
    "    a = n//3\n",
    "    draw_star(n//3)\n",
    "    for i in range(3) :\n",
    "        for j in range(3) :\n",
    "            if i == 1 and j == 1 :\n",
    "                continue\n",
    "            for k in range(a) :\n",
    "                Map[a*i+k][a*j:a*(j+1)] = Map[k][:a] # 핵심 아이디어\n",
    "\n",
    "N = int(input())      \n",
    "\n",
    "# 메인 데이터 선언\n",
    "Map = [[0 for i in range(N)] for i in range(N)]\n",
    "\n",
    "draw_star(N)\n",
    "\n",
    "for i in Map :\n",
    "    for j in i :\n",
    "        if j :\n",
    "            print('*', end = '')\n",
    "        else :\n",
    "            print(' ', end = '')\n",
    "    print()"
   ]
  },
  {
   "cell_type": "markdown",
   "id": "5b0482c5",
   "metadata": {},
   "source": [
    "4. 하노이 탑 이동 순서\n",
    "세 개의 장대가 있고 첫 번째 장대에는 반경이 서로 다른 n개의 원판이 쌓여 있다. 각 원판은 반경이 큰 순서대로 쌓여있다. 이제 수도승들이 다음 규칙에 따라 첫 번째 장대에서 세 번째 장대로 옮기려 한다.\n",
    "\n",
    "한 번에 한 개의 원판만을 다른 탑으로 옮길 수 있다.\n",
    "쌓아 놓은 원판은 항상 위의 것이 아래의 것보다 작아야 한다.\n",
    "이 작업을 수행하는데 필요한 이동 순서를 출력하는 프로그램을 작성하라. 단, 이동 횟수는 최소가 되어야 한다.\n",
    "\n",
    "아래 그림은 원판이 5개인 경우의 예시이다."
   ]
  },
  {
   "cell_type": "code",
   "execution_count": 11,
   "id": "21725135",
   "metadata": {},
   "outputs": [
    {
     "name": "stdout",
     "output_type": "stream",
     "text": [
      "3\n",
      "7\n",
      "1 3\n",
      "1 2\n",
      "3 2\n",
      "1 3\n",
      "2 1\n",
      "2 3\n",
      "1 3\n"
     ]
    }
   ],
   "source": [
    "n = int(input())\n",
    "def hanoi(n, a, b, c):\n",
    "    if n == 1:\n",
    "        print(a, c)\n",
    "    else:\n",
    "        hanoi(n - 1, a, c, b)\n",
    "        print(a, c)\n",
    "        hanoi(n - 1, b, a, c)\n",
    "sum = 1\n",
    "for i in range(n - 1):\n",
    "    sum = sum * 2 + 1\n",
    "print(sum)\n",
    "hanoi(n, 1, 2, 3)"
   ]
  }
 ],
 "metadata": {
  "kernelspec": {
   "display_name": "Python 3",
   "language": "python",
   "name": "python3"
  },
  "language_info": {
   "codemirror_mode": {
    "name": "ipython",
    "version": 3
   },
   "file_extension": ".py",
   "mimetype": "text/x-python",
   "name": "python",
   "nbconvert_exporter": "python",
   "pygments_lexer": "ipython3",
   "version": "3.8.8"
  }
 },
 "nbformat": 4,
 "nbformat_minor": 5
}
