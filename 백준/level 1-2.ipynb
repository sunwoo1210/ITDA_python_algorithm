{
 "cells": [
  {
   "cell_type": "markdown",
   "id": "0439e523",
   "metadata": {},
   "source": [
    "### level 1\n",
    "#### 1. Hello World\n",
    "Hello World!를 출력하시오."
   ]
  },
  {
   "cell_type": "code",
   "execution_count": 1,
   "id": "ac7337ee",
   "metadata": {},
   "outputs": [
    {
     "name": "stdout",
     "output_type": "stream",
     "text": [
      "Hello World!\n"
     ]
    }
   ],
   "source": [
    "print(\"Hello World!\")"
   ]
  },
  {
   "cell_type": "markdown",
   "id": "0bb1c07d",
   "metadata": {},
   "source": [
    "#### 2. We love kriii\n",
    "ACM-ICPC 인터넷 예선, Regional, 그리고 World Finals까지 이미 2회씩 진출해버린 kriii는 미련을 버리지 못하고 왠지 모르게 올해에도 파주 World Finals 준비 캠프에 참여했다.\n",
    "대회를 뜰 줄 모르는 지박령 kriii를 위해서 격려의 문구를 출력해주자."
   ]
  },
  {
   "cell_type": "code",
   "execution_count": 2,
   "id": "4808e582",
   "metadata": {},
   "outputs": [
    {
     "name": "stdout",
     "output_type": "stream",
     "text": [
      "강한친구 대한육군\n",
      "강한친구 대한육군\n"
     ]
    }
   ],
   "source": [
    "print(\"강한친구 대한육군\")\n",
    "print(\"강한친구 대한육군\")"
   ]
  },
  {
   "cell_type": "markdown",
   "id": "6250eb36",
   "metadata": {},
   "source": [
    "#### 3. 고양이"
   ]
  },
  {
   "cell_type": "code",
   "execution_count": 3,
   "id": "bcc72660",
   "metadata": {},
   "outputs": [
    {
     "name": "stdout",
     "output_type": "stream",
     "text": [
      "\\    /\\\n",
      " )  (  ')\n",
      "(  /   )\n",
      "\\(__)|\n"
     ]
    }
   ],
   "source": [
    "print(\"\\    /\\\\\")\n",
    "print(\" )  (  ')\")\n",
    "print(\"(  /   )\")\n",
    "print(\"\\(__)|\")"
   ]
  },
  {
   "cell_type": "markdown",
   "id": "32ab328d",
   "metadata": {},
   "source": [
    "#### 4. 개"
   ]
  },
  {
   "cell_type": "code",
   "execution_count": 4,
   "id": "3d8c321d",
   "metadata": {},
   "outputs": [
    {
     "name": "stdout",
     "output_type": "stream",
     "text": [
      "|\\_/|\n",
      "|q p|   /}\n",
      "( 0 )\"\"\"\\\n",
      "|\"^\"`    |\n",
      "||_/=\\\\__|\n"
     ]
    }
   ],
   "source": [
    "print('|\\_/|')\n",
    "print('|q p|   /}')\n",
    "print('( 0 )\"\"\"\\\\')\n",
    "print('|\"^\"`    |')\n",
    "print('||_/=\\\\\\__|')"
   ]
  },
  {
   "cell_type": "markdown",
   "id": "f1a140b3",
   "metadata": {},
   "source": [
    "#### 5. A+B\n",
    "두 정수 A와 B를 입력받은 다음, A+B를 출력하는 프로그램을 작성하시오."
   ]
  },
  {
   "cell_type": "code",
   "execution_count": 5,
   "id": "eff685ae",
   "metadata": {},
   "outputs": [
    {
     "name": "stdout",
     "output_type": "stream",
     "text": [
      "3 5\n",
      "8\n"
     ]
    }
   ],
   "source": [
    "a, b = input().split()\n",
    "print(int(a)+int(b))"
   ]
  },
  {
   "cell_type": "markdown",
   "id": "40b6ed80",
   "metadata": {},
   "source": [
    "#### 6. A-B\n",
    "두 정수 A와 B를 입력받은 다음, A-B를 출력하는 프로그램을 작성하시오."
   ]
  },
  {
   "cell_type": "code",
   "execution_count": 9,
   "id": "15859b73",
   "metadata": {},
   "outputs": [
    {
     "name": "stdout",
     "output_type": "stream",
     "text": [
      "3 2\n",
      "1\n"
     ]
    }
   ],
   "source": [
    "a, b = map(int, input().split())\n",
    "print(a - b)"
   ]
  },
  {
   "cell_type": "markdown",
   "id": "da36374f",
   "metadata": {},
   "source": [
    "#### 7. A×B\n",
    "두 정수 A와 B를 입력받은 다음, A×B를 출력하는 프로그램을 작성하시오."
   ]
  },
  {
   "cell_type": "code",
   "execution_count": 6,
   "id": "80f44e21",
   "metadata": {},
   "outputs": [
    {
     "name": "stdout",
     "output_type": "stream",
     "text": [
      "8 9\n",
      "72\n"
     ]
    }
   ],
   "source": [
    "a, b = map(int, input().split())\n",
    "print(a * b)"
   ]
  },
  {
   "cell_type": "markdown",
   "id": "effddc37",
   "metadata": {},
   "source": [
    "#### 8. A/B\n",
    "두 정수 A와 B를 입력받은 다음, A/B를 출력하는 프로그램을 작성하시오."
   ]
  },
  {
   "cell_type": "code",
   "execution_count": 7,
   "id": "34d0d621",
   "metadata": {},
   "outputs": [
    {
     "name": "stdout",
     "output_type": "stream",
     "text": [
      "4 2\n",
      "2.0\n"
     ]
    }
   ],
   "source": [
    "a, b = map(int, input().split())\n",
    "print(a / b)"
   ]
  },
  {
   "cell_type": "markdown",
   "id": "0bbd6d25",
   "metadata": {},
   "source": [
    "#### 9.사칙연산\n",
    "두 자연수 A와 B가 주어진다. 이때, A+B, A-B, A*B, A/B(몫), A%B(나머지)를 출력하는 프로그램을 작성하시오."
   ]
  },
  {
   "cell_type": "code",
   "execution_count": 8,
   "id": "490b6d7e",
   "metadata": {},
   "outputs": [
    {
     "name": "stdout",
     "output_type": "stream",
     "text": [
      "15 5\n",
      "20\n",
      "10\n",
      "75\n",
      "3\n",
      "0\n"
     ]
    }
   ],
   "source": [
    "a, b = map(int, input().split())\n",
    "print(a + b)\n",
    "print(a - b)\n",
    "print(a * b)\n",
    "print(a // b)\n",
    "print(a % b)"
   ]
  },
  {
   "cell_type": "markdown",
   "id": "7cb078dd",
   "metadata": {},
   "source": [
    "#### 10. 세 수 A, B, C가 주어졌을 때, 위의 네 가지 값을 구하는 프로그램을 작성하시오. 첫째 줄에 (A+B)%C, 둘째 줄에 ((A%C) + (B%C))%C, 셋째 줄에 (A×B)%C, 넷째 줄에 ((A%C) × (B%C))%C를 출력한다."
   ]
  },
  {
   "cell_type": "code",
   "execution_count": 10,
   "id": "6f61e803",
   "metadata": {},
   "outputs": [
    {
     "name": "stdout",
     "output_type": "stream",
     "text": [
      "5 7 2\n",
      "0\n",
      "2\n",
      "1\n",
      "1\n"
     ]
    }
   ],
   "source": [
    "A, B, C = map(int,input().split())\n",
    "print((A + B) % C)\n",
    "print((A % C) + (B % C) % C)\n",
    "print((A * B) % C)\n",
    "print((A % C) * (B % C) % C)"
   ]
  },
  {
   "cell_type": "markdown",
   "id": "659d7e41",
   "metadata": {},
   "source": [
    "#### 11. 곱셈"
   ]
  },
  {
   "cell_type": "code",
   "execution_count": null,
   "id": "eadd9255",
   "metadata": {},
   "outputs": [],
   "source": [
    "num1 = int(input())\n",
    "num2 = input()\n",
    "\n",
    "for i in range(len(num2), 0, -1):\n",
    "    print(num1 * int(num2[i-1]))\n",
    "    \n",
    "print(num1 * int(num2))    "
   ]
  },
  {
   "cell_type": "markdown",
   "id": "f66b582a",
   "metadata": {},
   "source": [
    "### level 2\n",
    "#### 1.두 수 비교하기\n",
    "두 정수 A와 B가 주어졌을 때, A와 B를 비교하는 프로그램을 작성하시오."
   ]
  },
  {
   "cell_type": "code",
   "execution_count": 1,
   "id": "2f59d2ae",
   "metadata": {},
   "outputs": [
    {
     "name": "stdout",
     "output_type": "stream",
     "text": [
      "1 3\n",
      "<\n"
     ]
    }
   ],
   "source": [
    "a, b = map(int,input().split())\n",
    "\n",
    "if a > b:\n",
    "    print('>')\n",
    "    \n",
    "elif a < b:\n",
    "    print('<')\n",
    "    \n",
    "else:\n",
    "    print('==')"
   ]
  },
  {
   "cell_type": "markdown",
   "id": "00161468",
   "metadata": {},
   "source": [
    "#### 2.시험 성적\n",
    "시험 점수를 입력받아 90 ~ 100점은 A, 80 ~ 89점은 B, 70 ~ 79점은 C, 60 ~ 69점은 D, 나머지 점수는 F를 출력하는 프로그램을 작성하시오.\n",
    " "
   ]
  },
  {
   "cell_type": "code",
   "execution_count": 2,
   "id": "45e838dc",
   "metadata": {},
   "outputs": [
    {
     "name": "stdout",
     "output_type": "stream",
     "text": [
      "60\n",
      "D\n"
     ]
    }
   ],
   "source": [
    "a = int(input())\n",
    "\n",
    "if a >= 90 and a <= 100:\n",
    "    print('A')\n",
    "elif a >= 80 and a <= 89:\n",
    "    print('B')\n",
    "elif a >= 70 and a <= 79:\n",
    "    print('C')\n",
    "elif a >= 60 and a <= 69:\n",
    "    print('D')\n",
    "else:\n",
    "    print('F')"
   ]
  },
  {
   "cell_type": "markdown",
   "id": "a176e551",
   "metadata": {},
   "source": [
    "#### 3.윤년\n",
    "연도가 주어졌을 때, 윤년이면 1, 아니면 0을 출력하는 프로그램을 작성하시오.\n",
    "윤년은 연도가 4의 배수이면서, 100의 배수가 아닐 때 또는 400의 배수일 때이다.\n",
    "\n",
    "예를 들어, 2012년은 4의 배수이면서 100의 배수가 아니라서 윤년이다. 1900년은 100의 배수이고 400의 배수는 아니기 때문에 윤년이 아니다. 하지만, 2000년은 400의 배수이기 때문에 윤년이다.\n"
   ]
  },
  {
   "cell_type": "code",
   "execution_count": 3,
   "id": "b93c5436",
   "metadata": {},
   "outputs": [
    {
     "name": "stdout",
     "output_type": "stream",
     "text": [
      "2002\n",
      "0\n"
     ]
    }
   ],
   "source": [
    "a = int(input())\n",
    "\n",
    "if a % 4 == 0 and a % 100 != 0:\n",
    "    print(1)\n",
    "elif a % 400 == 0:\n",
    "    print(1)\n",
    "else:\n",
    "    print(0)"
   ]
  },
  {
   "cell_type": "markdown",
   "id": "b4a2f23d",
   "metadata": {},
   "source": [
    "#### 4.사분면 고르기\n",
    "흔한 수학 문제 중 하나는 주어진 점이 어느 사분면에 속하는지 알아내는 것이다. 사분면은 아래 그림처럼 1부터 4까지 번호를 갖는다. \"Quadrant n\"은 \"제n사분면\"이라는 뜻이다.\n",
    "예를 들어, 좌표가 (12, 5)인 점 A는 x좌표와 y좌표가 모두 양수이므로 제1사분면에 속한다. 점 B는 x좌표가 음수이고 y좌표가 양수이므로 제2사분면에 속한다.\n",
    "\n",
    "점의 좌표를 입력받아 그 점이 어느 사분면에 속하는지 알아내는 프로그램을 작성하시오. 단, x좌표와 y좌표는 모두 양수나 음수라고 가정한다."
   ]
  },
  {
   "cell_type": "code",
   "execution_count": 4,
   "id": "731b1aa9",
   "metadata": {},
   "outputs": [
    {
     "name": "stdout",
     "output_type": "stream",
     "text": [
      "12\n",
      "-5\n",
      "4\n"
     ]
    }
   ],
   "source": [
    "x = int(input())\n",
    "y = int(input())\n",
    "\n",
    "if x > 0 and y > 0:\n",
    "    print('1')\n",
    "elif x < 0 and y > 0:\n",
    "    print('2')\n",
    "elif x < 0 and y < 0:\n",
    "    print('3')\n",
    "elif x > 0 and y < 0:\n",
    "    print('4')"
   ]
  },
  {
   "cell_type": "markdown",
   "id": "06f6fe9f",
   "metadata": {},
   "source": [
    "#### 5.알람 시계\n",
    "상근이는 매일 아침 알람을 듣고 일어난다. 알람을 듣고 바로 일어나면 다행이겠지만, 항상 조금만 더 자려는 마음 때문에 매일 학교를 지각하고 있다.\n",
    "상근이는 모든 방법을 동원해보았지만, 조금만 더 자려는 마음은 그 어떤 것도 없앨 수가 없었다.\n",
    "\n",
    "이런 상근이를 불쌍하게 보던, 창영이는 자신이 사용하는 방법을 추천해 주었다.\n",
    "\n",
    "바로 \"45분 일찍 알람 설정하기\"이다.\n",
    "\n",
    "이 방법은 단순하다. 원래 설정되어 있는 알람을 45분 앞서는 시간으로 바꾸는 것이다. 어차피 알람 소리를 들으면, 알람을 끄고 조금 더 잘 것이기 때문이다. 이 방법을 사용하면, 매일 아침 더 잤다는 기분을 느낄 수 있고, 학교도 지각하지 않게 된다.\n",
    "\n",
    "현재 상근이가 설정한 알람 시각이 주어졌을 때, 창영이의 방법을 사용한다면, 이를 언제로 고쳐야 하는지 구하는 프로그램을 작성하시오."
   ]
  },
  {
   "cell_type": "code",
   "execution_count": 5,
   "id": "fe3ca6d6",
   "metadata": {},
   "outputs": [
    {
     "name": "stdout",
     "output_type": "stream",
     "text": [
      "0 30\n",
      "23 45\n"
     ]
    }
   ],
   "source": [
    "H, M = map(int,input().split())\n",
    "\n",
    "if M > 44:\n",
    "    print(H, M - 45)\n",
    "elif M < 45 and H > 0:\n",
    "    print(H - 1, M + 15)\n",
    "else:\n",
    "    print(23, M + 15)"
   ]
  }
 ],
 "metadata": {
  "kernelspec": {
   "display_name": "Python 3",
   "language": "python",
   "name": "python3"
  },
  "language_info": {
   "codemirror_mode": {
    "name": "ipython",
    "version": 3
   },
   "file_extension": ".py",
   "mimetype": "text/x-python",
   "name": "python",
   "nbconvert_exporter": "python",
   "pygments_lexer": "ipython3",
   "version": "3.8.8"
  }
 },
 "nbformat": 4,
 "nbformat_minor": 5
}
