{
  "nbformat": 4,
  "nbformat_minor": 0,
  "metadata": {
    "colab": {
      "name": "level 12-13",
      "provenance": [],
      "authorship_tag": "ABX9TyP78ycVhNwzz7n1Y74sl7mF",
      "include_colab_link": true
    },
    "kernelspec": {
      "name": "python3",
      "display_name": "Python 3"
    },
    "language_info": {
      "name": "python"
    }
  },
  "cells": [
    {
      "cell_type": "markdown",
      "metadata": {
        "id": "view-in-github",
        "colab_type": "text"
      },
      "source": [
        "<a href=\"https://colab.research.google.com/github/sunwoo1210/ITDA_python_test/blob/main/level_12_13.ipynb\" target=\"_parent\"><img src=\"https://colab.research.google.com/assets/colab-badge.svg\" alt=\"Open In Colab\"/></a>"
      ]
    },
    {
      "cell_type": "code",
      "execution_count": 3,
      "metadata": {
        "colab": {
          "base_uri": "https://localhost:8080/"
        },
        "id": "If_rI-6SGVS0",
        "outputId": "77243c3a-1228-4fcf-c015-a1c2aa199118"
      },
      "outputs": [
        {
          "output_type": "stream",
          "name": "stdout",
          "text": [
            "5\n",
            "6 3 2 10 -10\n",
            "8\n",
            "10 9 -5 2 3 4 5 -10\n",
            "1 0 0 1 1 0 0 1\n"
          ]
        }
      ],
      "source": [
        "# level 12\n",
        "# 10815번 숫자 카드\n",
        "\n",
        "N = map(int, input())\n",
        "my_card = sorted(map(int, input().split()))\n",
        "M = map(int, input())\n",
        "num_card = list(map(int, input().split()))\n",
        "answer = []\n",
        "\n",
        "def binary(k, my_card, start, end):\n",
        "    mid = (start+end) // 2\n",
        "    if start > end:\n",
        "        answer.append(str(0))\n",
        "    elif k == my_card[mid]:\n",
        "        answer.append(str(1))\n",
        "    elif k > my_card[mid]:\n",
        "        binary(k, my_card, mid+1, end)\n",
        "    else:\n",
        "        binary(k, my_card, start, mid-1)\n",
        "\n",
        "for k in num_card:\n",
        "    start = 0\n",
        "    end = len(my_card)-1\n",
        "    binary(k, my_card, start, end)\n",
        "\n",
        "print(' '.join(answer))"
      ]
    },
    {
      "cell_type": "code",
      "source": [
        "# 14425번 문자열 집합\n",
        "\n",
        "import sys\n",
        "N, M = map(int, input().split())\n",
        "arr = dict()\n",
        "cnt = 0\n",
        "for _ in range(N):\n",
        "    s = sys.stdin.readline()\n",
        "    arr[s] = True\n",
        "for _ in range(M):\n",
        "    inp = sys.stdin.readline()\n",
        "    if inp in arr.keys():\n",
        "        cnt+=1\n",
        "\n",
        "print(cnt)"
      ],
      "metadata": {
        "colab": {
          "base_uri": "https://localhost:8080/"
        },
        "id": "qbJzPXViHAXD",
        "outputId": "fd466626-2531-44a9-ea7a-1fcded28b889"
      },
      "execution_count": 4,
      "outputs": [
        {
          "output_type": "stream",
          "name": "stdout",
          "text": [
            "5 11\n",
            "11\n"
          ]
        }
      ]
    },
    {
      "cell_type": "code",
      "source": [
        "# 1620번 나는야 포켓몬 마스터 이다솜\n",
        "\n",
        "import sys\n",
        "input = sys.stdin.readline\n",
        "\n",
        "N , M = map(int,input().split())\n",
        "arr = [0]\n",
        "dic = {}\n",
        "\n",
        "for idx in range(1,N+1):\n",
        "    i = input().rstrip()\n",
        "    arr.append(i)\n",
        "    dic[i] = idx\n",
        "\n",
        "\n",
        "\n",
        "for _ in range(M):\n",
        "    q = input().rstrip()\n",
        "    if q.isalpha() :\n",
        "        print(dic[q])\n",
        "    elif q.isdigit() :\n",
        "        print(arr[int(q)])"
      ],
      "metadata": {
        "id": "RPEwZHMdIjoQ"
      },
      "execution_count": null,
      "outputs": []
    },
    {
      "cell_type": "code",
      "source": [
        "# 10816번 숫자 카드 2\n",
        "\n",
        "from sys import stdin\n",
        "_ = stdin.readline()\n",
        "N = sorted(map(int,stdin.readline().split()))\n",
        "_ = stdin.readline()\n",
        "M = list(map(int,stdin.readline().split()))\n",
        "index, m_dic = 0, {}\n",
        "\n",
        "for m in sorted(M):\n",
        "    cnt = 0\n",
        "    if m not in m_dic:\n",
        "        while index < len(N):\n",
        "            if m == N[index]:\n",
        "                cnt += 1; index += 1\n",
        "            elif m > N[index]:\n",
        "                index += 1\n",
        "            else: break\n",
        "        m_dic[m] = cnt\n",
        "\n",
        "print(' '.join(str(m_dic[m]) for m in M))"
      ],
      "metadata": {
        "colab": {
          "base_uri": "https://localhost:8080/"
        },
        "id": "9P4edd2bJFiL",
        "outputId": "f891cb43-78ec-4e4f-a171-9f2b1a2c8404"
      },
      "execution_count": 9,
      "outputs": [
        {
          "output_type": "stream",
          "name": "stdout",
          "text": [
            "\n"
          ]
        }
      ]
    },
    {
      "cell_type": "code",
      "source": [
        "# 1764번 듣보잡\n",
        "\n",
        "from sys import stdin\n",
        "\n",
        "a, b = map(int, input().split())\n",
        "result = []\n",
        "li1 = sorted([stdin.readline().rstrip() for _ in range(a)])\n",
        "li2 = sorted([stdin.readline().rstrip() for _ in range(b)])\n",
        "for s in li2:\n",
        "    if binarySearch(li1, s):\n",
        "        result.append(s)\n",
        "\n",
        "print(len(result))\n",
        "for c in sorted(result):\n",
        "    print(c)"
      ],
      "metadata": {
        "id": "sIGtgI7GJzdI"
      },
      "execution_count": null,
      "outputs": []
    },
    {
      "cell_type": "code",
      "source": [
        "# 1269번 대칭 차집합\n",
        "\n",
        "import sys\n",
        "input = sys.stdin.readline\n",
        "\n",
        "A,B = map(int,input().rstrip().split())\n",
        "\n",
        "a = set(list(map(int,input().rstrip().split())))\n",
        "b = set(list(map(int,input().rstrip().split())))\n",
        "\n",
        "dif = len(a) - len(a-b)\n",
        "\n",
        "print(len(a)+len(b)-2*dif)"
      ],
      "metadata": {
        "id": "ZYh5vff1KrFC"
      },
      "execution_count": null,
      "outputs": []
    },
    {
      "cell_type": "code",
      "source": [
        "# 11478번 서로 다른 부분 문자열의 개수\n",
        "\n",
        "import sys\n",
        "\n",
        "S = list(sys.stdin.readline().rstrip())\n",
        "res = set()\n",
        "\n",
        "for j in range(1, len(S) + 1):\n",
        "    for i in range(len(S)):\n",
        "        res.add(\"\".join(S[i : i + j]))\n",
        "\n",
        "print(len(res))"
      ],
      "metadata": {
        "colab": {
          "base_uri": "https://localhost:8080/"
        },
        "id": "KDT4cYgGKvXs",
        "outputId": "45ad0892-ecfe-4afb-8e2f-95a61f20aa69"
      },
      "execution_count": 14,
      "outputs": [
        {
          "output_type": "stream",
          "name": "stdout",
          "text": [
            "0\n"
          ]
        }
      ]
    },
    {
      "cell_type": "code",
      "source": [
        "# level 13\n",
        "# 5086번 배수와 약수\n",
        "\n",
        "import sys\n",
        "input = sys.stdin.readline\n",
        "\n",
        "num = tuple(map(int, input().split()))\n",
        "\n",
        "while num != (0, 0):\n",
        "    a = num[0]\n",
        "    b = num[1]\n",
        "    \n",
        "    if a < b and b % a == 0:\n",
        "        print(\"factor\")\n",
        "    elif a > b and a % b == 0:\n",
        "        print(\"multiple\")\n",
        "    else:\n",
        "        print(\"neither\")\n",
        "        \n",
        "    num = tuple(map(int, input().split()))"
      ],
      "metadata": {
        "id": "vkEjE7e7LZ3c"
      },
      "execution_count": null,
      "outputs": []
    },
    {
      "cell_type": "code",
      "source": [
        "# 1037번 약수\n",
        "\n",
        "N = int(input())\n",
        "A = list(map(int, input().split()))\n",
        "\n",
        "# 진짜 약수가 모두 주어지기 떄문에\n",
        "# 가장 작은 값과 가장 큰 값을 곱하면\n",
        "# 진짜 수를 구할 수 있다.\n",
        "max_num = max(A)\n",
        "min_num = min(A)\n",
        "\n",
        "print(max_num * min_num)"
      ],
      "metadata": {
        "id": "qDvbPf-EL57j"
      },
      "execution_count": null,
      "outputs": []
    },
    {
      "cell_type": "code",
      "source": [
        "# 2609번 최대공약수와 최소공배수\n",
        "\n",
        "a,b = map(int,input().split())\n",
        "\n",
        "def gcd(a, b) :\n",
        "    if b==0:\n",
        "        return a\n",
        "    else :\n",
        "        return gcd(b,a%b)\n",
        "\n",
        "def lcm(a, b) :\n",
        "    g = gcd(a,b)\n",
        "    return int(g*(a/g)*(b/g))\n",
        "\n",
        "print(gcd(a,b))\n",
        "print(lcm(a,b))"
      ],
      "metadata": {
        "id": "bjw_EUq5MWwb"
      },
      "execution_count": null,
      "outputs": []
    },
    {
      "cell_type": "code",
      "source": [
        "# 1934번 최소공배수\n",
        "\n",
        "num = int(input())\n",
        "for i in range(num):\n",
        "    a,b = map(int,input().split())\n",
        "    A,B = a,b\n",
        "    while a!=0:\n",
        "        b = b%a\n",
        "        a,b = b,a   \n",
        "        # print(a,b)\n",
        "    gcd = b\n",
        "    lcm = A * B //b\n",
        "    print(lcm)"
      ],
      "metadata": {
        "id": "N-lhGPfrMtP0"
      },
      "execution_count": null,
      "outputs": []
    },
    {
      "cell_type": "code",
      "source": [
        "# 2981번 검문\n",
        "\n",
        "import math\n",
        "t = int(input())\n",
        "s = []\n",
        "a = []\n",
        "gcd = 0\n",
        "for i in range(t):\n",
        "    s.append(int(input()))\n",
        "    if i == 1:\n",
        "        gcd = abs(s[1] - s[0])\n",
        "    gcd = math.gcd(abs(s[i] - s[i - 1]), gcd)\n",
        "gcd_a = int(gcd ** 0.5)\n",
        "for i in range(2, gcd_a + 1):\n",
        "    if gcd % i == 0:\n",
        "        a.append(i)\n",
        "        a.append(gcd // i)\n",
        "a.append(gcd)\n",
        "a = list(set(a))\n",
        "a.sort()\n",
        "for i in a:\n",
        "    print(i, end = ' ')"
      ],
      "metadata": {
        "id": "D6lxtUBOMx8T"
      },
      "execution_count": null,
      "outputs": []
    },
    {
      "cell_type": "code",
      "source": [
        "# 3036번 링\n",
        "\n",
        "def gcd(a, b):\n",
        "    while(b != 0):\n",
        "        n = a%b\n",
        "        a = b\n",
        "        b = n\n",
        "    return a\n",
        "\n",
        "n = int(input())\n",
        "li = list(map(int, input().split()))\n",
        "for i in range(1, n):\n",
        "    g = gcd(li[0], li[i])\n",
        "    print('{0}/{1}'.format(li[0]//g, li[i]//g))"
      ],
      "metadata": {
        "id": "G37LmXjTNQfg"
      },
      "execution_count": null,
      "outputs": []
    },
    {
      "cell_type": "code",
      "source": [
        "# 11050번 이항 계수 1\n",
        "\n",
        "def factorial(K):\n",
        "    if K < 2:\n",
        "        return 1\n",
        "    else:\n",
        "        return K * factorial(K-1)\n",
        "    \n",
        "N, K = map(int, input().split())\n",
        "\n",
        "num1 = 1\n",
        "for i in range(K):\n",
        "    num1 *= N-i\n",
        "\n",
        "num2 = factorial(K)\n",
        "\n",
        "print(num1 // num2)"
      ],
      "metadata": {
        "id": "NLasGTIyN0xw"
      },
      "execution_count": null,
      "outputs": []
    },
    {
      "cell_type": "code",
      "source": [
        "# 11051 이항 계수 2\n",
        "\n",
        "N, K = map(int, input().split())\n",
        "dp = [[0 for _ in range(N+1)] for _ in range(N+1)]\n",
        "\n",
        "for i in range(0, N+1):\n",
        "    for j in range(0, N+1):\n",
        "        if j == 0:\n",
        "            dp[i][j] = 1\n",
        "        elif i == j:\n",
        "            dp[i][j] = 1\n",
        "        elif j == 1:\n",
        "            dp[i][j] = i\n",
        "        elif N >= K:\n",
        "            dp[i][j] = dp[i-1][j-1] + dp[i-1][j]\n",
        "\n",
        "\n",
        "print(dp[N][K] % 10007)"
      ],
      "metadata": {
        "id": "swYms07VN7gu"
      },
      "execution_count": null,
      "outputs": []
    },
    {
      "cell_type": "code",
      "source": [
        "# 1010번 다리 놓기\n",
        "\n",
        "def factorial(n):\n",
        "    num = 1\n",
        "    for i in range(1, n+1):\n",
        "        num *= i\n",
        "    return num\n",
        "\n",
        "\n",
        "T = int(input())\n",
        "\n",
        "for _ in range(T):\n",
        "    n, m = map(int, input().split())\n",
        "    bridge = factorial(m) // (factorial(n) * factorial(m - n))\n",
        "    print(bridge)"
      ],
      "metadata": {
        "id": "cdekbZGOORcB"
      },
      "execution_count": null,
      "outputs": []
    },
    {
      "cell_type": "code",
      "source": [
        "# 9375번 패션왕 신해빈\n",
        "\n",
        "from collections import Counter\n",
        "t = int(input())\n",
        "for i in range(t):\n",
        "    n = int(input())\n",
        "    s = []\n",
        "    for j in range(n):\n",
        "        a, b = input().split()\n",
        "        s.append(b)\n",
        "    num = 1\n",
        "    result = Counter(s)\n",
        "    for key in result:\n",
        "        num *= result[key] + 1\n",
        "    print(num - 1)"
      ],
      "metadata": {
        "id": "yv3tiKEWOi4t"
      },
      "execution_count": null,
      "outputs": []
    },
    {
      "cell_type": "code",
      "source": [
        "# 1676번 팩토리얼 0의 개수\n",
        "\n",
        "N = int(input())\n",
        "\n",
        "ans = 0\n",
        "\n",
        "for i in range(2, N + 1):\n",
        "    if i % 5 == 0: ans += 1\n",
        "    if i % 25 == 0: ans += 1\n",
        "    if i % 125 == 0: ans += 1\n",
        "\n",
        "print(ans)"
      ],
      "metadata": {
        "id": "ehnKDp_oOxVn"
      },
      "execution_count": null,
      "outputs": []
    },
    {
      "cell_type": "code",
      "source": [
        "# 2004번 조합 0의 개수\n",
        "\n",
        "import sys\n",
        " \n",
        "input = sys.stdin.readline\n",
        " \n",
        "def count_two(x):\n",
        "    cnt = 0\n",
        "    while x > 0:\n",
        "        x = x // 2\n",
        "        cnt += x\n",
        " \n",
        "    return cnt\n",
        " \n",
        "def count_five(x):\n",
        "    cnt = 0\n",
        "    while x > 0:\n",
        "        x = x // 5\n",
        "        cnt += x\n",
        " \n",
        "    return cnt\n",
        " \n",
        "def count_zero(x, y):\n",
        "    t = count_two(x) - count_two(y) - count_two(x-y)\n",
        "    f = count_five(x) - count_five(y) - count_five(x-y)\n",
        " \n",
        "    return min(t, f)\n",
        " \n",
        " \n",
        "if __name__ == \"__main__\":\n",
        "    n, m = map(int, input().split())\n",
        " \n",
        "    print(count_zero(n, m))"
      ],
      "metadata": {
        "id": "eHWuE5DsPMfl"
      },
      "execution_count": null,
      "outputs": []
    }
  ]
}
