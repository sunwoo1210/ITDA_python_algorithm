{
 "cells": [
  {
   "cell_type": "markdown",
   "id": "14be02a0",
   "metadata": {},
   "source": [
    "#### 문제 31. 파이썬 자료형의 복잡도 <br>\n",
    "다음 리스트의 내장함수의 시간 복잡도가 O(1)이 아닌 것은? <br><br>\n",
    "\n",
    "1) I[i] <br>\n",
    "2) l.append(5) <br>\n",
    "3) l[a:b] <br>\n",
    "4) l.pop() <br>\n",
    "5) l.clear() <br>"
   ]
  },
  {
   "cell_type": "markdown",
   "id": "9eb13ea9",
   "metadata": {},
   "source": [
    "#### 답: 3번"
   ]
  },
  {
   "cell_type": "markdown",
   "id": "5611ac17",
   "metadata": {},
   "source": [
    "#### 문제 32. 문자열 만들기 <br>\n",
    "취업 준비생인 혜림이는 자기소개서를 쓰고 있습니다. 열심히 자기소개서를 작성하던 도중 혜림이는 자기가 지금까지 단어를 얼마나 적었는지 궁금하게 됩니다. <br>\n",
    "혜림이를 위해 문자열을 입력 받으면 단어의 갯수를 출력하는 프로그램을 작성해 주세요 <br><br>\n",
    "\n",
    "입력: 안녕하세요. 저는 제주대학교 컴퓨터공학전공 혜림입니다 <br>\n",
    "출력: 5"
   ]
  },
  {
   "cell_type": "code",
   "execution_count": 1,
   "id": "b61a3c3e",
   "metadata": {},
   "outputs": [
    {
     "name": "stdout",
     "output_type": "stream",
     "text": [
      "안녕하세요. 저는 제주대학교 컴퓨터공학전공 혜림입니다.\n",
      "5\n"
     ]
    }
   ],
   "source": [
    "a = input()\n",
    "b = list(a.split())\n",
    "print(len(b))"
   ]
  },
  {
   "cell_type": "markdown",
   "id": "70f2656b",
   "metadata": {},
   "source": [
    "#### 문제 33. 거꾸로 출력하기 <br>\n",
    "한 줄에 여러 개의 숫자가 입력 되면, 역순으로 그 숫자들을 하나씩 출력하는 프로그램을 작성하시오. <br><br>\n",
    "\n",
    "입력: 1 2 3 4 5 <br>\n",
    "출력: 5 4 3 2 1 <br><br>\n",
    "\n",
    "입력: 2 4 6 7 8 <br>\n",
    "출력: 8 7 6 4 2"
   ]
  },
  {
   "cell_type": "code",
   "execution_count": 3,
   "id": "b3e65d2f",
   "metadata": {},
   "outputs": [
    {
     "name": "stdout",
     "output_type": "stream",
     "text": [
      "1 2 3 4 5\n",
      "5 4 3 2 1 "
     ]
    }
   ],
   "source": [
    "a = list(input().strip().split())\n",
    "for i in range(len(a)-1, -1, -1):\n",
    "    print(a[i], end = \" \")"
   ]
  },
  {
   "cell_type": "markdown",
   "id": "7cdbaccd",
   "metadata": {},
   "source": [
    "#### 문제 34. sort 확인하기 <br>\n",
    "민주는 체육부장으로 체육시간이 되면 반 친구들이 제대로 키 순서대로 모였는지를 확인해야한다. 그런데 요즘 민주는 그것이 너무 번거롭게 느껴져 한 번에 확인하고 싶어한다. <br>\n",
    "민주를 위해 키가 주어지면 순서대로 제대로 섰는지 확인하는 프로그램을 작성해보자. <br><br>\n",
    "\n",
    "입력: 176 156 155 165 166 169 <br>\n",
    "출력: No"
   ]
  },
  {
   "cell_type": "code",
   "execution_count": 5,
   "id": "eaf0d5c3",
   "metadata": {},
   "outputs": [
    {
     "name": "stdout",
     "output_type": "stream",
     "text": [
      "176 156 155 165 166 169\n",
      "No\n"
     ]
    }
   ],
   "source": [
    "a = list(input().strip().split())\n",
    "if a == sorted(a):\n",
    "    print(\"Yes\")\n",
    "else:\n",
    "    print(\"No\")"
   ]
  },
  {
   "cell_type": "markdown",
   "id": "0bff88ee",
   "metadata": {},
   "source": [
    "#### 문제 35. Factory 함수 사용하기 <br>\n",
    "2제곱, 3제곱, 4제곱을 할 수 있는 Factory 함수를 만들려고 합니다. <br>\n",
    "<패스>에 코드를 작성하여 two 함수를 완성하세요. <br><br>"
   ]
  },
  {
   "cell_type": "code",
   "execution_count": 10,
   "id": "95dab745",
   "metadata": {},
   "outputs": [
    {
     "ename": "IndentationError",
     "evalue": "expected an indented block (<ipython-input-10-b7ba57d74500>, line 2)",
     "output_type": "error",
     "traceback": [
      "\u001b[1;36m  File \u001b[1;32m\"<ipython-input-10-b7ba57d74500>\"\u001b[1;36m, line \u001b[1;32m2\u001b[0m\n\u001b[1;33m    def two():\u001b[0m\n\u001b[1;37m    ^\u001b[0m\n\u001b[1;31mIndentationError\u001b[0m\u001b[1;31m:\u001b[0m expected an indented block\n"
     ]
    }
   ],
   "source": [
    "def one(n):\n",
    "def two():\n",
    "<패스>\n",
    "return two\n",
    "\n",
    "\n",
    "a = one (2)\n",
    "b = one (3)\n",
    "c = one (4)\n",
    "print(a(10)\n",
    "print(b(10)\n",
    "print(c(10)"
   ]
  },
  {
   "cell_type": "code",
   "execution_count": 11,
   "id": "97c5d53f",
   "metadata": {},
   "outputs": [
    {
     "ename": "SyntaxError",
     "evalue": "invalid syntax (<ipython-input-11-2422747a1891>, line 10)",
     "output_type": "error",
     "traceback": [
      "\u001b[1;36m  File \u001b[1;32m\"<ipython-input-11-2422747a1891>\"\u001b[1;36m, line \u001b[1;32m10\u001b[0m\n\u001b[1;33m    print(b(10)\u001b[0m\n\u001b[1;37m    ^\u001b[0m\n\u001b[1;31mSyntaxError\u001b[0m\u001b[1;31m:\u001b[0m invalid syntax\n"
     ]
    }
   ],
   "source": [
    "def one(n):\n",
    "    def two(obj):\n",
    "        result = obj ** n\n",
    "    return two\n",
    "\n",
    "a = one (2)\n",
    "b = one (3)\n",
    "c = one (4)\n",
    "print(a(10)\n",
    "print(b(10)\n",
    "print(c(10)"
   ]
  },
  {
   "cell_type": "markdown",
   "id": "17d6a6ab",
   "metadata": {},
   "source": [
    "#### 문제 36. 구구단 출력하기 <br>\n",
    "1~9까지의 숫자 중 하나를 입력하면 그 단의 구구단 결과를 한 줄에 출력하는 프로그램을 작성하세요. <br><br>\n",
    "\n",
    "입력: 2 <br>\n",
    "출력: 2 4 6 8 10 12 14 16 18 "
   ]
  },
  {
   "cell_type": "code",
   "execution_count": 7,
   "id": "7bc928d4",
   "metadata": {},
   "outputs": [
    {
     "name": "stdout",
     "output_type": "stream",
     "text": [
      "2\n",
      "2 4 6 8 10 12 14 16 18 "
     ]
    }
   ],
   "source": [
    "gugudan = int(input())\n",
    "for i in range(1, 10):\n",
    "    print(gugudan * i, end = \" \")"
   ]
  },
  {
   "cell_type": "markdown",
   "id": "b96a15d5",
   "metadata": {},
   "source": [
    "#### 문제 37. count 사용하기 <br>\n",
    "새 학기를 맞아 호준이네 반은 반장 선거를 하기로 했습니다. 그런데 표를 하나씩 개표하는 과정이 너무 번거롭게 느껴진 당신은 학생들이 뽑은 후보들을 입력 받으면 뽑힌 학생의 이름과 받은 표 수를 출력하는 프로그램을 작성하기로 하였습니다. <br><br>\n",
    "\n",
    "입력: 원범 원범 혜원 혜원 혜원 혜원 유진 유진 <br>\n",
    "출력: 혜원(이)가 총 4표로 반장이 되었습니다."
   ]
  },
  {
   "cell_type": "code",
   "execution_count": 18,
   "id": "9e7bd630",
   "metadata": {},
   "outputs": [
    {
     "name": "stdout",
     "output_type": "stream",
     "text": [
      "원범 원범 혜원 혜원 혜원 혜원 유진 유진\n",
      "혜원(이)가 총 4표로 반장이 되었습니다.\n"
     ]
    }
   ],
   "source": [
    "data = input().split()\n",
    "data_two = set(data)\n",
    "data_dict = {}\n",
    "for key in data_two:\n",
    "    data_dict[key] = data.count(key)\n",
    "    \n",
    "print(f\"{max(data_dict, key = data_dict.get)}(이)가 총 {max(data_dict.values())}표로 반장이 되었습니다.\")"
   ]
  },
  {
   "cell_type": "markdown",
   "id": "ee14af67",
   "metadata": {},
   "source": [
    "#### 문제 38. 호준이의 아르바이트 <br>\n",
    "호준이는 아르바이트로 영어 학원에서 단어 시험지를 채점하는 일을 하고 있다. 호준이가 이라는 학원은 매번 1위부터 3위까지의 학생에게 상으로 사탕을 준다. 그런데 오늘은 마침 사탕이 다 떨어져서 호준이가 채점을 하고 점수를 보내면, 당신이 아이들의 숫자만큼 사탕을 사러 가기로 했다. <br>\n",
    "학생들의 점수를 공백으로 구분하여 입력 받는다. 1위-3위 학생은 여러 명일 수 있고 1위-3위학생 중 중복되는 학생까지 포함하여 사탕을 사기로 한다. \n",
    "- 학생 수는 4명 이상입니다.\n",
    "- 숫자 외에 다른 값은 입력되지 않습니다. <br><br>\n",
    "\n",
    "점수 입력: 97 86 75 66 55 97 85 97 97 95 <br>\n",
    "출력: 6"
   ]
  },
  {
   "cell_type": "code",
   "execution_count": 20,
   "id": "a4c4257c",
   "metadata": {},
   "outputs": [
    {
     "name": "stdout",
     "output_type": "stream",
     "text": [
      " 97 86 75 66 55 97 85 97 97 95\n"
     ]
    },
    {
     "ename": "ValueError",
     "evalue": "invalid literal for int() with base 10: ' '",
     "output_type": "error",
     "traceback": [
      "\u001b[1;31m---------------------------------------------------------------------------\u001b[0m",
      "\u001b[1;31mValueError\u001b[0m                                Traceback (most recent call last)",
      "\u001b[1;32m<ipython-input-20-5ec09e9747e6>\u001b[0m in \u001b[0;36m<module>\u001b[1;34m\u001b[0m\n\u001b[1;32m----> 1\u001b[1;33m \u001b[0mscores\u001b[0m \u001b[1;33m=\u001b[0m \u001b[0mlist\u001b[0m\u001b[1;33m(\u001b[0m\u001b[0mmap\u001b[0m\u001b[1;33m(\u001b[0m\u001b[0mint\u001b[0m\u001b[1;33m,\u001b[0m \u001b[0minput\u001b[0m\u001b[1;33m(\u001b[0m\u001b[1;34m\" \"\u001b[0m\u001b[1;33m)\u001b[0m\u001b[1;33m)\u001b[0m\u001b[1;33m)\u001b[0m\u001b[1;33m.\u001b[0m\u001b[0msplit\u001b[0m\u001b[1;33m\u001b[0m\u001b[1;33m\u001b[0m\u001b[0m\n\u001b[0m\u001b[0;32m      2\u001b[0m \u001b[0mscores_two\u001b[0m \u001b[1;33m=\u001b[0m \u001b[0msorted\u001b[0m\u001b[1;33m(\u001b[0m\u001b[0mlist\u001b[0m\u001b[1;33m(\u001b[0m\u001b[0mset\u001b[0m\u001b[1;33m(\u001b[0m\u001b[0mscores\u001b[0m\u001b[1;33m)\u001b[0m\u001b[1;33m)\u001b[0m\u001b[1;33m,\u001b[0m \u001b[0mreverse\u001b[0m \u001b[1;33m=\u001b[0m \u001b[1;32mTrue\u001b[0m\u001b[1;33m)\u001b[0m\u001b[1;33m\u001b[0m\u001b[1;33m\u001b[0m\u001b[0m\n\u001b[0;32m      3\u001b[0m \u001b[1;33m\u001b[0m\u001b[0m\n\u001b[0;32m      4\u001b[0m \u001b[0mcount\u001b[0m \u001b[1;33m=\u001b[0m \u001b[1;36m0\u001b[0m\u001b[1;33m\u001b[0m\u001b[1;33m\u001b[0m\u001b[0m\n\u001b[0;32m      5\u001b[0m \u001b[1;33m\u001b[0m\u001b[0m\n",
      "\u001b[1;31mValueError\u001b[0m: invalid literal for int() with base 10: ' '"
     ]
    }
   ],
   "source": [
    "scores = list(map(int, input())).split\n",
    "scores_two = sorted(list(set(scores)), reverse = True)\n",
    "\n",
    "count = 0\n",
    "\n",
    "if len(scores_two) <= 3:\n",
    "    count = len(scores)\n",
    "else:\n",
    "    for i in range(0, 3):\n",
    "        count = count + scores.count(scores_two[i])\n",
    "        \n",
    "print(count)"
   ]
  },
  {
   "cell_type": "markdown",
   "id": "fadf62a8",
   "metadata": {},
   "source": [
    "#### 문제 39. 오타 수정하기 <br>\n",
    "혜원이는 평소 영타가 빠르고 정확한 것을 친구들에게 자랑하고 다녔습니다. 반 친구들이 혜원이의 타자 속도가 빠르다는 것을 모두 알게 되자 혜원이는 모두의 앞에서 타자 실력을 보여주게 됩니다. 그런데 막상 보여주려니 긴장이 돼서 문장의 모든 e를 q로, n을 b로 잘못 친 것을 발견했습니다. 혜원이는 프로그램을 돌려 재빠르게 모든 q를 e로, b를 n으로 바꾸는 프로그램을 작성하려고 합니다. <br>\n",
    "문장이 입력되면 모든 q를 e로, b를 n으로 바꾸는 프로그램을 작성해 주세요. \n",
    "- 완성하려는 문장 안에 q나 b가 들어가지 않는다고 가정합니다. <br><br>\n",
    "\n",
    "입력: querty <br>\n",
    "출력: euerty <br><br>\n",
    "\n",
    "입력: hqllo my bamq is hyqwob <br>\n",
    "출력: hello my name is hyewon"
   ]
  },
  {
   "cell_type": "code",
   "execution_count": 9,
   "id": "2f96d8db",
   "metadata": {},
   "outputs": [
    {
     "name": "stdout",
     "output_type": "stream",
     "text": [
      "hqllo my bamq is hyqwob\n",
      "hello my name is hyewon\n"
     ]
    }
   ],
   "source": [
    "a = input()\n",
    "\n",
    "print(a.replace(\"q\", \"e\").replace(\"b\", \"n\"))"
   ]
  },
  {
   "cell_type": "markdown",
   "id": "262e5492",
   "metadata": {},
   "source": [
    "#### 문제 40. 놀이동산에 가자 <br>\n",
    "테마파크에 온 원범이와 친구들은 놀이기구를 타려고 합니다. 모든 놀이기구는 한 번에 타는 인원수에는 제한이 없지만 제한 무게를 넘으면 무조건 다음 기구를 타야 합니다. <br>\n",
    "원범이와 친구들이 총 몇 명 탈 수 있는지 알 수 있는 프로그램을 작성해 주세요. <br>\n",
    "첫 번째 줄에서 제한 무게가 주어지고 두 번째 줄에서는 함께한 친구들의 수 n이 주어집니다. <br>\n",
    "그 다음 차례대로 탑승할 친구들의 몸무게가 주어집니다. 몸무게는 무작위로 주어집니다.\n",
    "- 단, 놀이기구는 선착순으로만 탈 수 있습니다.\n",
    "- 두 명 이상의 인원이 항상 탑승합니다. <br><br>\n",
    "\n",
    "입력: 50 5 20 20 20 20 20 <br>\n",
    "출력: 2"
   ]
  },
  {
   "cell_type": "code",
   "execution_count": 13,
   "id": "fcefaa3f",
   "metadata": {},
   "outputs": [
    {
     "name": "stdout",
     "output_type": "stream",
     "text": [
      "제한 무게: 50\n",
      "친구들의 수: 5\n",
      "탑승하는 친구들의 몸무게: 20\n",
      "탑승하는 친구들의 몸무게: 20\n",
      "탑승하는 친구들의 몸무게: 20\n",
      "탑승하는 친구들의 몸무게: 20\n",
      "탑승하는 친구들의 몸무게: 20\n",
      "2\n"
     ]
    }
   ],
   "source": [
    "limit = int(input(\"제한 무게: \"))\n",
    "n = int(input(\"친구들의 수: \"))\n",
    "weights = []\n",
    "for i in range(n):\n",
    "    weights.append(int(input(\"탑승하는 친구들의 몸무게: \")))\n",
    "    \n",
    "total = 0\n",
    "count = 0\n",
    "\n",
    "for i in range(len(weights)):\n",
    "    total = total + weights[i]\n",
    "    if total <= limit:\n",
    "        count = count + 1\n",
    "    else:\n",
    "        break;\n",
    "        \n",
    "print(count)"
   ]
  }
 ],
 "metadata": {
  "kernelspec": {
   "display_name": "Python 3",
   "language": "python",
   "name": "python3"
  },
  "language_info": {
   "codemirror_mode": {
    "name": "ipython",
    "version": 3
   },
   "file_extension": ".py",
   "mimetype": "text/x-python",
   "name": "python",
   "nbconvert_exporter": "python",
   "pygments_lexer": "ipython3",
   "version": "3.8.8"
  }
 },
 "nbformat": 4,
 "nbformat_minor": 5
}
