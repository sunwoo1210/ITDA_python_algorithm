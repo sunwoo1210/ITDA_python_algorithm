{
  "nbformat": 4,
  "nbformat_minor": 0,
  "metadata": {
    "colab": {
      "name": "Untitled1.ipynb",
      "provenance": [],
      "authorship_tag": "ABX9TyMP+cCcyINC0cch1Dp9JUrF",
      "include_colab_link": true
    },
    "kernelspec": {
      "name": "python3",
      "display_name": "Python 3"
    },
    "language_info": {
      "name": "python"
    }
  },
  "cells": [
    {
      "cell_type": "markdown",
      "metadata": {
        "id": "view-in-github",
        "colab_type": "text"
      },
      "source": [
        "<a href=\"https://colab.research.google.com/github/sunwoo1210/ITDA_python_test/blob/main/level%2014.ipynb\" target=\"_parent\"><img src=\"https://colab.research.google.com/assets/colab-badge.svg\" alt=\"Open In Colab\"/></a>"
      ]
    },
    {
      "cell_type": "code",
      "execution_count": 1,
      "metadata": {
        "colab": {
          "base_uri": "https://localhost:8080/"
        },
        "id": "Cl3W-TiYP3lo",
        "outputId": "32fffec3-67a5-42ba-ac17-a3266107e4a7"
      },
      "outputs": [
        {
          "output_type": "stream",
          "name": "stdout",
          "text": [
            "3 1\n",
            "1\n",
            "2\n",
            "3\n"
          ]
        }
      ],
      "source": [
        "# level 14\n",
        "# 15649번 N과 M(1)\n",
        "\n",
        "n, m = map(int, input().split())\n",
        "\n",
        "s = []\n",
        "def f():\n",
        "  if len(s) == m:\n",
        "    print(' '.join(map(str, s)))\n",
        "    return\n",
        "\n",
        "  for i in range(1, n + 1):\n",
        "    if i in s:\n",
        "      continue\n",
        "    s.append(i)\n",
        "    f()\n",
        "    s.pop()\n",
        "\n",
        "f()"
      ]
    },
    {
      "cell_type": "code",
      "source": [
        "# 15650번 N과 M(2)\n",
        "\n",
        "from itertools import combinations\n",
        "N, M = map(int, input().split())\n",
        "C = combinations(range(1, N+1), M)  # iter(tuple)\n",
        "for i in C:\n",
        "    print(' '.join(map(str, i)))  # tuple -> str"
      ],
      "metadata": {
        "colab": {
          "base_uri": "https://localhost:8080/"
        },
        "id": "Z1q0v5kMQn2x",
        "outputId": "99d4ecde-39c2-4d6b-89b9-7320cd9d4959"
      },
      "execution_count": 2,
      "outputs": [
        {
          "output_type": "stream",
          "name": "stdout",
          "text": [
            "3 1\n",
            "1\n",
            "2\n",
            "3\n"
          ]
        }
      ]
    },
    {
      "cell_type": "code",
      "source": [
        "# 15651번 N과 M(3)\n",
        "\n",
        "N, M = map(int, input().split())\n",
        "out = []\n",
        "\n",
        "def solve(depth, N, M):\n",
        "    if depth == M:\n",
        "        print(' '.join(map(str, out)))\n",
        "        return\n",
        "    for i in range(N):\n",
        "        out.append(i+1)\n",
        "        solve(depth+1, N, M)\n",
        "        out.pop()\n",
        "\n",
        "solve(0, N, M)"
      ],
      "metadata": {
        "colab": {
          "base_uri": "https://localhost:8080/"
        },
        "id": "2oNjup1PROQb",
        "outputId": "40e38e5c-2b32-435f-e95b-ec6847dfcf50"
      },
      "execution_count": 3,
      "outputs": [
        {
          "output_type": "stream",
          "name": "stdout",
          "text": [
            "3 1\n",
            "1\n",
            "2\n",
            "3\n"
          ]
        }
      ]
    },
    {
      "cell_type": "code",
      "source": [
        "# 15652번 N과 M(4)\n",
        "\n",
        "N, M = map(int, input().split())\n",
        "out = []\n",
        "\n",
        "def solve(depth, idx, N, M):\n",
        "    if depth == M:\n",
        "        print(' '.join(map(str, out)))\n",
        "        return\n",
        "    for i in range(idx, N):\n",
        "        out.append(i+1)\n",
        "        solve(depth+1, i, N, M)\n",
        "        out.pop()\n",
        "\n",
        "solve(0, 0, N, M)"
      ],
      "metadata": {
        "colab": {
          "base_uri": "https://localhost:8080/"
        },
        "id": "pll7UrWxRnPX",
        "outputId": "1d2e220e-cf60-4532-daf1-a829b580ed11"
      },
      "execution_count": 5,
      "outputs": [
        {
          "output_type": "stream",
          "name": "stdout",
          "text": [
            "3 1\n",
            "1\n",
            "2\n",
            "3\n"
          ]
        }
      ]
    },
    {
      "cell_type": "code",
      "source": [
        "# 9663번 N-Queen\n",
        "\n",
        "def adjacent(x):\n",
        "    for i in range(x):\n",
        "        if row[x] == row[i] or abs(row[x] - row[i]) == x - i:\n",
        "            return False\n",
        "    return True\n",
        "        \n",
        "def dfs(x):\n",
        "    global result\n",
        "    \n",
        "    if x == N:\n",
        "        result += 1\n",
        "\n",
        "    else:\n",
        "        for i in range(N):\n",
        "            row[x] = i\n",
        "            if adjacent(x):\n",
        "                dfs(x + 1)\n",
        "\n",
        "N = int(input())\n",
        "row = [0] * N\n",
        "result = 0\n",
        "dfs(0)\n",
        "print(result)"
      ],
      "metadata": {
        "colab": {
          "base_uri": "https://localhost:8080/"
        },
        "id": "U3cL7AV3R07x",
        "outputId": "366a3078-7cb4-4df1-ff87-cf8c3c9094a5"
      },
      "execution_count": 6,
      "outputs": [
        {
          "output_type": "stream",
          "name": "stdout",
          "text": [
            "8\n",
            "92\n"
          ]
        }
      ]
    },
    {
      "cell_type": "code",
      "source": [
        "# 2580번 스도쿠\n",
        "\n",
        "import sys\n",
        "\n",
        "\n",
        "board = [list(map(int, input().split())) for _ in range(9)]\n",
        "zeros = [(i, j) for i in range(9) for j in range(9) if board[i][j] == 0]\n",
        "\n",
        "\n",
        "def get_possibles(r, c):\n",
        "    possibles = set(range(1, 10))\n",
        "    possibles -= set(board[r])\n",
        "    test = set()\n",
        "    for i in range(9):\n",
        "        test.add(board[i][c])\n",
        "    possibles -= test\n",
        "    test = set()\n",
        "    for i in range(r//3*3, r//3*3+3):\n",
        "        for j in range(c//3*3, c//3*3+3):\n",
        "            test.add(board[i][j])\n",
        "    possibles -= test\n",
        "    return tuple(possibles)\n",
        "\n",
        "\n",
        "def solve(i):\n",
        "    if i == len(zeros):\n",
        "        [print(*row) for row in board]\n",
        "        sys.exit()\n",
        "    r, c = zeros[i]\n",
        "    possibles = get_possibles(r, c)\n",
        "    for num in possibles:\n",
        "        board[r][c] = num\n",
        "        solve(i+1)\n",
        "        board[r][c] = 0\n",
        "\n",
        "\n",
        "solve(0)"
      ],
      "metadata": {
        "colab": {
          "base_uri": "https://localhost:8080/",
          "height": 493
        },
        "id": "D7piRpNKSkLK",
        "outputId": "7e985226-282b-42ee-8c84-b62f64d24b47"
      },
      "execution_count": 8,
      "outputs": [
        {
          "output_type": "stream",
          "name": "stdout",
          "text": [
            "0 3 5 4 6 9 2 7 8\n",
            "7 8 2 1 0 5 6 0 9\n",
            "0 6 0 2 7 8 1 3 5\n",
            "3 2 1 0 4 6 8 9 7\n",
            "8 0 4 9 1 3 5 0 6\n",
            "5 9 6 8 2 0 4 1 3\n",
            "9 1 7 6 5 2 0 8 0\n",
            "6 0 3 7 0 1 9 5 2\n",
            "2 5 8 3 9 4 7 6 0\n",
            "1 3 5 4 6 9 2 7 8\n",
            "7 8 2 1 3 5 6 4 9\n",
            "4 6 9 2 7 8 1 3 5\n",
            "3 2 1 5 4 6 8 9 7\n",
            "8 7 4 9 1 3 5 2 6\n",
            "5 9 6 8 2 7 4 1 3\n",
            "9 1 7 6 5 2 3 8 4\n",
            "6 4 3 7 8 1 9 5 2\n",
            "2 5 8 3 9 4 7 6 1\n"
          ]
        },
        {
          "output_type": "error",
          "ename": "SystemExit",
          "evalue": "ignored",
          "traceback": [
            "An exception has occurred, use %tb to see the full traceback.\n",
            "\u001b[0;31mSystemExit\u001b[0m\n"
          ]
        },
        {
          "output_type": "stream",
          "name": "stderr",
          "text": [
            "/usr/local/lib/python3.7/dist-packages/IPython/core/interactiveshell.py:2890: UserWarning: To exit: use 'exit', 'quit', or Ctrl-D.\n",
            "  warn(\"To exit: use 'exit', 'quit', or Ctrl-D.\", stacklevel=1)\n"
          ]
        }
      ]
    },
    {
      "cell_type": "code",
      "source": [
        "# 14888번 연산자 끼워넣기\n",
        "\n",
        "import sys\n",
        "input = sys.stdin.readline\n",
        "\n",
        "\n",
        "N = int(input())\n",
        "\n",
        "nums = list(map(int, input().split()))\n",
        "\n",
        "a, b, c, d = map(int, input().split())\n",
        "\n",
        "max_ans, min_ans = -sys.maxsize -1, sys.maxsize\n",
        "\n",
        "def solution(num, idx, add, sub, mul, div):\n",
        "    global max_ans, min_ans\n",
        "    if idx == N:\n",
        "        max_ans = max(max_ans, num)\n",
        "        min_ans = min(min_ans, num)\n",
        "        return \n",
        "    \n",
        "    if add > 0:\n",
        "        solution(num + nums[idx], idx + 1, add - 1, sub, mul, div)\n",
        "    if sub > 0:\n",
        "        solution(num - nums[idx], idx + 1, add, sub - 1, mul, div)\n",
        "    if mul > 0:\n",
        "        solution(num * nums[idx], idx + 1, add, sub , mul -1, div)\n",
        "    if div > 0:\n",
        "        solution(int(num / nums[idx]), idx + 1, add, sub, mul, div -1)\n",
        "\n",
        "\n",
        "solution(nums[0], 1, a, b, c, d)\n",
        "print(max_ans)\n",
        "print(min_ans)"
      ],
      "metadata": {
        "id": "dUtDE0MKTMrg"
      },
      "execution_count": null,
      "outputs": []
    },
    {
      "cell_type": "code",
      "source": [
        "# 14889번 스타트와 링크\n",
        "\n",
        "from itertools import combinations #조합 함수\n",
        "\n",
        "N = int(input())\n",
        "S = [list(map(int, input().split())) for _ in range(N)]\n",
        "members = [i for i in range(N)]\n",
        "possible_team = []\n",
        "\n",
        "#조합으로 가능한 팀 생성해주기\n",
        "for team in list(combinations(members, N//2)):\n",
        "    possible_team.append(team)\n",
        "\n",
        "min_stat_gap = 10000 #갭이 가장 작은 값을 찾기 위하여\n",
        "for i in range(len(possible_team)//2):\n",
        "    #A 팀\n",
        "    team = possible_team[i]\n",
        "    stat_A = 0 #A팀 능력치\n",
        "    for j in range(N//2):\n",
        "        member = team[j] #멤버\n",
        "        for k in team:\n",
        "            stat_A += S[member][k] #멤버와 함께할 경우의 능력치들\n",
        "            \n",
        "    #A를 제외한 나머지 팀\n",
        "    team = possible_team[-i-1]\n",
        "    stat_B = 0\n",
        "    for j in range(N//2):\n",
        "        member = team[j]\n",
        "        for k in team:\n",
        "            stat_B += S[member][k]\n",
        "            \n",
        "    min_stat_gap = min(min_stat_gap, abs(stat_A - stat_B))\n",
        "    \n",
        "print(min_stat_gap)"
      ],
      "metadata": {
        "id": "erVwUJewUJbX"
      },
      "execution_count": null,
      "outputs": []
    }
  ]
}