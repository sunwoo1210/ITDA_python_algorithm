{
 "cells": [
  {
   "cell_type": "markdown",
   "id": "844ed203",
   "metadata": {},
   "source": [
    "### 71. 깊이 우선 탐색\n",
    "다음과 같이 리스트 형태로 노드들의 연결 관계가 주어진다고 할 때 깊이 우선 탐색으로 이 노드들을 탐색했을 때의 순서를 공백으로 구분하여 출력하는 프로그램을 완성하세요.\n",
    "\n",
    "빨간색으로 Pass라고 되어 있는 부분을 완성해주세요.\n",
    "\n",
    "깊이 우선 탐색을 오른쪽, 왼쪽 둘 다 구현해보세요.\n",
    "\n",
    "리스트로도 구현해보세요."
   ]
  },
  {
   "cell_type": "code",
   "execution_count": null,
   "id": "802210ee",
   "metadata": {},
   "outputs": [],
   "source": [
    "1. 데이터\n",
    "\n",
    "graph = {'E': set(['D', 'A']),\n",
    "         'F': set(['D']),\n",
    "         'A': set(['E', 'C', 'B']),\n",
    "         'B': set(['A']),\n",
    "         'C': set(['A']),\n",
    "         'D': set(['E','F'])}\n",
    "\n",
    "2. 출력\n",
    "['E', 'A', 'B', 'C', 'D', 'F']\n",
    "\n",
    "3. 코드\n",
    "\n",
    "graph = {\n",
    "        'A': set(['B', 'C', 'E']),\n",
    "        'B': set(['A']),\n",
    "        'C': set(['A']),\n",
    "        'D': set(['E', 'F']),\n",
    "        'E': set(['A', 'D']),\n",
    "        'F': set(['D'])\n",
    "}\n",
    "\n",
    "def dfs(graph, start):\n",
    "    visited = []\n",
    "    stack = [start]\n",
    "\n",
    "    while stack:\n",
    "        n = stack.pop()\n",
    "        if n not in visited:\n",
    "            visited.append(n)\n",
    "            **pass**\n",
    "    return visited\n",
    "\n",
    "print(dfs(graph, 'E'))"
   ]
  },
  {
   "cell_type": "code",
   "execution_count": 1,
   "id": "d5e9debd",
   "metadata": {},
   "outputs": [
    {
     "name": "stdout",
     "output_type": "stream",
     "text": [
      "['E', 'D', 'F', 'A', 'B', 'C']\n"
     ]
    }
   ],
   "source": [
    "graph = {\n",
    "        'A': set(['B', 'C', 'E']),\n",
    "        'B': set(['A']),\n",
    "        'C': set(['A']),\n",
    "        'D': set(['E', 'F']),\n",
    "        'E': set(['A', 'D']),\n",
    "        'F': set(['D'])\n",
    "}\n",
    "\n",
    "def dfs(graph, start):\n",
    "    visited = []\n",
    "    stack = [start]\n",
    "\n",
    "    while stack:\n",
    "        n = stack.pop()\n",
    "        if n not in visited:\n",
    "            visited.append(n)\n",
    "            stack += graph[n] - set(visited)\n",
    "    return visited\n",
    "\n",
    "print(dfs(graph, 'E'))"
   ]
  },
  {
   "cell_type": "markdown",
   "id": "9cfd7e3c",
   "metadata": {},
   "source": [
    "### 72. 너비 우선 탐색\n",
    "다음과 같이 입력이 주어질 때 너비 우선 탐색을 한 순서대로 노드의 인덱스를 공백 구분으로 출력하는 프로그램을 완성해주세요."
   ]
  },
  {
   "cell_type": "code",
   "execution_count": null,
   "id": "ada5ffc4",
   "metadata": {},
   "outputs": [],
   "source": [
    "1. 데이터\n",
    "\n",
    "graph = {'E': set(['D', 'A']),\n",
    "         'F': set(['D']),\n",
    "         'A': set(['E', 'C', 'B']),\n",
    "         'B': set(['A']),\n",
    "         'C': set(['A']),\n",
    "         'D': set(['E','F'])}\n",
    "\n",
    "2. 출력\n",
    "\n",
    "['E', 'D', 'A', 'F', 'C', 'B']\n",
    "\n",
    "3. 코드\n",
    "\n",
    "graph = {'E': set(['D', 'A']),\n",
    "         'F': set(['D']),\n",
    "         'A': set(['E', 'C', 'B']),\n",
    "         'B': set(['A']),\n",
    "         'C': set(['A']),\n",
    "         'D': set(['E','F'])}\n",
    "\n",
    "def bfs(graph, start):\n",
    "    visited = []\n",
    "    queue = [start]\n",
    "\n",
    "    while queue:\n",
    "        **pass**\n",
    "        if n not in visited:\n",
    "            visited.append(n)\n",
    "            queue += graph[n] - set(visited)\n",
    "    return visited\n",
    "\n",
    "print(bfs(graph, 'E'))"
   ]
  },
  {
   "cell_type": "code",
   "execution_count": 3,
   "id": "b0848906",
   "metadata": {},
   "outputs": [
    {
     "name": "stdout",
     "output_type": "stream",
     "text": [
      "['E', 'D', 'A', 'F', 'C', 'B']\n"
     ]
    }
   ],
   "source": [
    "graph = {'E': set(['D', 'A']),\n",
    "         'F': set(['D']),\n",
    "         'A': set(['E', 'C', 'B']),\n",
    "         'B': set(['A']),\n",
    "         'C': set(['A']),\n",
    "         'D': set(['E','F'])}\n",
    "\n",
    "def bfs(graph, start):\n",
    "    visited = []\n",
    "    queue = [start]\n",
    "\n",
    "    while queue:\n",
    "        n = queue.pop(0)\n",
    "        \n",
    "        if n not in visited:\n",
    "            visited.append(n)\n",
    "            queue += graph[n] - set(visited)\n",
    "    return visited\n",
    "\n",
    "print(bfs(graph, 'E'))"
   ]
  },
  {
   "cell_type": "markdown",
   "id": "05ff54eb",
   "metadata": {},
   "source": [
    "### 73. 최단 경로 찾기\n",
    "다음과 같이 노드의 연결 관계가 그래프 형태로 주어집니다. 그 다음 경로를 구할 두 정점이 공백으로 구분되어 주어질 것입니다.\n",
    "\n",
    "두 정점 사이를 이동할 수 있는 최단거리를 출력하는 프로그램을 작성해 주세요.\n",
    "\n",
    "이 때 최단 거리란, 정점의 중복 없이 한 정점에서 다른 정점까지 갈 수 있는 가장 적은 간선의 수를 의미합니다."
   ]
  },
  {
   "cell_type": "code",
   "execution_count": null,
   "id": "b27ff1dc",
   "metadata": {},
   "outputs": [],
   "source": [
    "데이터\n",
    "graph = {'A': set(['B', 'C']),\n",
    "         'B': set(['A', 'D', 'E']),\n",
    "         'C': set(['A', 'F']),\n",
    "         'D': set(['B']),\n",
    "         'E': set(['B', 'F']),\n",
    "         'F': set(['C', 'E'])}\n",
    "\n",
    "입출력\n",
    "입력 : A F\n",
    "출력 : 2"
   ]
  },
  {
   "cell_type": "code",
   "execution_count": 4,
   "id": "1b61790a",
   "metadata": {},
   "outputs": [
    {
     "name": "stdout",
     "output_type": "stream",
     "text": [
      "A F\n",
      "2\n"
     ]
    }
   ],
   "source": [
    "graph = {'A': set(['B', 'C']),\n",
    "         'B': set(['A', 'D', 'E']),\n",
    "         'C': set(['A', 'F']),\n",
    "         'D': set(['B']),\n",
    "         'E': set(['B', 'F']),\n",
    "         'F': set(['C', 'E'])}\n",
    "\n",
    "start, end = [i for i in input().split()]\n",
    "    \n",
    "queue = [start]\n",
    "visited = [start]\n",
    "    \n",
    "def solution():\n",
    "    count = -1\n",
    "\n",
    "    while len(queue)!=0:\n",
    "        count += 1\n",
    "        size = len(queue)\n",
    "\n",
    "        for i in range(size):\n",
    "            node = queue.pop(0)\n",
    "            if node == end:\n",
    "                return count\n",
    "\n",
    "            for next_node in graph[node]:\n",
    "                if next_node not in visited:\n",
    "                    visited.append(next_node)\n",
    "                    queue.append(next_node)\n",
    "\n",
    "print(solution())"
   ]
  },
  {
   "cell_type": "markdown",
   "id": "d3a6a567",
   "metadata": {},
   "source": [
    "### 74. 최장 경로 찾기\n",
    "첫 줄에는 다음과 같은 집합 자료형 형태로 노드의 연결 관계가 주어집니다. 두번째 줄에는 경로를 구할 두 정점의 번호가 공백으로 구분되어 주어집니다. 이 두 정점으로 가기 위한 최대 거리를 구하고자 합니다.\n",
    "\n",
    "최대 거리란, 정점의 중복 없이 한 정점에서 다른 정점까지 경유할 수 있는 가장 많은 간선의 수를 뜻합니다."
   ]
  },
  {
   "cell_type": "code",
   "execution_count": null,
   "id": "b122fba3",
   "metadata": {},
   "outputs": [],
   "source": [
    "데이터\n",
    "graph = {1: [2, 3, 4],\n",
    "                 2: [1, 3, 4, 5, 6],\n",
    "                 3: [1, 2, 7],\n",
    "                 4: [1, 2, 5, 6],\n",
    "                 5: [2, 4, 6, 7],\n",
    "                 6: [2, 4, 5, 7],\n",
    "                 7: [3, 5, 6]}\n",
    "\n",
    "입력\n",
    "1 7\n",
    "\n",
    "출력\n",
    "6"
   ]
  },
  {
   "cell_type": "code",
   "execution_count": 5,
   "id": "d7f04b42",
   "metadata": {},
   "outputs": [
    {
     "name": "stdout",
     "output_type": "stream",
     "text": [
      "1 7\n",
      "6\n"
     ]
    }
   ],
   "source": [
    "graph = {1: [2, 3, 4],\n",
    "         2: [1, 3, 4, 5, 6],\n",
    "         3: [1, 2, 7],\n",
    "         4: [1, 2, 5, 6],\n",
    "         5: [2, 4, 6, 7],\n",
    "         6: [2, 4, 5, 7],\n",
    "         7: [3, 5, 6]} \n",
    "\n",
    "start, end = [int(i) for i in input().split()]\n",
    "queue = [start]\n",
    "visited = []\n",
    "\n",
    "def sol(n, visited):\n",
    "    if n[-1] == end:\n",
    "        return len(visited)\n",
    "    \n",
    "    if n[-1] in visited:\n",
    "        return len(visited)\n",
    "    \n",
    "    visited.append(n[-1])\n",
    "    length = 0\n",
    "    \n",
    "    for next_node in graph[n[-1]]:\n",
    "        n.append(next_node)\n",
    "        length = max(length, sol(n, visited))\n",
    "        queue.pop(-1)\n",
    "    return length\n",
    "\n",
    "print(sol(queue, visited))"
   ]
  },
  {
   "cell_type": "markdown",
   "id": "3fa41f2d",
   "metadata": {},
   "source": [
    "### 75. 이상한 369\n",
    "369 게임을 하는데 조금 이상한 규칙이 있습니다. 3이나 6, 9 일 때만 박수를 쳐야합니다. 예를 들어 13, 16과 같이 3과 6, 9 만으로 된 숫자가 아닐 경우엔 박수를 치지 않습니다. 수현이는 박수를 몇 번 쳤는지 확인하고 싶습니다. 36일 때 박수를 쳤다면 박수를 친 횟수는 5번입니다.\n",
    "\n",
    "n을 입력하면 박수를 몇 번 쳤는지 그 숫자를 출력해주세요."
   ]
  },
  {
   "cell_type": "code",
   "execution_count": null,
   "id": "e6651d91",
   "metadata": {},
   "outputs": [],
   "source": [
    "입력 - 문자로 입력받습니다.\n",
    "'93'\n",
    "\n",
    "출력\n",
    "10"
   ]
  },
  {
   "cell_type": "code",
   "execution_count": 7,
   "id": "15cd6dec",
   "metadata": {},
   "outputs": [
    {
     "name": "stdout",
     "output_type": "stream",
     "text": [
      "93\n",
      "10\n"
     ]
    }
   ],
   "source": [
    "def sol(n):\n",
    "    n = list(str(n))\n",
    "    answer = 0\n",
    "    count = 1\n",
    "    d = {3 : 1, 6 : 2, 9 : 3}\n",
    "    \n",
    "    while n:\n",
    "        answer += d[int(n.pop())] * count\n",
    "        count *= 3\n",
    "        \n",
    "    return answer\n",
    "\n",
    "num = input( ) \n",
    "print(sol(num))"
   ]
  },
  {
   "cell_type": "markdown",
   "id": "857cfc42",
   "metadata": {},
   "source": [
    "### 76. 안전한 땅\n",
    "가장 먼저 테스트 케이스의 수를 나타내는 1이상 100 이하의 자연수가 주어집니다. 각 테스트 케이스의 첫 줄에는 수색할 도시의 크기 a와 수색반이 한번에 수색 가능한 범위 b가 주어집니다. (a와 b 모두 정사각형의 가로 또는 세로를 나타냅니다. 예를들어 10이 주어지면 10x10칸의 크기를 나타냅니다.)\n",
    "\n",
    "그 후 a줄에 걸쳐 도시 내 지뢰가 있는지의 여부가 나타납니다. 0은 지뢰가 없음 1은 지뢰가 있음을 뜻합니다.\n",
    "\n",
    "각 테스트 케이스에 대해 수색 가능한 범위 bxb 내에서 찾아낼 수 있는 가장 큰 지뢰의 갯수를 구하세요"
   ]
  },
  {
   "cell_type": "code",
   "execution_count": null,
   "id": "fa5d1341",
   "metadata": {},
   "outputs": [],
   "source": [
    "입력\n",
    "1\n",
    "5 3\n",
    "1 0 0 1 0\n",
    "0 1 0 0 1\n",
    "0 0 0 1 0\n",
    "0 0 0 0 0\n",
    "0 0 1 0 0\n",
    "\n",
    "출력\n",
    "3"
   ]
  },
  {
   "cell_type": "code",
   "execution_count": 9,
   "id": "decbf5d1",
   "metadata": {},
   "outputs": [
    {
     "ename": "TypeError",
     "evalue": "list indices must be integers or slices, not tuple",
     "output_type": "error",
     "traceback": [
      "\u001b[1;31m---------------------------------------------------------------------------\u001b[0m",
      "\u001b[1;31mTypeError\u001b[0m                                 Traceback (most recent call last)",
      "\u001b[1;32m<ipython-input-9-10a7eb73b48f>\u001b[0m in \u001b[0;36m<module>\u001b[1;34m\u001b[0m\n\u001b[0;32m     14\u001b[0m \u001b[1;32mfor\u001b[0m \u001b[0mi\u001b[0m \u001b[1;32min\u001b[0m \u001b[0mrange\u001b[0m\u001b[1;33m(\u001b[0m\u001b[0m도시크기\u001b[0m \u001b[1;33m-\u001b[0m \u001b[0m수색가능범위\u001b[0m \u001b[1;33m+\u001b[0m \u001b[1;36m1\u001b[0m\u001b[1;33m)\u001b[0m\u001b[1;33m:\u001b[0m\u001b[1;33m\u001b[0m\u001b[1;33m\u001b[0m\u001b[0m\n\u001b[0;32m     15\u001b[0m     \u001b[1;32mfor\u001b[0m \u001b[0mj\u001b[0m \u001b[1;32min\u001b[0m \u001b[0mrange\u001b[0m\u001b[1;33m(\u001b[0m\u001b[0m수색가능범위\u001b[0m\u001b[1;33m)\u001b[0m\u001b[1;33m:\u001b[0m\u001b[1;33m\u001b[0m\u001b[1;33m\u001b[0m\u001b[0m\n\u001b[1;32m---> 16\u001b[1;33m         \u001b[1;32mif\u001b[0m \u001b[0mnp\u001b[0m\u001b[1;33m.\u001b[0m\u001b[0msum\u001b[0m\u001b[1;33m(\u001b[0m\u001b[0m지뢰밭\u001b[0m\u001b[1;33m[\u001b[0m\u001b[0mi\u001b[0m\u001b[1;33m:\u001b[0m\u001b[0m수색가능범위\u001b[0m\u001b[1;33m+\u001b[0m\u001b[0mi\u001b[0m\u001b[1;33m,\u001b[0m \u001b[0mj\u001b[0m\u001b[1;33m:\u001b[0m\u001b[0m수색가능범위\u001b[0m\u001b[1;33m+\u001b[0m\u001b[0mj\u001b[0m\u001b[1;33m]\u001b[0m\u001b[1;33m)\u001b[0m \u001b[1;33m>\u001b[0m \u001b[0ms\u001b[0m\u001b[1;33m:\u001b[0m\u001b[1;33m\u001b[0m\u001b[1;33m\u001b[0m\u001b[0m\n\u001b[0m\u001b[0;32m     17\u001b[0m             \u001b[0ms\u001b[0m \u001b[1;33m=\u001b[0m \u001b[0mnp\u001b[0m\u001b[1;33m.\u001b[0m\u001b[0msum\u001b[0m\u001b[1;33m(\u001b[0m\u001b[0m지뢰밭\u001b[0m\u001b[1;33m[\u001b[0m\u001b[0mi\u001b[0m\u001b[1;33m:\u001b[0m\u001b[0m수색가능범위\u001b[0m\u001b[1;33m+\u001b[0m\u001b[0mi\u001b[0m\u001b[1;33m,\u001b[0m \u001b[0mj\u001b[0m\u001b[1;33m:\u001b[0m\u001b[0m수색가능범위\u001b[0m\u001b[1;33m+\u001b[0m\u001b[0mj\u001b[0m\u001b[1;33m]\u001b[0m\u001b[1;33m)\u001b[0m\u001b[1;33m\u001b[0m\u001b[1;33m\u001b[0m\u001b[0m\n\u001b[0;32m     18\u001b[0m \u001b[1;33m\u001b[0m\u001b[0m\n",
      "\u001b[1;31mTypeError\u001b[0m: list indices must be integers or slices, not tuple"
     ]
    }
   ],
   "source": [
    "import numpy as np\n",
    "\n",
    "도시크기 = 5\n",
    "수색가능범위 = 3\n",
    "\n",
    "지뢰밭 = [[1, 0, 0, 1, 0],\n",
    "          [0, 1, 0, 0, 1],\n",
    "          [0, 0, 0, 1, 0],\n",
    "          [0, 0, 0, 0, 0],\n",
    "          [0, 0, 1, 0, 0]]\n",
    "\n",
    "s = 0\n",
    "\n",
    "for i in range(도시크기 - 수색가능범위 + 1):\n",
    "    for j in range(수색가능범위):\n",
    "        if np.sum(지뢰밭[i:수색가능범위+i, j:수색가능범위+j]) > s:\n",
    "            s = np.sum(지뢰밭[i:수색가능범위+i, j:수색가능범위+j])\n",
    "            \n",
    "print(s)"
   ]
  },
  {
   "cell_type": "markdown",
   "id": "71cb1f3a",
   "metadata": {},
   "source": [
    "### 77. 가장 긴 공통 부분 문자열\n",
    "예를 들어 S1 = ['T', 'H', 'E', 'S', 'T', 'R', 'I', 'N', 'G', 'S'] S2 = ['T', 'H', 'I', 'S', 'I', 'S']라는 두 문자열이 있을 때 둘 사이의 부분 공통 문자열의 길이는 ['T', 'H', 'S', 'T', 'I', 'S'] 의 6개가 됩니다.\n",
    "\n",
    "이처럼 두 문자열이 주어지면 가장 긴 부분 공통 문자열의 길이를 반환 하는 프로그램을 만들어 주세요.\n",
    "\n",
    "두 개의 문자열이 한 줄에 하나씩 주어집니다. 문자열은 알파벳 대문자로만 구성되며 그 길이는 100글자가 넘어가지 않습니다.\n",
    "\n",
    "출력은 이 두 문자열의 가장 긴 부분 공통 문자열의 길이를 반환하면 됩니다."
   ]
  },
  {
   "cell_type": "code",
   "execution_count": 10,
   "id": "a084a036",
   "metadata": {},
   "outputs": [
    {
     "name": "stdout",
     "output_type": "stream",
     "text": [
      "THESTRINGS\n",
      "THISIS\n",
      "2\n"
     ]
    }
   ],
   "source": [
    "def sol(strings):\n",
    "    result = []\n",
    "    for i in range(1,len(strings)+1):\n",
    "        for j in range(i):\n",
    "            result.append(strings[j:j+len(strings)-i+1])\n",
    "    return result\n",
    "\n",
    "input1 = input()\n",
    "input2 = input()\n",
    "\n",
    "list1 = set(sol(input1))\n",
    "list2 = set(sol(input2))\n",
    "\n",
    "answers = list1.intersection(list2)\n",
    "\n",
    "answer = max(answers,key=len)\n",
    "\n",
    "print(len(answer))"
   ]
  },
  {
   "cell_type": "markdown",
   "id": "fe321d44",
   "metadata": {},
   "source": [
    "### 78. 원형테이블\n",
    "원형테이블에는 N개의 음식들이 있습니다. 한개의 음식을 다 먹으면 그 음식의 시계방향으로 K번째 음식을 먹습니다. 하지만 아직 오지 않은 친구들을 위해 2개의 접시를 남겨야 합니다.\n",
    "\n",
    "마지막으로 남는 음식은 어떤 접시인가요?\n",
    "\n",
    "입력은 2개의 정수로 이루어지며 공백으로 구분되어 입력됩니다.\n",
    "첫번째 숫자가 음식의 개수 N, 두번째 숫자가 K입니다.\n",
    "첫번째 가져가는 음식이 K이며 나머지는 첫번째 음식으로부터 시계방향으로 가져갑니다."
   ]
  },
  {
   "cell_type": "code",
   "execution_count": null,
   "id": "d52ac369",
   "metadata": {},
   "outputs": [],
   "source": [
    "입력\n",
    "6 3\n",
    "\n",
    "* 남은 음식들의 번호를 리스트 형태로 출력합니다.\n",
    "\n",
    "출력\n",
    "[3, 5]"
   ]
  },
  {
   "cell_type": "code",
   "execution_count": 11,
   "id": "b34e7305",
   "metadata": {},
   "outputs": [
    {
     "name": "stdout",
     "output_type": "stream",
     "text": [
      "6 3\n",
      "[3, 5]\n"
     ]
    }
   ],
   "source": [
    "a = input().split(' ')\n",
    "n, k = a\n",
    "\n",
    "def sol(n, k):\n",
    "    i = 0\n",
    "    q = [i for i in range(1,n + 1)]\n",
    "\n",
    "    while len(q) > 2:\n",
    "        if i > len(q)-1:\n",
    "            i -= len(q)\n",
    "        q.pop(i)\n",
    "        i += k\n",
    "        i -= 1\n",
    "    print(q)\n",
    "sol(int(n),int(k))"
   ]
  },
  {
   "cell_type": "markdown",
   "id": "f95da9df",
   "metadata": {},
   "source": [
    "### 79. 순환하는 리스트\n",
    "음의 값이 주어졌을 때\n",
    "\n",
    "l = [10, 20, 25, 27, 34, 35, 39]\n",
    "n번 순회를 결정합니다. 예를 들어 2번 순회면\n",
    "\n",
    "l = [35, 39, 10, 20, 25, 27, 34]\n",
    "여기서 변하기 전 원소와 변한 후 원소의 값의 차가 가장 작은 값을 출력하는 프로그램을 작성하세요.\n",
    "\n",
    "예를 들어 2번 순회했을 때 변하기 전의 리스트와 변한 후의 리스트의 값은 아래와 같습니다.\n",
    "\n",
    "순회전_리스트 = [10, 20, 25, 27, 34, 35, 39] 순회후_리스트 = [35, 39, 10, 20, 25, 27, 34] 리스트의_차 = [25, 19, 15, 7, 9, 8, 5]\n",
    "\n",
    "39와 변한 후의 34 값의 차가 5이므로 리스트의 차 중 최솟값 입니다. 따라서 39와 34의 인덱스인 6과 39와 34를 출력하는 프로그램을 만들어주세요."
   ]
  },
  {
   "cell_type": "code",
   "execution_count": null,
   "id": "267730e0",
   "metadata": {},
   "outputs": [],
   "source": [
    "l = [10, 20, 25, 27, 34, 35, 39]\n",
    "n = int(input('순회 횟수는 :'))\n",
    "\n",
    "def rotate(inL, inN):\n",
    "\n",
    "        <빈칸을 채워주세요>\n",
    "\n",
    "rotate(l, n)\n",
    "입력\n",
    "순회 횟수는 : 2\n",
    "\n",
    "출력\n",
    "index : 6\n",
    "value : 39, 34"
   ]
  },
  {
   "cell_type": "code",
   "execution_count": 12,
   "id": "fda4c148",
   "metadata": {},
   "outputs": [
    {
     "name": "stdout",
     "output_type": "stream",
     "text": [
      "순회 횟수는 :2\n",
      "index : 6\n",
      "value : 39 34\n"
     ]
    }
   ],
   "source": [
    "l = [10, 20, 25, 27, 34, 35, 39]\n",
    "n = int(input('순회 횟수는 :'))\n",
    "def sol(l, n):\n",
    "    b = l.copy()\n",
    "    c = []\n",
    "    for i in range(n):\n",
    "        b.insert(0,b.pop())\n",
    "    for i,j in zip(l,b):\n",
    "        c.append(abs(i-j))\n",
    "    index = c.index(min(c))\n",
    "    print(\"index :\",index)\n",
    "    print(\"value :\",l[index],b[index])\n",
    "\n",
    "sol(l, n)"
   ]
  },
  {
   "cell_type": "markdown",
   "id": "fc6635f3",
   "metadata": {},
   "source": [
    "### 80. 순열과 조합\n",
    "조합이란 원소들을 조합하여 만들 수 있는 경우의 수이며 원소의 순서는 신경쓰지 않습니다. 순열이란 원소의 값이 같더라도 순서가 다르면 서로 다른 원소로 취급하는 선택법입니다.\n",
    "\n",
    "한글의 자모 24자 중 자음은 총 14개 입니다. 이 중 입력받은 자음을 n개를 선택하여 나올 수 있는 모든 조합과, 조합의 수를 출력하고 싶습니다.\n",
    "\n",
    "‘한글 맞춤법’의 제2장 제4항에서는 한글의 기본 자모 24자 “ㄱ(기역), ㄴ(니은), ㄷ(디귿), ㄹ(리을), ㅁ(미음), ㅂ(비읍), ㅅ(시옷), ㅇ(이응), ㅈ(지읒), ㅊ(치읓), ㅋ(키읔), ㅌ(티읕), ㅍ(피읖), ㅎ(히읗), ㅏ(아), ㅑ(야), ㅓ(어), ㅕ(여), ㅗ(오), ㅛ(요), ㅜ(우), ㅠ(유), ㅡ(으), ㅣ(이)”를 제시\n",
    "\n",
    "나올 수 있는 모든 조합을 아래와 같이 출력해주세요.\n",
    "\n",
    "<요구조건>\n",
    "\n",
    "- 첫 줄에 선택할 한글 자음이 주어집니다.\n",
    "- 두번째 줄에 조합의 수가 주어집니다.\n",
    "- 주어진 조합의 수에 따라 조합과 조합의 수를 출력해주세요."
   ]
  },
  {
   "cell_type": "code",
   "execution_count": null,
   "id": "47ad98ac",
   "metadata": {},
   "outputs": [],
   "source": [
    "입력\n",
    "ㄱ,ㄴ,ㄷ,ㄹ\n",
    "3\n",
    "\n",
    "출력\n",
    "['ㄱㄴㄷ', 'ㄱㄴㄹ', 'ㄱㄷㄹ', 'ㄴㄷㄹ']\n",
    "4"
   ]
  },
  {
   "cell_type": "code",
   "execution_count": 13,
   "id": "ab336545",
   "metadata": {},
   "outputs": [
    {
     "name": "stdout",
     "output_type": "stream",
     "text": [
      "ㄱ, ㄴ, ㄷ, ㄹ\n",
      "3\n",
      "['ㄱ ㄴ ㄷ', 'ㄱ ㄴ ㄹ', 'ㄱ ㄷ ㄹ', ' ㄴ ㄷ ㄹ']\n"
     ]
    }
   ],
   "source": [
    "from itertools import combinations\n",
    "\n",
    "import itertools\n",
    "\n",
    "user_input = input().split(',')\n",
    "user_input_int = int(input())\n",
    "\n",
    "print(list(map(''.join, combinations(user_input, user_input_int))))"
   ]
  }
 ],
 "metadata": {
  "kernelspec": {
   "display_name": "Python 3",
   "language": "python",
   "name": "python3"
  },
  "language_info": {
   "codemirror_mode": {
    "name": "ipython",
    "version": 3
   },
   "file_extension": ".py",
   "mimetype": "text/x-python",
   "name": "python",
   "nbconvert_exporter": "python",
   "pygments_lexer": "ipython3",
   "version": "3.8.8"
  }
 },
 "nbformat": 4,
 "nbformat_minor": 5
}
